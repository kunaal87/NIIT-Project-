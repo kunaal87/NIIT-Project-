{
 "cells": [
  {
   "cell_type": "code",
   "execution_count": 1,
   "id": "5ef91e04-3f09-4c24-abd4-56eeb69a37db",
   "metadata": {},
   "outputs": [],
   "source": [
    "import pandas as pd\n",
    "from sklearn import preprocessing \n",
    "from sklearn.preprocessing import MinMaxScaler\n",
    "from sklearn.model_selection import train_test_split\n",
    "import numpy as np\n",
    "import seaborn as sns\n",
    "import matplotlib.pyplot as plt\n",
    "from sklearn.linear_model import LinearRegression\n",
    "from statsmodels.stats.outliers_influence import variance_inflation_factor\n",
    "from sklearn.metrics import mean_squared_error #MSE and RMSE \n",
    "from sklearn.metrics import mean_absolute_error #MAE\n",
    "from sklearn.metrics import r2_score #r_square\n",
    "import warnings\n",
    "warnings.filterwarnings('ignore')"
   ]
  },
  {
   "cell_type": "code",
   "execution_count": 2,
   "id": "5373859d-fb9b-414b-abe2-0c1394a3794a",
   "metadata": {
    "scrolled": true
   },
   "outputs": [
    {
     "data": {
      "text/html": [
       "<div>\n",
       "<style scoped>\n",
       "    .dataframe tbody tr th:only-of-type {\n",
       "        vertical-align: middle;\n",
       "    }\n",
       "\n",
       "    .dataframe tbody tr th {\n",
       "        vertical-align: top;\n",
       "    }\n",
       "\n",
       "    .dataframe thead th {\n",
       "        text-align: right;\n",
       "    }\n",
       "</style>\n",
       "<table border=\"1\" class=\"dataframe\">\n",
       "  <thead>\n",
       "    <tr style=\"text-align: right;\">\n",
       "      <th></th>\n",
       "      <th>Unnamed: 0</th>\n",
       "      <th>ID</th>\n",
       "      <th>Reason for absence</th>\n",
       "      <th>Month of absence</th>\n",
       "      <th>Day of the week</th>\n",
       "      <th>Seasons</th>\n",
       "      <th>Transportation expense</th>\n",
       "      <th>Distance from Residence to Work</th>\n",
       "      <th>Service time</th>\n",
       "      <th>Age</th>\n",
       "      <th>...</th>\n",
       "      <th>Disciplinary failure</th>\n",
       "      <th>Education</th>\n",
       "      <th>Son</th>\n",
       "      <th>Social drinker</th>\n",
       "      <th>Social smoker</th>\n",
       "      <th>Pet</th>\n",
       "      <th>Weight</th>\n",
       "      <th>Height</th>\n",
       "      <th>Body mass index</th>\n",
       "      <th>Absenteeism time in hours</th>\n",
       "    </tr>\n",
       "  </thead>\n",
       "  <tbody>\n",
       "    <tr>\n",
       "      <th>0</th>\n",
       "      <td>0</td>\n",
       "      <td>11</td>\n",
       "      <td>26</td>\n",
       "      <td>7</td>\n",
       "      <td>3</td>\n",
       "      <td>1</td>\n",
       "      <td>289</td>\n",
       "      <td>36</td>\n",
       "      <td>13</td>\n",
       "      <td>33</td>\n",
       "      <td>...</td>\n",
       "      <td>0</td>\n",
       "      <td>1</td>\n",
       "      <td>2</td>\n",
       "      <td>1</td>\n",
       "      <td>0</td>\n",
       "      <td>1</td>\n",
       "      <td>90</td>\n",
       "      <td>172</td>\n",
       "      <td>30</td>\n",
       "      <td>4</td>\n",
       "    </tr>\n",
       "    <tr>\n",
       "      <th>1</th>\n",
       "      <td>1</td>\n",
       "      <td>36</td>\n",
       "      <td>0</td>\n",
       "      <td>7</td>\n",
       "      <td>3</td>\n",
       "      <td>1</td>\n",
       "      <td>118</td>\n",
       "      <td>13</td>\n",
       "      <td>18</td>\n",
       "      <td>50</td>\n",
       "      <td>...</td>\n",
       "      <td>1</td>\n",
       "      <td>1</td>\n",
       "      <td>1</td>\n",
       "      <td>1</td>\n",
       "      <td>0</td>\n",
       "      <td>0</td>\n",
       "      <td>98</td>\n",
       "      <td>178</td>\n",
       "      <td>31</td>\n",
       "      <td>0</td>\n",
       "    </tr>\n",
       "    <tr>\n",
       "      <th>2</th>\n",
       "      <td>2</td>\n",
       "      <td>3</td>\n",
       "      <td>23</td>\n",
       "      <td>7</td>\n",
       "      <td>4</td>\n",
       "      <td>1</td>\n",
       "      <td>179</td>\n",
       "      <td>51</td>\n",
       "      <td>18</td>\n",
       "      <td>38</td>\n",
       "      <td>...</td>\n",
       "      <td>0</td>\n",
       "      <td>1</td>\n",
       "      <td>0</td>\n",
       "      <td>1</td>\n",
       "      <td>0</td>\n",
       "      <td>0</td>\n",
       "      <td>89</td>\n",
       "      <td>170</td>\n",
       "      <td>31</td>\n",
       "      <td>2</td>\n",
       "    </tr>\n",
       "    <tr>\n",
       "      <th>3</th>\n",
       "      <td>3</td>\n",
       "      <td>7</td>\n",
       "      <td>7</td>\n",
       "      <td>7</td>\n",
       "      <td>5</td>\n",
       "      <td>1</td>\n",
       "      <td>279</td>\n",
       "      <td>5</td>\n",
       "      <td>14</td>\n",
       "      <td>39</td>\n",
       "      <td>...</td>\n",
       "      <td>0</td>\n",
       "      <td>1</td>\n",
       "      <td>2</td>\n",
       "      <td>1</td>\n",
       "      <td>1</td>\n",
       "      <td>0</td>\n",
       "      <td>68</td>\n",
       "      <td>168</td>\n",
       "      <td>24</td>\n",
       "      <td>4</td>\n",
       "    </tr>\n",
       "    <tr>\n",
       "      <th>4</th>\n",
       "      <td>4</td>\n",
       "      <td>11</td>\n",
       "      <td>23</td>\n",
       "      <td>7</td>\n",
       "      <td>5</td>\n",
       "      <td>1</td>\n",
       "      <td>289</td>\n",
       "      <td>36</td>\n",
       "      <td>13</td>\n",
       "      <td>33</td>\n",
       "      <td>...</td>\n",
       "      <td>0</td>\n",
       "      <td>1</td>\n",
       "      <td>2</td>\n",
       "      <td>1</td>\n",
       "      <td>0</td>\n",
       "      <td>1</td>\n",
       "      <td>90</td>\n",
       "      <td>172</td>\n",
       "      <td>30</td>\n",
       "      <td>2</td>\n",
       "    </tr>\n",
       "    <tr>\n",
       "      <th>...</th>\n",
       "      <td>...</td>\n",
       "      <td>...</td>\n",
       "      <td>...</td>\n",
       "      <td>...</td>\n",
       "      <td>...</td>\n",
       "      <td>...</td>\n",
       "      <td>...</td>\n",
       "      <td>...</td>\n",
       "      <td>...</td>\n",
       "      <td>...</td>\n",
       "      <td>...</td>\n",
       "      <td>...</td>\n",
       "      <td>...</td>\n",
       "      <td>...</td>\n",
       "      <td>...</td>\n",
       "      <td>...</td>\n",
       "      <td>...</td>\n",
       "      <td>...</td>\n",
       "      <td>...</td>\n",
       "      <td>...</td>\n",
       "      <td>...</td>\n",
       "    </tr>\n",
       "    <tr>\n",
       "      <th>735</th>\n",
       "      <td>735</td>\n",
       "      <td>11</td>\n",
       "      <td>14</td>\n",
       "      <td>7</td>\n",
       "      <td>3</td>\n",
       "      <td>1</td>\n",
       "      <td>289</td>\n",
       "      <td>36</td>\n",
       "      <td>13</td>\n",
       "      <td>33</td>\n",
       "      <td>...</td>\n",
       "      <td>0</td>\n",
       "      <td>1</td>\n",
       "      <td>2</td>\n",
       "      <td>1</td>\n",
       "      <td>0</td>\n",
       "      <td>1</td>\n",
       "      <td>90</td>\n",
       "      <td>172</td>\n",
       "      <td>30</td>\n",
       "      <td>8</td>\n",
       "    </tr>\n",
       "    <tr>\n",
       "      <th>736</th>\n",
       "      <td>736</td>\n",
       "      <td>1</td>\n",
       "      <td>11</td>\n",
       "      <td>7</td>\n",
       "      <td>3</td>\n",
       "      <td>1</td>\n",
       "      <td>235</td>\n",
       "      <td>11</td>\n",
       "      <td>14</td>\n",
       "      <td>37</td>\n",
       "      <td>...</td>\n",
       "      <td>0</td>\n",
       "      <td>3</td>\n",
       "      <td>1</td>\n",
       "      <td>0</td>\n",
       "      <td>0</td>\n",
       "      <td>1</td>\n",
       "      <td>88</td>\n",
       "      <td>172</td>\n",
       "      <td>29</td>\n",
       "      <td>4</td>\n",
       "    </tr>\n",
       "    <tr>\n",
       "      <th>737</th>\n",
       "      <td>737</td>\n",
       "      <td>4</td>\n",
       "      <td>0</td>\n",
       "      <td>0</td>\n",
       "      <td>3</td>\n",
       "      <td>1</td>\n",
       "      <td>118</td>\n",
       "      <td>14</td>\n",
       "      <td>13</td>\n",
       "      <td>40</td>\n",
       "      <td>...</td>\n",
       "      <td>0</td>\n",
       "      <td>1</td>\n",
       "      <td>1</td>\n",
       "      <td>1</td>\n",
       "      <td>0</td>\n",
       "      <td>8</td>\n",
       "      <td>98</td>\n",
       "      <td>170</td>\n",
       "      <td>34</td>\n",
       "      <td>0</td>\n",
       "    </tr>\n",
       "    <tr>\n",
       "      <th>738</th>\n",
       "      <td>738</td>\n",
       "      <td>8</td>\n",
       "      <td>0</td>\n",
       "      <td>0</td>\n",
       "      <td>4</td>\n",
       "      <td>2</td>\n",
       "      <td>231</td>\n",
       "      <td>35</td>\n",
       "      <td>14</td>\n",
       "      <td>39</td>\n",
       "      <td>...</td>\n",
       "      <td>0</td>\n",
       "      <td>1</td>\n",
       "      <td>2</td>\n",
       "      <td>1</td>\n",
       "      <td>0</td>\n",
       "      <td>2</td>\n",
       "      <td>100</td>\n",
       "      <td>170</td>\n",
       "      <td>35</td>\n",
       "      <td>0</td>\n",
       "    </tr>\n",
       "    <tr>\n",
       "      <th>739</th>\n",
       "      <td>739</td>\n",
       "      <td>35</td>\n",
       "      <td>0</td>\n",
       "      <td>0</td>\n",
       "      <td>6</td>\n",
       "      <td>3</td>\n",
       "      <td>179</td>\n",
       "      <td>45</td>\n",
       "      <td>14</td>\n",
       "      <td>53</td>\n",
       "      <td>...</td>\n",
       "      <td>0</td>\n",
       "      <td>1</td>\n",
       "      <td>1</td>\n",
       "      <td>0</td>\n",
       "      <td>0</td>\n",
       "      <td>1</td>\n",
       "      <td>77</td>\n",
       "      <td>175</td>\n",
       "      <td>25</td>\n",
       "      <td>0</td>\n",
       "    </tr>\n",
       "  </tbody>\n",
       "</table>\n",
       "<p>740 rows × 22 columns</p>\n",
       "</div>"
      ],
      "text/plain": [
       "     Unnamed: 0  ID  Reason for absence  Month of absence  Day of the week  \\\n",
       "0             0  11                  26                 7                3   \n",
       "1             1  36                   0                 7                3   \n",
       "2             2   3                  23                 7                4   \n",
       "3             3   7                   7                 7                5   \n",
       "4             4  11                  23                 7                5   \n",
       "..          ...  ..                 ...               ...              ...   \n",
       "735         735  11                  14                 7                3   \n",
       "736         736   1                  11                 7                3   \n",
       "737         737   4                   0                 0                3   \n",
       "738         738   8                   0                 0                4   \n",
       "739         739  35                   0                 0                6   \n",
       "\n",
       "     Seasons  Transportation expense  Distance from Residence to Work  \\\n",
       "0          1                     289                               36   \n",
       "1          1                     118                               13   \n",
       "2          1                     179                               51   \n",
       "3          1                     279                                5   \n",
       "4          1                     289                               36   \n",
       "..       ...                     ...                              ...   \n",
       "735        1                     289                               36   \n",
       "736        1                     235                               11   \n",
       "737        1                     118                               14   \n",
       "738        2                     231                               35   \n",
       "739        3                     179                               45   \n",
       "\n",
       "     Service time  Age  ...  Disciplinary failure  Education  Son  \\\n",
       "0              13   33  ...                     0          1    2   \n",
       "1              18   50  ...                     1          1    1   \n",
       "2              18   38  ...                     0          1    0   \n",
       "3              14   39  ...                     0          1    2   \n",
       "4              13   33  ...                     0          1    2   \n",
       "..            ...  ...  ...                   ...        ...  ...   \n",
       "735            13   33  ...                     0          1    2   \n",
       "736            14   37  ...                     0          3    1   \n",
       "737            13   40  ...                     0          1    1   \n",
       "738            14   39  ...                     0          1    2   \n",
       "739            14   53  ...                     0          1    1   \n",
       "\n",
       "     Social drinker  Social smoker  Pet  Weight  Height  Body mass index  \\\n",
       "0                 1              0    1      90     172               30   \n",
       "1                 1              0    0      98     178               31   \n",
       "2                 1              0    0      89     170               31   \n",
       "3                 1              1    0      68     168               24   \n",
       "4                 1              0    1      90     172               30   \n",
       "..              ...            ...  ...     ...     ...              ...   \n",
       "735               1              0    1      90     172               30   \n",
       "736               0              0    1      88     172               29   \n",
       "737               1              0    8      98     170               34   \n",
       "738               1              0    2     100     170               35   \n",
       "739               0              0    1      77     175               25   \n",
       "\n",
       "     Absenteeism time in hours  \n",
       "0                            4  \n",
       "1                            0  \n",
       "2                            2  \n",
       "3                            4  \n",
       "4                            2  \n",
       "..                         ...  \n",
       "735                          8  \n",
       "736                          4  \n",
       "737                          0  \n",
       "738                          0  \n",
       "739                          0  \n",
       "\n",
       "[740 rows x 22 columns]"
      ]
     },
     "execution_count": 2,
     "metadata": {},
     "output_type": "execute_result"
    }
   ],
   "source": [
    "df = pd.read_csv(\"C:\\\\Users\\\\Surin\\\\Downloads\\\\DS1_C9_S7_Project_AbsenteeismAtWork_Data.csv\")\n",
    "df"
   ]
  },
  {
   "cell_type": "code",
   "execution_count": 3,
   "id": "38655d2e-1dfb-44af-bfd8-f7707100d375",
   "metadata": {},
   "outputs": [],
   "source": [
    "df.drop([\"Unnamed: 0\"],axis=1,inplace=True)"
   ]
  },
  {
   "cell_type": "code",
   "execution_count": 4,
   "id": "eb470da5-8955-41b5-857d-d20edbd854fe",
   "metadata": {},
   "outputs": [],
   "source": [
    "conti = [\"Month of absence\", \"Transportation expense\",\"Son\",\"Hit target\",\"Distance from Residence to Work\",\"Pet\", \"Service time\", \"Age\", \"Work load Average/day \", \"Weight\", \"Height\",\"Body mass index\",\"Absenteeism time in hours\"]"
   ]
  },
  {
   "cell_type": "code",
   "execution_count": 5,
   "id": "f64fe06a-2fcd-4c3f-b8b3-753039d7ce2e",
   "metadata": {},
   "outputs": [
    {
     "name": "stdout",
     "output_type": "stream",
     "text": [
      "Month of absence  has values:\n",
      " [ 7  8  9 10 11 12  1  2  3  4  5  6  0]\n"
     ]
    },
    {
     "data": {
      "image/png": "[encoded data removed]",
      "text/plain": [
       "<Figure size 1400x600 with 1 Axes>"
      ]
     },
     "metadata": {},
     "output_type": "display_data"
    }
   ],
   "source": [
    "def treat_outlier(df, conti):\n",
    "    q1 = df[conti].quantile(0.25)\n",
    "    q3 = df[conti].quantile(0.75)\n",
    "    \n",
    "    iqr = q3 - q1\n",
    "    \n",
    "    lower_fence = q1 - (1.5 * iqr)\n",
    "    upper_fence = q3 + (1.5 * iqr)\n",
    "    median_value = df[conti].median()\n",
    "    \n",
    "    df.loc[df[conti] < lower_fence, conti] = median_value\n",
    "    df.loc[df[conti] > upper_fence, conti] = median_value\n",
    "    \n",
    "    return df\n",
    " \n",
    "def analyze_numerical_columns(df, conti):\n",
    "    for column in conti:\n",
    "\n",
    "        # Treat outliers\n",
    "        df = treat_outlier(df, column)\n",
    "        print(column, \" has values:\\n\", df[column].unique())\n",
    "        \n",
    "        plt.figure(figsize=(14, 6))\n",
    "        \n",
    "        # Boxplot \n",
    "        sns.boxplot(x=df[column])\n",
    "        plt.title(f'Box plot of {column}')\n",
    "        \n",
    "        plt.show()\n",
    "conti = [\"Month of absence\"]\n",
    "\n",
    "\n",
    "analyze_numerical_columns(df, conti)"
   ]
  },
  {
   "cell_type": "code",
   "execution_count": 6,
   "id": "961f8f6c-8d48-4413-b441-f38f731c8796",
   "metadata": {},
   "outputs": [],
   "source": [
    "# Why is the ID column is having repeated values\n",
    "# It happens because employees can have multiple absenteeism entries over time, recorded under the same ID "
   ]
  },
  {
   "cell_type": "code",
   "execution_count": 7,
   "id": "e3780b20-66a1-4cfe-95dc-ece89b2731bd",
   "metadata": {},
   "outputs": [
    {
     "data": {
      "image/png": "[encoded data removed]",
      "text/plain": [
       "<Figure size 640x480 with 1 Axes>"
      ]
     },
     "metadata": {},
     "output_type": "display_data"
    }
   ],
   "source": [
    "#1 What is the overall distribution of the Reason for absence?\n",
    "sns.countplot(x=\"Reason for absence\", data=df)\n",
    "plt.title(\"Distribution of Reason for Absence\")\n",
    "plt.xticks(rotation=45)\n",
    "plt.show()"
   ]
  },
  {
   "cell_type": "code",
   "execution_count": 8,
   "id": "fae6cb18-e4ce-4185-8891-8b744bdef4b8",
   "metadata": {},
   "outputs": [],
   "source": [
    "#Analysis : Many employees were absent due to reason number 23 i.e. medical consultation followed by 28 i.e. dental consultation"
   ]
  },
  {
   "cell_type": "code",
   "execution_count": 9,
   "id": "b90f9633-1e48-4f4d-886b-0445aa7f4eb2",
   "metadata": {},
   "outputs": [
    {
     "data": {
      "image/png": "[encoded data removed]",
      "text/plain": [
       "<Figure size 640x480 with 1 Axes>"
      ]
     },
     "metadata": {},
     "output_type": "display_data"
    }
   ],
   "source": [
    "#2 What are the most common days of the week for absences?\n",
    "sns.countplot(x=\"Day of the week\", data=df)\n",
    "plt.title(\"Most Common Days of the Week for Absences\")\n",
    "plt.show()"
   ]
  },
  {
   "cell_type": "code",
   "execution_count": 10,
   "id": "4afb0233-5250-4cad-94d5-7035879d7807",
   "metadata": {},
   "outputs": [],
   "source": [
    "#Analysis: There are 3 days which are almost equal where the number of employees took off are same i.e. 2,3,4 - Monday,Tuesday&Wednesday"
   ]
  },
  {
   "cell_type": "code",
   "execution_count": 11,
   "id": "a120d8ea-4154-43bb-a4ad-179cb83b03cf",
   "metadata": {},
   "outputs": [
    {
     "data": {
      "image/png": "[encoded data removed]",
      "text/plain": [
       "<Figure size 640x480 with 1 Axes>"
      ]
     },
     "metadata": {},
     "output_type": "display_data"
    }
   ],
   "source": [
    "#3 What is the distribution of Transportation expense across employees?\n",
    "sns.histplot(df[\"Transportation expense\"], bins=20)\n",
    "plt.title(\"Distribution of Transportation Expense\")\n",
    "plt.show()"
   ]
  },
  {
   "cell_type": "code",
   "execution_count": 12,
   "id": "5ec2c9b5-453c-470a-838c-f32df94f7d1b",
   "metadata": {},
   "outputs": [],
   "source": [
    "#Analysis: There are a huge number of employees who spends between 150-200 to come to office everyday. "
   ]
  },
  {
   "cell_type": "code",
   "execution_count": 13,
   "id": "40480d1e-3d46-449f-955d-b3cb270f8e4f",
   "metadata": {},
   "outputs": [
    {
     "name": "stdout",
     "output_type": "stream",
     "text": [
      "Average Distance: 29.63108108108108\n",
      "Median Distance: 26.0\n"
     ]
    }
   ],
   "source": [
    "#4 What is the average and median Distance from Residence to Work?\n",
    "avg_distance = df[\"Distance from Residence to Work\"].mean()\n",
    "median_distance = df[\"Distance from Residence to Work\"].median()\n",
    "\n",
    "print(\"Average Distance:\" ,avg_distance )\n",
    "print(\"Median Distance:\" ,median_distance)"
   ]
  },
  {
   "cell_type": "code",
   "execution_count": 14,
   "id": "0e7592cf-193f-4ec7-907b-3e671e432a88",
   "metadata": {},
   "outputs": [
    {
     "data": {
      "image/png": "[encoded data removed]",
      "text/plain": [
       "<Figure size 640x480 with 1 Axes>"
      ]
     },
     "metadata": {},
     "output_type": "display_data"
    }
   ],
   "source": [
    "#5 What is the age distribution of the employees?\n",
    "sns.histplot(df[\"Age\"], bins=20)\n",
    "plt.title(\"Age Distribution of Employees\")\n",
    "plt.show()"
   ]
  },
  {
   "cell_type": "code",
   "execution_count": 15,
   "id": "b80c372b-6fa0-4cc1-ab3f-57748f138dee",
   "metadata": {},
   "outputs": [],
   "source": [
    "#Analysis: The graph shows that the company has maximum number of young employees"
   ]
  },
  {
   "cell_type": "code",
   "execution_count": 16,
   "id": "bb379e44-fa24-4fa8-b903-61e57636dbc3",
   "metadata": {},
   "outputs": [
    {
     "data": {
      "image/png": "[encoded data removed]",
      "text/plain": [
       "<Figure size 640x480 with 1 Axes>"
      ]
     },
     "metadata": {},
     "output_type": "display_data"
    }
   ],
   "source": [
    "#6 What is the distribution of Work load Average/day?\n",
    "sns.histplot(df[\"Work load Average/day \"], bins=20)\n",
    "plt.title(\"Distribution of Workload Average/Day\")\n",
    "plt.show()"
   ]
  },
  {
   "cell_type": "code",
   "execution_count": 17,
   "id": "8aa71da4-076d-4d5a-b6e7-ec8c4efdf78f",
   "metadata": {},
   "outputs": [],
   "source": [
    "#Analysis: There are around 120 number of employees whoes work load is maximum as compared to other employees in the company"
   ]
  },
  {
   "cell_type": "code",
   "execution_count": 18,
   "id": "84dd5687-0520-4a99-94bb-01c56666b6ad",
   "metadata": {},
   "outputs": [
    {
     "name": "stdout",
     "output_type": "stream",
     "text": [
      "Percentage of employees who hit their targets:9458.783783783783 %\n"
     ]
    }
   ],
   "source": [
    "#7 What percentage of employees hit their targets?\n",
    "hit_target_percentage = df[\"Hit target\"].mean() * 100\n",
    "print(\"Percentage of employees who hit their targets:{} %\".format(hit_target_percentage))"
   ]
  },
  {
   "cell_type": "code",
   "execution_count": 19,
   "id": "d72130c9-f55a-4dba-8edb-aeea93db1db3",
   "metadata": {},
   "outputs": [
    {
     "data": {
      "image/png": "[encoded data removed]",
      "text/plain": [
       "<Figure size 640x480 with 1 Axes>"
      ]
     },
     "metadata": {},
     "output_type": "display_data"
    }
   ],
   "source": [
    "#8 How frequent are Disciplinary failures?\n",
    "sns.countplot(x=\"Disciplinary failure\", data=df)\n",
    "plt.title(\"Frequency of Disciplinary Failures\")\n",
    "plt.show()"
   ]
  },
  {
   "cell_type": "code",
   "execution_count": 20,
   "id": "fc90e26f-3e95-4e7a-a60f-d05eeeacc475",
   "metadata": {},
   "outputs": [],
   "source": [
    "#Analysis: There are almost all emoloyees who have not done any disciplinary failure"
   ]
  },
  {
   "cell_type": "code",
   "execution_count": 21,
   "id": "73f4459e-f268-4782-912f-639c2a7b2de8",
   "metadata": {},
   "outputs": [
    {
     "data": {
      "image/png": "[encoded data removed]",
      "text/plain": [
       "<Figure size 640x480 with 1 Axes>"
      ]
     },
     "metadata": {},
     "output_type": "display_data"
    }
   ],
   "source": [
    "#9 What is the distribution of Education levels among employees?\n",
    "sns.countplot(x=\"Education\", data=df)\n",
    "plt.title(\"Distribution of Education Levels\")\n",
    "plt.show()"
   ]
  },
  {
   "cell_type": "code",
   "execution_count": 22,
   "id": "3b0980a6-5e5a-4551-a70b-b81b778cef23",
   "metadata": {},
   "outputs": [],
   "source": [
    "#Analysis: Maximum number of employees have done till higher education followed by postgraduate and graduate"
   ]
  },
  {
   "cell_type": "code",
   "execution_count": 23,
   "id": "4ed34189-36a5-4239-91d9-ef382b01f4a4",
   "metadata": {},
   "outputs": [
    {
     "data": {
      "image/png": "[encoded data removed]",
      "text/plain": [
       "<Figure size 640x480 with 1 Axes>"
      ]
     },
     "metadata": {},
     "output_type": "display_data"
    }
   ],
   "source": [
    "#10 How many children do employees typically have?\n",
    "sns.countplot(x=\"Son\", data=df)\n",
    "plt.title(\"Number of Children Employees Typically Have\")\n",
    "plt.show()"
   ]
  },
  {
   "cell_type": "code",
   "execution_count": 24,
   "id": "9dc094cd-3376-4b17-9077-c2647d0878d5",
   "metadata": {},
   "outputs": [],
   "source": [
    "#Analysis: Maximum number of employees have 0 number of son(s) followed by 1&2 son(s)"
   ]
  },
  {
   "cell_type": "code",
   "execution_count": 25,
   "id": "29fdbfe7-ce88-4ed9-96ef-445c605d3c94",
   "metadata": {},
   "outputs": [
    {
     "data": {
      "image/png": "[encoded data removed]",
      "text/plain": [
       "<Figure size 640x480 with 1 Axes>"
      ]
     },
     "metadata": {},
     "output_type": "display_data"
    }
   ],
   "source": [
    "#11 What is the distribution of Pet ownership?\n",
    "sns.countplot(x=\"Pet\", data=df)\n",
    "plt.title(\"Distribution of Pet Ownership\")\n",
    "plt.show()"
   ]
  },
  {
   "cell_type": "code",
   "execution_count": 26,
   "id": "d99dfc99-5e59-4e16-bd00-4813615d0554",
   "metadata": {},
   "outputs": [],
   "source": [
    "#Analysis: Maximum number of employees has 0 pets followed by 1 and 2"
   ]
  },
  {
   "cell_type": "code",
   "execution_count": 27,
   "id": "92e14ae1-b11a-421f-8e67-82200a5293d4",
   "metadata": {},
   "outputs": [
    {
     "data": {
      "image/png": "[encoded data removed]",
      "text/plain": [
       "<Figure size 640x480 with 1 Axes>"
      ]
     },
     "metadata": {},
     "output_type": "display_data"
    }
   ],
   "source": [
    "#12 What is the distribution of Weight among employees?\n",
    "sns.histplot(df[\"Weight\"], bins=20)\n",
    "plt.title(\"Distribution of Weight\")\n",
    "plt.show()"
   ]
  },
  {
   "cell_type": "code",
   "execution_count": 28,
   "id": "a2b50c44-4b97-472d-a571-0b8fdd8e5850",
   "metadata": {},
   "outputs": [],
   "source": [
    "#Analysis: There are higher number of employees whoes weight are around 90kgs followed by 70kgs"
   ]
  },
  {
   "cell_type": "code",
   "execution_count": 29,
   "id": "af85cf88-3c95-4ea9-8cff-0613cc82dd06",
   "metadata": {},
   "outputs": [
    {
     "data": {
      "image/png": "[encoded data removed]",
      "text/plain": [
       "<Figure size 640x480 with 1 Axes>"
      ]
     },
     "metadata": {},
     "output_type": "display_data"
    }
   ],
   "source": [
    "#13 What is the distribution of Height among employees?\n",
    "sns.histplot(df[\"Height\"], bins=20)\n",
    "plt.title(\"Distribution of Height\")\n",
    "plt.show()"
   ]
  },
  {
   "cell_type": "code",
   "execution_count": 30,
   "id": "7b710b74-b40f-4c48-ac82-be492ae341da",
   "metadata": {},
   "outputs": [],
   "source": [
    "#Analysis: Maximum number of employees have height of 170cm"
   ]
  },
  {
   "cell_type": "code",
   "execution_count": 31,
   "id": "423e3c19-8f24-4687-ab56-6f43ca87f68e",
   "metadata": {},
   "outputs": [
    {
     "data": {
      "image/png": "[encoded data removed]",
      "text/plain": [
       "<Figure size 640x480 with 1 Axes>"
      ]
     },
     "metadata": {},
     "output_type": "display_data"
    }
   ],
   "source": [
    "#14 What is the Body mass index distribution?\n",
    "sns.histplot(df[\"Body mass index\"], bins=20)\n",
    "plt.title(\"BMI Distribution\")\n",
    "plt.show()"
   ]
  },
  {
   "cell_type": "code",
   "execution_count": 32,
   "id": "4b0d3429-4bbb-4a2d-91cc-40a37ca9d48f",
   "metadata": {},
   "outputs": [],
   "source": [
    "#Analysis: The number of employees whoes BMI is between 30-32.5 are high"
   ]
  },
  {
   "cell_type": "code",
   "execution_count": 33,
   "id": "036228e3-0378-4ab4-a8e9-092890619682",
   "metadata": {},
   "outputs": [
    {
     "name": "stdout",
     "output_type": "stream",
     "text": [
      "                               Age  Absenteeism time in hours\n",
      "Age                        1.00000                    0.06576\n",
      "Absenteeism time in hours  0.06576                    1.00000\n"
     ]
    }
   ],
   "source": [
    "#15 Is there a correlation between Age and Absenteeism time in hours?\n",
    "correlation_age_absenteeism = df[[\"Age\", \"Absenteeism time in hours\"]].corr()\n",
    "print(correlation_age_absenteeism)"
   ]
  },
  {
   "cell_type": "code",
   "execution_count": 34,
   "id": "b11837ef-53f1-450e-9444-c80c9380ce66",
   "metadata": {},
   "outputs": [
    {
     "name": "stdout",
     "output_type": "stream",
     "text": [
      "                                 Distance from Residence to Work  \\\n",
      "Distance from Residence to Work                         1.000000   \n",
      "Absenteeism time in hours                              -0.088363   \n",
      "\n",
      "                                 Absenteeism time in hours  \n",
      "Distance from Residence to Work                  -0.088363  \n",
      "Absenteeism time in hours                         1.000000  \n"
     ]
    }
   ],
   "source": [
    "#16 Is there a relationship between Distance from Residence to Work and Absenteeism time in hours?\n",
    "correlation_distance_absenteeism = df[[\"Distance from Residence to Work\", \"Absenteeism time in hours\"]].corr()\n",
    "print(correlation_distance_absenteeism)"
   ]
  },
  {
   "cell_type": "code",
   "execution_count": 35,
   "id": "5ba3a6d9-7e40-4da0-9601-2caf5af1707f",
   "metadata": {},
   "outputs": [
    {
     "name": "stdout",
     "output_type": "stream",
     "text": [
      "                           Body mass index  Absenteeism time in hours\n",
      "Body mass index                   1.000000                  -0.049719\n",
      "Absenteeism time in hours        -0.049719                   1.000000\n"
     ]
    }
   ],
   "source": [
    "#17 Is there a correlation between Body mass index and Absenteeism time in hours?\n",
    "correlation_bmi_absenteeism = df[[\"Body mass index\", \"Absenteeism time in hours\"]].corr()\n",
    "print(correlation_bmi_absenteeism)"
   ]
  },
  {
   "cell_type": "code",
   "execution_count": 36,
   "id": "91fa8da7-ec6f-4e9a-92e2-072f2f07f5b8",
   "metadata": {},
   "outputs": [
    {
     "data": {
      "image/png": "[encoded data removed]",
      "text/plain": [
       "<Figure size 640x480 with 1 Axes>"
      ]
     },
     "metadata": {},
     "output_type": "display_data"
    }
   ],
   "source": [
    "#18 What is the overall distribution of Absenteeism time in hours?\n",
    "sns.histplot(df[\"Absenteeism time in hours\"], bins=20)\n",
    "plt.title(\"Distribution of Absenteeism Time in Hours\")\n",
    "plt.xlabel(\"Absenteeism Time\")\n",
    "plt.ylabel(\"Frequency\")\n",
    "plt.show()"
   ]
  },
  {
   "cell_type": "code",
   "execution_count": 37,
   "id": "d974ca93-d936-45f8-a872-f704f334c32d",
   "metadata": {},
   "outputs": [
    {
     "data": {
      "image/png": "[encoded data removed]",
      "text/plain": [
       "<Figure size 640x480 with 1 Axes>"
      ]
     },
     "metadata": {},
     "output_type": "display_data"
    }
   ],
   "source": [
    "#19 What is the average Absenteeism time in hours by Month of absence?\n",
    "avg_absenteeism_by_month = df.groupby(\"Month of absence\")[\"Absenteeism time in hours\"].mean()\n",
    "avg_absenteeism_by_month.plot(kind=\"bar\")\n",
    "plt.title(\"Average Absenteeism Time by Month of Absence\")\n",
    "plt.show()"
   ]
  },
  {
   "cell_type": "code",
   "execution_count": 38,
   "id": "c6c85b34-3dee-4bfd-a7df-259c81de6f04",
   "metadata": {},
   "outputs": [],
   "source": [
    "#Analysis: July is the month where the average absenteeism time was high as compared to other months"
   ]
  },
  {
   "cell_type": "code",
   "execution_count": 39,
   "id": "77fea485-4e88-4f9e-8b4d-1a3ee7fec341",
   "metadata": {},
   "outputs": [
    {
     "data": {
      "image/png": "[encoded data removed]",
      "text/plain": [
       "<Figure size 640x480 with 1 Axes>"
      ]
     },
     "metadata": {},
     "output_type": "display_data"
    }
   ],
   "source": [
    "#20 What is the average Absenteeism time in hours by Season?\n",
    "avg_absenteeism_by_season = df.groupby(\"Seasons\")[\"Absenteeism time in hours\"].mean()\n",
    "avg_absenteeism_by_season.plot(kind=\"bar\")\n",
    "plt.title(\"Average Absenteeism Time by Season\")\n",
    "plt.show()"
   ]
  },
  {
   "cell_type": "code",
   "execution_count": 40,
   "id": "e0cb797f-0f0d-4542-ad3a-8d238ca6cda6",
   "metadata": {},
   "outputs": [],
   "source": [
    "#Analysis: Winter was the season where the average absenteeism time was seen higher followed by summer"
   ]
  },
  {
   "cell_type": "code",
   "execution_count": 41,
   "id": "93a81f6c-db97-4761-b8f3-7b5d083e37ec",
   "metadata": {},
   "outputs": [],
   "source": [
    "# Most Frequent Reasons for Absence"
   ]
  },
  {
   "cell_type": "code",
   "execution_count": 42,
   "id": "b0a28e71-a970-41c9-8106-3ed5a547a45b",
   "metadata": {},
   "outputs": [
    {
     "data": {
      "text/plain": [
       "Index(['ID', 'Reason for absence', 'Month of absence', 'Day of the week',\n",
       "       'Seasons', 'Transportation expense', 'Distance from Residence to Work',\n",
       "       'Service time', 'Age', 'Work load Average/day ', 'Hit target',\n",
       "       'Disciplinary failure', 'Education', 'Son', 'Social drinker',\n",
       "       'Social smoker', 'Pet', 'Weight', 'Height', 'Body mass index',\n",
       "       'Absenteeism time in hours'],\n",
       "      dtype='object')"
      ]
     },
     "execution_count": 42,
     "metadata": {},
     "output_type": "execute_result"
    }
   ],
   "source": [
    "df.columns"
   ]
  },
  {
   "cell_type": "code",
   "execution_count": 43,
   "id": "9a7dd51b-d5bc-4b1a-872b-c5efefe8546f",
   "metadata": {},
   "outputs": [
    {
     "name": "stdout",
     "output_type": "stream",
     "text": [
      "Most Frequent Reasons for Absence:\n",
      "Reason for absence\n",
      "23    149\n",
      "28    112\n",
      "27     69\n",
      "13     55\n",
      "0      43\n",
      "19     40\n",
      "22     38\n",
      "26     33\n",
      "25     31\n",
      "11     26\n",
      "Name: count, dtype: int64\n"
     ]
    }
   ],
   "source": [
    "reason_counts = df['Reason for absence'].value_counts()\n",
    "print(\"Most Frequent Reasons for Absence:\")\n",
    "print(reason_counts.head(10))  # Top 10 reasons"
   ]
  },
  {
   "cell_type": "code",
   "execution_count": 44,
   "id": "f070c122-fda6-40c6-bee3-f71727b4d2c7",
   "metadata": {},
   "outputs": [],
   "source": [
    "#Interpretation : The reason number 22 is the most frequent reason for absence i.e. patient follow-up followed by reason number 27 i.e. physiotherapy"
   ]
  },
  {
   "cell_type": "code",
   "execution_count": 45,
   "id": "85295f9f-e996-405f-9ada-5da0f019f270",
   "metadata": {},
   "outputs": [],
   "source": [
    "# Connection Between Absenteeism and Disciplinary Issues"
   ]
  },
  {
   "cell_type": "code",
   "execution_count": 46,
   "id": "b47fa178-2a94-4a9b-a22a-f18964219c49",
   "metadata": {},
   "outputs": [
    {
     "name": "stdout",
     "output_type": "stream",
     "text": [
      "Absenteeism and Disciplinary Issues:\n",
      "Disciplinary failure\n",
      "0    7.32\n",
      "1    0.00\n",
      "Name: Absenteeism time in hours, dtype: float64\n"
     ]
    }
   ],
   "source": [
    "disciplinary_absenteeism = df.groupby('Disciplinary failure')['Absenteeism time in hours'].mean()\n",
    "print(\"Absenteeism and Disciplinary Issues:\")\n",
    "print(disciplinary_absenteeism)"
   ]
  },
  {
   "cell_type": "code",
   "execution_count": 47,
   "id": "82af0c45-39ec-4b00-9db6-2504a98fc1cf",
   "metadata": {},
   "outputs": [],
   "source": [
    "#Interpretation: : Employees without disciplinary failures (value 0) have an average absenteeism time of 4.57 hours.This indicates that employees who have not faced disciplinary actions tend to have a higher level of absenteeism.\n",
    "#The analysis suggests that employees who have been involved in disciplinary issues are less likely to be absent from work compared to those who have not. It can be because of strict monitoring of the employees performance etc."
   ]
  },
  {
   "cell_type": "code",
   "execution_count": 48,
   "id": "088c36d3-a828-4bf1-950c-e5e1baaea710",
   "metadata": {},
   "outputs": [],
   "source": [
    "#Impact of Health-Related Factors (BMI,Age) on Absenteeism"
   ]
  },
  {
   "cell_type": "code",
   "execution_count": 49,
   "id": "ba37307c-90ea-438f-bc8b-13dc7af3562f",
   "metadata": {},
   "outputs": [
    {
     "name": "stdout",
     "output_type": "stream",
     "text": [
      "Correlation Between Health-Related Factors and Absenteeism:\n",
      "                           Body mass index       Age  \\\n",
      "Body mass index                   1.000000  0.470688   \n",
      "Age                               0.470688  1.000000   \n",
      "Absenteeism time in hours        -0.049719  0.065760   \n",
      "\n",
      "                           Absenteeism time in hours  \n",
      "Body mass index                            -0.049719  \n",
      "Age                                         0.065760  \n",
      "Absenteeism time in hours                   1.000000  \n"
     ]
    }
   ],
   "source": [
    "health_related_absenteeism = df[['Body mass index', 'Age', 'Absenteeism time in hours']].corr()\n",
    "print(\"Correlation Between Health-Related Factors and Absenteeism:\")\n",
    "print(health_related_absenteeism)"
   ]
  },
  {
   "cell_type": "code",
   "execution_count": 50,
   "id": "b58ae75f-eab9-4b63-9528-d4e7468dbb4a",
   "metadata": {},
   "outputs": [],
   "source": [
    "#Interpretation \n",
    "# There is a weak negative correlation between body mass index and absenteeism time. This suggests that individuals with higher BMIs might be slightly less likely to be absent from work. However, this relationship is not very strong, and other factors could also influence absenteeism rates."
   ]
  },
  {
   "cell_type": "code",
   "execution_count": 51,
   "id": "118c9924-0451-45a8-ba3e-3b9765c79565",
   "metadata": {},
   "outputs": [],
   "source": [
    "# Workload, Transportation, and Work-Life Balance Impact"
   ]
  },
  {
   "cell_type": "code",
   "execution_count": 52,
   "id": "da205083-b9bf-4177-86c6-c43286fad933",
   "metadata": {},
   "outputs": [
    {
     "name": "stdout",
     "output_type": "stream",
     "text": [
      "Correlation Between Workload/Transportation and Absenteeism:\n",
      "                                 Transportation expense  \\\n",
      "Transportation expense                         1.000000   \n",
      "Distance from Residence to Work                0.262183   \n",
      "Absenteeism time in hours                      0.027585   \n",
      "\n",
      "                                 Distance from Residence to Work  \\\n",
      "Transportation expense                                  0.262183   \n",
      "Distance from Residence to Work                         1.000000   \n",
      "Absenteeism time in hours                              -0.088363   \n",
      "\n",
      "                                 Absenteeism time in hours  \n",
      "Transportation expense                            0.027585  \n",
      "Distance from Residence to Work                  -0.088363  \n",
      "Absenteeism time in hours                         1.000000  \n"
     ]
    }
   ],
   "source": [
    "workload_transport_absenteeism = df[['Transportation expense', 'Distance from Residence to Work', 'Absenteeism time in hours']].corr()\n",
    "\n",
    "print(\"Correlation Between Workload/Transportation and Absenteeism:\")\n",
    "print(workload_transport_absenteeism)"
   ]
  },
  {
   "cell_type": "code",
   "execution_count": 53,
   "id": "f8b3b111-8ba7-4388-83e4-02a4bebb515f",
   "metadata": {},
   "outputs": [],
   "source": [
    "#Interpretation\n",
    "# there is a weak positive correlation between both transportation expense and distance from residence to work, and absenteeism time. This suggests that employees facing higher transportation costs or longer commute times might be more likely to be absent from work."
   ]
  },
  {
   "cell_type": "code",
   "execution_count": 54,
   "id": "a834faad-7d20-4825-bf61-f3bfdd9998d1",
   "metadata": {},
   "outputs": [
    {
     "data": {
      "text/html": [
       "<div>\n",
       "<style scoped>\n",
       "    .dataframe tbody tr th:only-of-type {\n",
       "        vertical-align: middle;\n",
       "    }\n",
       "\n",
       "    .dataframe tbody tr th {\n",
       "        vertical-align: top;\n",
       "    }\n",
       "\n",
       "    .dataframe thead th {\n",
       "        text-align: right;\n",
       "    }\n",
       "</style>\n",
       "<table border=\"1\" class=\"dataframe\">\n",
       "  <thead>\n",
       "    <tr style=\"text-align: right;\">\n",
       "      <th></th>\n",
       "      <th>ID</th>\n",
       "      <th>Reason for absence</th>\n",
       "      <th>Month of absence</th>\n",
       "      <th>Day of the week</th>\n",
       "      <th>Seasons</th>\n",
       "      <th>Transportation expense</th>\n",
       "      <th>Distance from Residence to Work</th>\n",
       "      <th>Service time</th>\n",
       "      <th>Age</th>\n",
       "      <th>Work load Average/day</th>\n",
       "      <th>...</th>\n",
       "      <th>Disciplinary failure</th>\n",
       "      <th>Education</th>\n",
       "      <th>Son</th>\n",
       "      <th>Social drinker</th>\n",
       "      <th>Social smoker</th>\n",
       "      <th>Pet</th>\n",
       "      <th>Weight</th>\n",
       "      <th>Height</th>\n",
       "      <th>Body mass index</th>\n",
       "      <th>Absenteeism time in hours</th>\n",
       "    </tr>\n",
       "  </thead>\n",
       "  <tbody>\n",
       "    <tr>\n",
       "      <th>count</th>\n",
       "      <td>740.000000</td>\n",
       "      <td>740.000000</td>\n",
       "      <td>740.000000</td>\n",
       "      <td>740.000000</td>\n",
       "      <td>740.000000</td>\n",
       "      <td>740.000000</td>\n",
       "      <td>740.000000</td>\n",
       "      <td>740.000000</td>\n",
       "      <td>740.000000</td>\n",
       "      <td>740.000000</td>\n",
       "      <td>...</td>\n",
       "      <td>740.000000</td>\n",
       "      <td>740.000000</td>\n",
       "      <td>740.000000</td>\n",
       "      <td>740.000000</td>\n",
       "      <td>740.000000</td>\n",
       "      <td>740.000000</td>\n",
       "      <td>740.000000</td>\n",
       "      <td>740.000000</td>\n",
       "      <td>740.000000</td>\n",
       "      <td>740.000000</td>\n",
       "    </tr>\n",
       "    <tr>\n",
       "      <th>mean</th>\n",
       "      <td>18.017568</td>\n",
       "      <td>19.216216</td>\n",
       "      <td>6.324324</td>\n",
       "      <td>3.914865</td>\n",
       "      <td>2.544595</td>\n",
       "      <td>221.329730</td>\n",
       "      <td>29.631081</td>\n",
       "      <td>12.554054</td>\n",
       "      <td>36.450000</td>\n",
       "      <td>271.490235</td>\n",
       "      <td>...</td>\n",
       "      <td>0.054054</td>\n",
       "      <td>1.291892</td>\n",
       "      <td>1.018919</td>\n",
       "      <td>0.567568</td>\n",
       "      <td>0.072973</td>\n",
       "      <td>0.745946</td>\n",
       "      <td>79.035135</td>\n",
       "      <td>172.114865</td>\n",
       "      <td>26.677027</td>\n",
       "      <td>6.924324</td>\n",
       "    </tr>\n",
       "    <tr>\n",
       "      <th>std</th>\n",
       "      <td>11.021247</td>\n",
       "      <td>8.433406</td>\n",
       "      <td>3.436287</td>\n",
       "      <td>1.421675</td>\n",
       "      <td>1.111831</td>\n",
       "      <td>66.952223</td>\n",
       "      <td>14.836788</td>\n",
       "      <td>4.384873</td>\n",
       "      <td>6.478772</td>\n",
       "      <td>39.058116</td>\n",
       "      <td>...</td>\n",
       "      <td>0.226277</td>\n",
       "      <td>0.673238</td>\n",
       "      <td>1.098489</td>\n",
       "      <td>0.495749</td>\n",
       "      <td>0.260268</td>\n",
       "      <td>1.318258</td>\n",
       "      <td>12.883211</td>\n",
       "      <td>6.034995</td>\n",
       "      <td>4.285452</td>\n",
       "      <td>13.330998</td>\n",
       "    </tr>\n",
       "    <tr>\n",
       "      <th>min</th>\n",
       "      <td>1.000000</td>\n",
       "      <td>0.000000</td>\n",
       "      <td>0.000000</td>\n",
       "      <td>2.000000</td>\n",
       "      <td>1.000000</td>\n",
       "      <td>118.000000</td>\n",
       "      <td>5.000000</td>\n",
       "      <td>1.000000</td>\n",
       "      <td>27.000000</td>\n",
       "      <td>205.917000</td>\n",
       "      <td>...</td>\n",
       "      <td>0.000000</td>\n",
       "      <td>1.000000</td>\n",
       "      <td>0.000000</td>\n",
       "      <td>0.000000</td>\n",
       "      <td>0.000000</td>\n",
       "      <td>0.000000</td>\n",
       "      <td>56.000000</td>\n",
       "      <td>163.000000</td>\n",
       "      <td>19.000000</td>\n",
       "      <td>0.000000</td>\n",
       "    </tr>\n",
       "    <tr>\n",
       "      <th>25%</th>\n",
       "      <td>9.000000</td>\n",
       "      <td>13.000000</td>\n",
       "      <td>3.000000</td>\n",
       "      <td>3.000000</td>\n",
       "      <td>2.000000</td>\n",
       "      <td>179.000000</td>\n",
       "      <td>16.000000</td>\n",
       "      <td>9.000000</td>\n",
       "      <td>31.000000</td>\n",
       "      <td>244.387000</td>\n",
       "      <td>...</td>\n",
       "      <td>0.000000</td>\n",
       "      <td>1.000000</td>\n",
       "      <td>0.000000</td>\n",
       "      <td>0.000000</td>\n",
       "      <td>0.000000</td>\n",
       "      <td>0.000000</td>\n",
       "      <td>69.000000</td>\n",
       "      <td>169.000000</td>\n",
       "      <td>24.000000</td>\n",
       "      <td>2.000000</td>\n",
       "    </tr>\n",
       "    <tr>\n",
       "      <th>50%</th>\n",
       "      <td>18.000000</td>\n",
       "      <td>23.000000</td>\n",
       "      <td>6.000000</td>\n",
       "      <td>4.000000</td>\n",
       "      <td>3.000000</td>\n",
       "      <td>225.000000</td>\n",
       "      <td>26.000000</td>\n",
       "      <td>13.000000</td>\n",
       "      <td>37.000000</td>\n",
       "      <td>264.249000</td>\n",
       "      <td>...</td>\n",
       "      <td>0.000000</td>\n",
       "      <td>1.000000</td>\n",
       "      <td>1.000000</td>\n",
       "      <td>1.000000</td>\n",
       "      <td>0.000000</td>\n",
       "      <td>0.000000</td>\n",
       "      <td>83.000000</td>\n",
       "      <td>170.000000</td>\n",
       "      <td>25.000000</td>\n",
       "      <td>3.000000</td>\n",
       "    </tr>\n",
       "    <tr>\n",
       "      <th>75%</th>\n",
       "      <td>28.000000</td>\n",
       "      <td>26.000000</td>\n",
       "      <td>9.000000</td>\n",
       "      <td>5.000000</td>\n",
       "      <td>4.000000</td>\n",
       "      <td>260.000000</td>\n",
       "      <td>50.000000</td>\n",
       "      <td>16.000000</td>\n",
       "      <td>40.000000</td>\n",
       "      <td>294.217000</td>\n",
       "      <td>...</td>\n",
       "      <td>0.000000</td>\n",
       "      <td>1.000000</td>\n",
       "      <td>2.000000</td>\n",
       "      <td>1.000000</td>\n",
       "      <td>0.000000</td>\n",
       "      <td>1.000000</td>\n",
       "      <td>89.000000</td>\n",
       "      <td>172.000000</td>\n",
       "      <td>31.000000</td>\n",
       "      <td>8.000000</td>\n",
       "    </tr>\n",
       "    <tr>\n",
       "      <th>max</th>\n",
       "      <td>36.000000</td>\n",
       "      <td>28.000000</td>\n",
       "      <td>12.000000</td>\n",
       "      <td>6.000000</td>\n",
       "      <td>4.000000</td>\n",
       "      <td>388.000000</td>\n",
       "      <td>52.000000</td>\n",
       "      <td>29.000000</td>\n",
       "      <td>58.000000</td>\n",
       "      <td>378.884000</td>\n",
       "      <td>...</td>\n",
       "      <td>1.000000</td>\n",
       "      <td>4.000000</td>\n",
       "      <td>4.000000</td>\n",
       "      <td>1.000000</td>\n",
       "      <td>1.000000</td>\n",
       "      <td>8.000000</td>\n",
       "      <td>108.000000</td>\n",
       "      <td>196.000000</td>\n",
       "      <td>38.000000</td>\n",
       "      <td>120.000000</td>\n",
       "    </tr>\n",
       "  </tbody>\n",
       "</table>\n",
       "<p>8 rows × 21 columns</p>\n",
       "</div>"
      ],
      "text/plain": [
       "               ID  Reason for absence  Month of absence  Day of the week  \\\n",
       "count  740.000000          740.000000        740.000000       740.000000   \n",
       "mean    18.017568           19.216216          6.324324         3.914865   \n",
       "std     11.021247            8.433406          3.436287         1.421675   \n",
       "min      1.000000            0.000000          0.000000         2.000000   \n",
       "25%      9.000000           13.000000          3.000000         3.000000   \n",
       "50%     18.000000           23.000000          6.000000         4.000000   \n",
       "75%     28.000000           26.000000          9.000000         5.000000   \n",
       "max     36.000000           28.000000         12.000000         6.000000   \n",
       "\n",
       "          Seasons  Transportation expense  Distance from Residence to Work  \\\n",
       "count  740.000000              740.000000                       740.000000   \n",
       "mean     2.544595              221.329730                        29.631081   \n",
       "std      1.111831               66.952223                        14.836788   \n",
       "min      1.000000              118.000000                         5.000000   \n",
       "25%      2.000000              179.000000                        16.000000   \n",
       "50%      3.000000              225.000000                        26.000000   \n",
       "75%      4.000000              260.000000                        50.000000   \n",
       "max      4.000000              388.000000                        52.000000   \n",
       "\n",
       "       Service time         Age  Work load Average/day   ...  \\\n",
       "count    740.000000  740.000000              740.000000  ...   \n",
       "mean      12.554054   36.450000              271.490235  ...   \n",
       "std        4.384873    6.478772               39.058116  ...   \n",
       "min        1.000000   27.000000              205.917000  ...   \n",
       "25%        9.000000   31.000000              244.387000  ...   \n",
       "50%       13.000000   37.000000              264.249000  ...   \n",
       "75%       16.000000   40.000000              294.217000  ...   \n",
       "max       29.000000   58.000000              378.884000  ...   \n",
       "\n",
       "       Disciplinary failure   Education         Son  Social drinker  \\\n",
       "count            740.000000  740.000000  740.000000      740.000000   \n",
       "mean               0.054054    1.291892    1.018919        0.567568   \n",
       "std                0.226277    0.673238    1.098489        0.495749   \n",
       "min                0.000000    1.000000    0.000000        0.000000   \n",
       "25%                0.000000    1.000000    0.000000        0.000000   \n",
       "50%                0.000000    1.000000    1.000000        1.000000   \n",
       "75%                0.000000    1.000000    2.000000        1.000000   \n",
       "max                1.000000    4.000000    4.000000        1.000000   \n",
       "\n",
       "       Social smoker         Pet      Weight      Height  Body mass index  \\\n",
       "count     740.000000  740.000000  740.000000  740.000000       740.000000   \n",
       "mean        0.072973    0.745946   79.035135  172.114865        26.677027   \n",
       "std         0.260268    1.318258   12.883211    6.034995         4.285452   \n",
       "min         0.000000    0.000000   56.000000  163.000000        19.000000   \n",
       "25%         0.000000    0.000000   69.000000  169.000000        24.000000   \n",
       "50%         0.000000    0.000000   83.000000  170.000000        25.000000   \n",
       "75%         0.000000    1.000000   89.000000  172.000000        31.000000   \n",
       "max         1.000000    8.000000  108.000000  196.000000        38.000000   \n",
       "\n",
       "       Absenteeism time in hours  \n",
       "count                 740.000000  \n",
       "mean                    6.924324  \n",
       "std                    13.330998  \n",
       "min                     0.000000  \n",
       "25%                     2.000000  \n",
       "50%                     3.000000  \n",
       "75%                     8.000000  \n",
       "max                   120.000000  \n",
       "\n",
       "[8 rows x 21 columns]"
      ]
     },
     "execution_count": 54,
     "metadata": {},
     "output_type": "execute_result"
    }
   ],
   "source": [
    "#Task 1\n",
    "df.describe()"
   ]
  },
  {
   "cell_type": "code",
   "execution_count": 55,
   "id": "d0d35ce1-6549-49a5-ad7a-8adf5aaba00a",
   "metadata": {},
   "outputs": [
    {
     "data": {
      "text/plain": [
       "ID                                 0\n",
       "Reason for absence                 0\n",
       "Month of absence                   0\n",
       "Day of the week                    0\n",
       "Seasons                            0\n",
       "Transportation expense             0\n",
       "Distance from Residence to Work    0\n",
       "Service time                       0\n",
       "Age                                0\n",
       "Work load Average/day              0\n",
       "Hit target                         0\n",
       "Disciplinary failure               0\n",
       "Education                          0\n",
       "Son                                0\n",
       "Social drinker                     0\n",
       "Social smoker                      0\n",
       "Pet                                0\n",
       "Weight                             0\n",
       "Height                             0\n",
       "Body mass index                    0\n",
       "Absenteeism time in hours          0\n",
       "dtype: int64"
      ]
     },
     "execution_count": 55,
     "metadata": {},
     "output_type": "execute_result"
    }
   ],
   "source": [
    "df.isnull().sum()\n",
    "# Since there are no missing values so missing value treatment is not required"
   ]
  },
  {
   "cell_type": "code",
   "execution_count": 56,
   "id": "7115936b-1718-4908-92c9-2385fa35f4e0",
   "metadata": {},
   "outputs": [
    {
     "data": {
      "text/plain": [
       "(740, 21)"
      ]
     },
     "execution_count": 56,
     "metadata": {},
     "output_type": "execute_result"
    }
   ],
   "source": [
    "df.shape"
   ]
  },
  {
   "cell_type": "code",
   "execution_count": 57,
   "id": "724c2efe-9aa1-4fc7-8341-5817bbf3fac8",
   "metadata": {},
   "outputs": [
    {
     "data": {
      "text/plain": [
       "ID                                   int64\n",
       "Reason for absence                   int64\n",
       "Month of absence                     int64\n",
       "Day of the week                      int64\n",
       "Seasons                              int64\n",
       "Transportation expense               int64\n",
       "Distance from Residence to Work      int64\n",
       "Service time                         int64\n",
       "Age                                  int64\n",
       "Work load Average/day              float64\n",
       "Hit target                           int64\n",
       "Disciplinary failure                 int64\n",
       "Education                            int64\n",
       "Son                                  int64\n",
       "Social drinker                       int64\n",
       "Social smoker                        int64\n",
       "Pet                                  int64\n",
       "Weight                               int64\n",
       "Height                               int64\n",
       "Body mass index                      int64\n",
       "Absenteeism time in hours            int64\n",
       "dtype: object"
      ]
     },
     "execution_count": 57,
     "metadata": {},
     "output_type": "execute_result"
    }
   ],
   "source": [
    "df.dtypes"
   ]
  },
  {
   "cell_type": "code",
   "execution_count": 58,
   "id": "5f4ee4ac-3344-41bf-910e-9f66a8977c68",
   "metadata": {},
   "outputs": [
    {
     "data": {
      "text/plain": [
       "0"
      ]
     },
     "execution_count": 58,
     "metadata": {},
     "output_type": "execute_result"
    }
   ],
   "source": [
    "df.drop_duplicates(inplace=True)\n",
    "df.duplicated().sum()"
   ]
  },
  {
   "cell_type": "code",
   "execution_count": 59,
   "id": "c4c9b292-55e1-453d-83af-858aceacf675",
   "metadata": {
    "scrolled": true
   },
   "outputs": [
    {
     "name": "stdout",
     "output_type": "stream",
     "text": [
      "ID contains \n",
      ": ID\n",
      "3     97\n",
      "28    74\n",
      "34    50\n",
      "20    42\n",
      "22    41\n",
      "11    40\n",
      "15    36\n",
      "36    34\n",
      "14    29\n",
      "24    28\n",
      "33    24\n",
      "1     23\n",
      "10    23\n",
      "17    20\n",
      "5     18\n",
      "18    16\n",
      "13    15\n",
      "25    10\n",
      "9      8\n",
      "6      8\n",
      "23     8\n",
      "12     7\n",
      "30     7\n",
      "27     6\n",
      "2      6\n",
      "7      6\n",
      "26     5\n",
      "32     5\n",
      "29     5\n",
      "19     3\n",
      "21     3\n",
      "31     3\n",
      "8      2\n",
      "16     2\n",
      "4      1\n",
      "35     1\n",
      "Name: count, dtype: int64\n",
      "Reason for absence contains \n",
      ": Reason for absence\n",
      "23    142\n",
      "28    108\n",
      "13     55\n",
      "27     47\n",
      "0      43\n",
      "19     40\n",
      "22     37\n",
      "26     33\n",
      "25     31\n",
      "11     26\n",
      "10     25\n",
      "18     21\n",
      "14     19\n",
      "1      16\n",
      "7      15\n",
      "6       8\n",
      "12      8\n",
      "21      6\n",
      "8       6\n",
      "9       4\n",
      "5       3\n",
      "16      3\n",
      "24      3\n",
      "15      2\n",
      "4       2\n",
      "3       1\n",
      "2       1\n",
      "17      1\n",
      "Name: count, dtype: int64\n",
      "Month of absence contains \n",
      ": Month of absence\n",
      "3     83\n",
      "10    69\n",
      "7     65\n",
      "11    62\n",
      "2     62\n",
      "5     61\n",
      "8     54\n",
      "6     54\n",
      "9     52\n",
      "4     50\n",
      "12    46\n",
      "1     45\n",
      "0      3\n",
      "Name: count, dtype: int64\n",
      "Day of the week contains \n",
      ": Day of the week\n",
      "2    158\n",
      "3    150\n",
      "4    144\n",
      "6    135\n",
      "5    119\n",
      "Name: count, dtype: int64\n",
      "Seasons contains \n",
      ": Seasons\n",
      "4    189\n",
      "3    177\n",
      "2    173\n",
      "1    167\n",
      "Name: count, dtype: int64\n",
      "Transportation expense contains \n",
      ": Transportation expense\n",
      "179    159\n",
      "118     87\n",
      "225     79\n",
      "235     57\n",
      "289     45\n",
      "260     42\n",
      "291     39\n",
      "155     29\n",
      "246     28\n",
      "248     24\n",
      "361     23\n",
      "330     16\n",
      "369     15\n",
      "228      8\n",
      "189      8\n",
      "378      8\n",
      "157      7\n",
      "233      7\n",
      "184      6\n",
      "279      6\n",
      "300      5\n",
      "388      3\n",
      "268      3\n",
      "231      2\n",
      "Name: count, dtype: int64\n",
      "Distance from Residence to Work contains \n",
      ": Distance from Residence to Work\n",
      "26    121\n",
      "51    104\n",
      "25     52\n",
      "10     50\n",
      "50     45\n",
      "36     40\n",
      "31     36\n",
      "13     34\n",
      "12     29\n",
      "16     26\n",
      "11     26\n",
      "52     23\n",
      "22     20\n",
      "20     18\n",
      "17     15\n",
      "29     14\n",
      "14      9\n",
      "15      9\n",
      "49      8\n",
      "27      7\n",
      "42      6\n",
      "5       6\n",
      "48      5\n",
      "35      2\n",
      "45      1\n",
      "Name: count, dtype: int64\n",
      "Service time contains \n",
      ": Service time\n",
      "18    131\n",
      "9     119\n",
      "14     85\n",
      "13     72\n",
      "12     60\n",
      "11     50\n",
      "10     50\n",
      "16     36\n",
      "3      23\n",
      "17     20\n",
      "4      16\n",
      "8      13\n",
      "6       7\n",
      "1       7\n",
      "7       6\n",
      "29      5\n",
      "15      4\n",
      "24      2\n",
      "Name: count, dtype: int64\n",
      "Age contains \n",
      ": Age\n",
      "28    114\n",
      "38     97\n",
      "37     73\n",
      "40     57\n",
      "33     51\n",
      "36     50\n",
      "30     41\n",
      "50     37\n",
      "41     32\n",
      "34     29\n",
      "47     24\n",
      "43     23\n",
      "31     22\n",
      "32     13\n",
      "58      8\n",
      "39      8\n",
      "29      7\n",
      "48      6\n",
      "27      6\n",
      "49      5\n",
      "46      2\n",
      "53      1\n",
      "Name: count, dtype: int64\n",
      "Work load Average/day  contains \n",
      ": Work load Average/day \n",
      "222.196    32\n",
      "237.656    30\n",
      "343.253    29\n",
      "264.249    28\n",
      "265.017    27\n",
      "284.853    25\n",
      "268.519    23\n",
      "241.476    22\n",
      "244.387    22\n",
      "284.031    22\n",
      "205.917    21\n",
      "326.452    20\n",
      "294.217    19\n",
      "253.957    19\n",
      "230.290    19\n",
      "308.593    19\n",
      "275.089    19\n",
      "265.615    18\n",
      "236.629    18\n",
      "302.585    18\n",
      "239.554    18\n",
      "246.288    17\n",
      "306.345    17\n",
      "253.465    17\n",
      "251.818    16\n",
      "275.312    16\n",
      "377.550    16\n",
      "378.884    16\n",
      "249.797    15\n",
      "246.074    15\n",
      "313.532    15\n",
      "280.549    14\n",
      "261.306    14\n",
      "239.409    13\n",
      "264.604    12\n",
      "261.756    11\n",
      "330.061    11\n",
      "271.219     3\n",
      "Name: count, dtype: int64\n",
      "Hit target contains \n",
      ": Hit target\n",
      "93     102\n",
      "99      95\n",
      "97      82\n",
      "92      78\n",
      "95      70\n",
      "96      70\n",
      "98      65\n",
      "91      42\n",
      "94      34\n",
      "88      27\n",
      "81      19\n",
      "100     11\n",
      "87      11\n",
      "Name: count, dtype: int64\n",
      "Disciplinary failure contains \n",
      ": Disciplinary failure\n",
      "0    666\n",
      "1     40\n",
      "Name: count, dtype: int64\n",
      "Education contains \n",
      ": Education\n",
      "1    582\n",
      "3     74\n",
      "2     46\n",
      "4      4\n",
      "Name: count, dtype: int64\n",
      "Son contains \n",
      ": Son\n",
      "0    269\n",
      "1    224\n",
      "2    156\n",
      "4     42\n",
      "3     15\n",
      "Name: count, dtype: int64\n",
      "Social drinker contains \n",
      ": Social drinker\n",
      "1    399\n",
      "0    307\n",
      "Name: count, dtype: int64\n",
      "Social smoker contains \n",
      ": Social smoker\n",
      "0    652\n",
      "1     54\n",
      "Name: count, dtype: int64\n",
      "Pet contains \n",
      ": Pet\n",
      "0    430\n",
      "1    137\n",
      "2     94\n",
      "4     31\n",
      "8      8\n",
      "5      6\n",
      "Name: count, dtype: int64\n",
      "Weight contains \n",
      ": Weight\n",
      "89     97\n",
      "69     83\n",
      "65     61\n",
      "83     50\n",
      "56     41\n",
      "90     40\n",
      "73     36\n",
      "98     35\n",
      "95     29\n",
      "88     29\n",
      "67     28\n",
      "86     24\n",
      "80     23\n",
      "63     20\n",
      "75     19\n",
      "106    18\n",
      "84     16\n",
      "70     15\n",
      "68     13\n",
      "77      6\n",
      "58      6\n",
      "108     5\n",
      "94      4\n",
      "76      3\n",
      "79      3\n",
      "100     2\n",
      "Name: count, dtype: int64\n",
      "Height contains \n",
      ": Height\n",
      "172    149\n",
      "170    148\n",
      "169     93\n",
      "171     77\n",
      "178     57\n",
      "168     48\n",
      "167     32\n",
      "196     29\n",
      "165     24\n",
      "182     20\n",
      "174      8\n",
      "175      8\n",
      "185      7\n",
      "163      6\n",
      "Name: count, dtype: int64\n",
      "Body mass index contains \n",
      ": Body mass index\n",
      "31    131\n",
      "25    125\n",
      "24     84\n",
      "23     73\n",
      "28     54\n",
      "19     41\n",
      "30     40\n",
      "22     35\n",
      "32     24\n",
      "29     23\n",
      "27     23\n",
      "21     21\n",
      "38     18\n",
      "33      6\n",
      "36      5\n",
      "35      2\n",
      "34      1\n",
      "Name: count, dtype: int64\n",
      "Absenteeism time in hours contains \n",
      ": Absenteeism time in hours\n",
      "8      207\n",
      "2      137\n",
      "3      102\n",
      "1       85\n",
      "4       60\n",
      "0       44\n",
      "16      19\n",
      "24      16\n",
      "5        7\n",
      "40       7\n",
      "32       6\n",
      "64       3\n",
      "80       3\n",
      "120      3\n",
      "56       2\n",
      "112      2\n",
      "7        1\n",
      "104      1\n",
      "48       1\n",
      "Name: count, dtype: int64\n"
     ]
    }
   ],
   "source": [
    "# check all values to see if there is any meaningless data like # or other characters\n",
    "for a in df.columns:   # very imp\n",
    "    print(a,\"contains \\n:\",df[a].value_counts())"
   ]
  },
  {
   "cell_type": "code",
   "execution_count": 60,
   "id": "9e030643-baa5-4aa1-bb4f-7532e41029cf",
   "metadata": {},
   "outputs": [],
   "source": [
    "conti = [[\"Month of absence\", \"Transportation expense\",\"Son\",\"Hit target\",\"Distance from Residence to Work\",\"Pet\", \"Service time\", \"Age\", \"Work load Average/day \", \"Weight\", \"Height\",\"Body mass index\",\"Absenteeism time in hours\"]]"
   ]
  },
  {
   "cell_type": "code",
   "execution_count": 61,
   "id": "7a2a26d2-d156-49e2-91a0-4ad0608b76b7",
   "metadata": {},
   "outputs": [
    {
     "data": {
      "image/png": "[encoded data removed]",
      "text/plain": [
       "<Figure size 640x480 with 1 Axes>"
      ]
     },
     "metadata": {},
     "output_type": "display_data"
    }
   ],
   "source": [
    "#Task 2\n",
    "sns.histplot(df[\"Age\"], bins=5)\n",
    "plt.title(\"Distribution of Employee Age\")\n",
    "plt.show()"
   ]
  },
  {
   "cell_type": "code",
   "execution_count": 62,
   "id": "2ab10a3a-1a09-45d9-a6d8-6872e841b8b7",
   "metadata": {},
   "outputs": [],
   "source": [
    "#Analysis : In the above histogram the maximum number of employees are 40 years old followed by 30years"
   ]
  },
  {
   "cell_type": "code",
   "execution_count": 63,
   "id": "6df98367-ea97-4767-a800-38eb7bacc63a",
   "metadata": {},
   "outputs": [
    {
     "data": {
      "image/png": "[encoded data removed]",
      "text/plain": [
       "<Figure size 640x480 with 1 Axes>"
      ]
     },
     "metadata": {},
     "output_type": "display_data"
    }
   ],
   "source": [
    "absenteeism_by_age = df.groupby(\"Age\")[\"Absenteeism time in hours\"].mean()\n",
    "absenteeism_by_age.plot(kind=\"bar\")\n",
    "plt.title(\"Absenteeism time in hours by Age\")\n",
    "plt.show()"
   ]
  },
  {
   "cell_type": "code",
   "execution_count": 64,
   "id": "6f0e367a-a3a3-48a8-9753-52fa80ef7cf7",
   "metadata": {},
   "outputs": [],
   "source": [
    "#Analysis: There are few employees of age 33,46,54 years who were absent for 8 hours "
   ]
  },
  {
   "cell_type": "code",
   "execution_count": 65,
   "id": "75be71b3-7b08-45ba-946e-01f09e49470f",
   "metadata": {},
   "outputs": [],
   "source": [
    "# Before taking disciplinary action, it's important to investigate the reasons for absenteeism and consider the individual circumstances of each employee. "
   ]
  },
  {
   "cell_type": "code",
   "execution_count": 66,
   "id": "80fd2d47-ef0e-44dd-a3b0-eff32a8cb902",
   "metadata": {},
   "outputs": [
    {
     "data": {
      "image/png": "[encoded data removed]",
      "text/plain": [
       "<Figure size 640x480 with 1 Axes>"
      ]
     },
     "metadata": {},
     "output_type": "display_data"
    }
   ],
   "source": [
    "absenteeism_by_son = df.groupby(\"Son\")[\"Absenteeism time in hours\"].mean()\n",
    "absenteeism_by_son.plot(kind=\"bar\")\n",
    "plt.show()"
   ]
  },
  {
   "cell_type": "code",
   "execution_count": 67,
   "id": "42f3a1e2-605b-4a78-8952-4cdecc78727b",
   "metadata": {},
   "outputs": [],
   "source": [
    "#Analysis: From the above chart, The employees who were absent for the maximum hours are having 3 children"
   ]
  },
  {
   "cell_type": "code",
   "execution_count": 68,
   "id": "2b348829-0516-438a-9041-7edd5fd6188a",
   "metadata": {},
   "outputs": [
    {
     "data": {
      "image/png": "[encoded data removed]",
      "text/plain": [
       "<Figure size 640x480 with 1 Axes>"
      ]
     },
     "metadata": {},
     "output_type": "display_data"
    }
   ],
   "source": [
    "absenteeism_by_reason = df.groupby(\"Reason for absence\")[\"Absenteeism time in hours\"].mean()\n",
    "absenteeism_by_reason.plot(kind=\"bar\")\n",
    "plt.show()"
   ]
  },
  {
   "cell_type": "code",
   "execution_count": 69,
   "id": "d4e3c4c0-d14c-45fb-8153-dfed96bba177",
   "metadata": {},
   "outputs": [],
   "source": [
    "#Analysis: From the above bar chart, Maximum number of employees were absent because of Neoplasms followed by Diseases of the circulatory system "
   ]
  },
  {
   "cell_type": "code",
   "execution_count": 70,
   "id": "751d4b89-5b16-48e3-914d-144a5e725578",
   "metadata": {},
   "outputs": [],
   "source": [
    "#What are the reasons telling us about the people?\n",
    "#There are huge number of employees who are taking leave because of neoplasms and the least number of employees who are taking off are because of Certain conditions originating in the perinatal period"
   ]
  },
  {
   "cell_type": "code",
   "execution_count": 71,
   "id": "48e44a88-df91-4ed2-a53c-c1caa705742d",
   "metadata": {},
   "outputs": [
    {
     "data": {
      "image/png": "[encoded data removed]",
      "text/plain": [
       "<Figure size 640x480 with 1 Axes>"
      ]
     },
     "metadata": {},
     "output_type": "display_data"
    }
   ],
   "source": [
    "absenteeism_by_distance = df.groupby(\"Distance from Residence to Work\")[\"Absenteeism time in hours\"].mean()\n",
    "absenteeism_by_distance.plot(kind=\"bar\")\n",
    "plt.show()"
   ]
  },
  {
   "cell_type": "code",
   "execution_count": 72,
   "id": "46d4e35e-0336-4682-b505-f86b8b1a6170",
   "metadata": {},
   "outputs": [],
   "source": [
    "#Analysis: This graph shows that, The employees who were absent for the maxium time are living 36kms away from there work place followed by 12kms of distance"
   ]
  },
  {
   "cell_type": "code",
   "execution_count": 73,
   "id": "64e398da-822c-4be9-853c-3e35eb3d2f70",
   "metadata": {},
   "outputs": [
    {
     "data": {
      "image/png": "[encoded data removed]",
      "text/plain": [
       "<Figure size 640x480 with 1 Axes>"
      ]
     },
     "metadata": {},
     "output_type": "display_data"
    }
   ],
   "source": [
    "absenteeism_by_hittarget = df.groupby(\"Hit target\")[\"Absenteeism time in hours\"].mean()\n",
    "absenteeism_by_hittarget.plot(kind=\"bar\")\n",
    "plt.show()"
   ]
  },
  {
   "cell_type": "code",
   "execution_count": 74,
   "id": "63b0a4c5-bd67-4a5d-b899-6614a8e2a8ff",
   "metadata": {},
   "outputs": [],
   "source": [
    "#Analysis: The employees who were absent for maximum number of hours i.e. 8 are serving since 24 years in the company followed by 16 years of service"
   ]
  },
  {
   "cell_type": "code",
   "execution_count": 75,
   "id": "0e77ccb5-6899-48c5-8be7-aff1b7c11efa",
   "metadata": {},
   "outputs": [],
   "source": [
    "#Employees who have hit their target i.e. 100 within the given time should be rewarded by the management for their hard work and the dedication to hit the target"
   ]
  },
  {
   "cell_type": "code",
   "execution_count": 76,
   "id": "80d3faa9-e96e-4d1c-b1ea-b8dbbf93f9ad",
   "metadata": {},
   "outputs": [
    {
     "data": {
      "image/png": "[encoded data removed]",
      "text/plain": [
       "<Figure size 640x480 with 1 Axes>"
      ]
     },
     "metadata": {},
     "output_type": "display_data"
    }
   ],
   "source": [
    "absenteeism_by_servicetime= df.groupby(\"Service time\")[\"Absenteeism time in hours\"].mean()\n",
    "absenteeism_by_servicetime.plot(kind=\"bar\")\n",
    "plt.show()"
   ]
  },
  {
   "cell_type": "code",
   "execution_count": 77,
   "id": "bd7ad2d6-a28a-4999-b283-fb6d833a238f",
   "metadata": {},
   "outputs": [],
   "source": [
    "#Analysis: The above bar chart shows that, the employees who were close to hit the target was absent the most"
   ]
  },
  {
   "cell_type": "code",
   "execution_count": 78,
   "id": "d99beeda-56ed-405d-9032-1ffd4f937b4c",
   "metadata": {},
   "outputs": [],
   "source": [
    "#Task 3"
   ]
  },
  {
   "cell_type": "code",
   "execution_count": 79,
   "id": "337299a5-7063-4958-a79a-2d9e5e672f35",
   "metadata": {},
   "outputs": [
    {
     "data": {
      "image/png": "[encoded data removed]",
      "text/plain": [
       "<Figure size 640x480 with 1 Axes>"
      ]
     },
     "metadata": {},
     "output_type": "display_data"
    }
   ],
   "source": [
    "sns.countplot(x=\"Reason for absence\", data=df)\n",
    "plt.xticks(rotation = 50)\n",
    "plt.title(\"Frequency of absence reasons\")\n",
    "plt.xlabel(\"Reason for absence\")\n",
    "plt.ylabel(\"count\")\n",
    "plt.show()"
   ]
  },
  {
   "cell_type": "code",
   "execution_count": 80,
   "id": "083ba97e-af9f-4da1-83da-30569e949567",
   "metadata": {},
   "outputs": [],
   "source": [
    "#Analysis: From the abover plot we can see that maximum number of employees were absent because of reason number 23 i.e. Medical Consultation followed by Dental Consultation and physiotherapy\n",
    "# Maximum number of employees are taking off to get check themselves "
   ]
  },
  {
   "cell_type": "code",
   "execution_count": 81,
   "id": "676d48a1-b591-4f05-a508-aaab94ac220b",
   "metadata": {},
   "outputs": [],
   "source": [
    "#LabelEncoder() will be used for Reason for absence, Day of the week,Seasons,Education   \n",
    "#Disciplinary failure,Social drinker ,Social smoker will be converted into bool\n",
    "#Transportation expense will be converted to float\n",
    "#All the conti columns will be scalled"
   ]
  },
  {
   "cell_type": "code",
   "execution_count": 82,
   "id": "b7640233-c5ea-465c-abd3-0900fecb3a6d",
   "metadata": {},
   "outputs": [
    {
     "data": {
      "text/plain": [
       "Index(['ID', 'Reason for absence', 'Month of absence', 'Day of the week',\n",
       "       'Seasons', 'Transportation expense', 'Distance from Residence to Work',\n",
       "       'Service time', 'Age', 'Work load Average/day ', 'Hit target',\n",
       "       'Disciplinary failure', 'Education', 'Son', 'Social drinker',\n",
       "       'Social smoker', 'Pet', 'Weight', 'Height', 'Body mass index',\n",
       "       'Absenteeism time in hours'],\n",
       "      dtype='object')"
      ]
     },
     "execution_count": 82,
     "metadata": {},
     "output_type": "execute_result"
    }
   ],
   "source": [
    "df.columns"
   ]
  },
  {
   "cell_type": "code",
   "execution_count": 83,
   "id": "f3749390-65b7-478b-ab09-b80deb3feb04",
   "metadata": {},
   "outputs": [],
   "source": [
    "categ = ['Reason for absence', 'Day of the week', 'Seasons', 'Education']\n",
    "for c in categ:\n",
    "    df[c] = df[c].astype(\"category\")"
   ]
  },
  {
   "cell_type": "code",
   "execution_count": 84,
   "id": "fd04c1db-73a8-4b3f-87dc-a986626b3b43",
   "metadata": {},
   "outputs": [],
   "source": [
    "df[\"Transportation expense\"] = df[\"Transportation expense\"].astype(\"float\")"
   ]
  },
  {
   "cell_type": "code",
   "execution_count": 85,
   "id": "a587b100-f855-427d-8f7b-fd2d16453ce9",
   "metadata": {},
   "outputs": [],
   "source": [
    "df['Disciplinary failure'] = df['Disciplinary failure'].astype(\"bool\")\n",
    "df['Social drinker'] = df['Social drinker'].astype(\"bool\")\n",
    "df['Social smoker'] = df['Social smoker'].astype(\"bool\")\n",
    "df['Pet'] = df['Pet'].astype(\"bool\")"
   ]
  },
  {
   "cell_type": "code",
   "execution_count": 86,
   "id": "1b5434c1-6135-4e72-9388-43fbd1f97a09",
   "metadata": {},
   "outputs": [],
   "source": [
    "lab_en = ['Disciplinary failure', 'Social drinker', 'Social smoker', 'Pet', 'Reason for absence', 'Day of the week', 'Seasons', 'Education' ]"
   ]
  },
  {
   "cell_type": "code",
   "execution_count": 87,
   "id": "03ffcb8c-1836-4b43-a6ed-7b4904a269a2",
   "metadata": {},
   "outputs": [],
   "source": [
    "enc = preprocessing.LabelEncoder()"
   ]
  },
  {
   "cell_type": "code",
   "execution_count": 88,
   "id": "25f57782-8c68-4883-92c0-e4a0114ab657",
   "metadata": {},
   "outputs": [],
   "source": [
    "for b in lab_en:\n",
    "    df[b] = enc.fit_transform(df[b])"
   ]
  },
  {
   "cell_type": "code",
   "execution_count": 89,
   "id": "7eb3660a-596e-47b7-9d74-51b339c3b2c6",
   "metadata": {},
   "outputs": [],
   "source": [
    "int = [\"Distance from Residence to Work\",\"Transportation expense\",\"Service time\" ,\"Age\",\"Hit target\",\"Son\",\"Weight\"]"
   ]
  },
  {
   "cell_type": "code",
   "execution_count": 90,
   "id": "059e9ad2-cf8d-4d28-884a-b7dbb6fe74cf",
   "metadata": {},
   "outputs": [],
   "source": [
    "scaler = MinMaxScaler()"
   ]
  },
  {
   "cell_type": "code",
   "execution_count": 91,
   "id": "7eee70bb-69fe-4b24-a225-8790c3332fd0",
   "metadata": {},
   "outputs": [],
   "source": [
    "for f in int:\n",
    "    df[f] = scaler.fit_transform(df[f].to_numpy().reshape(-1,1))"
   ]
  },
  {
   "cell_type": "code",
   "execution_count": 92,
   "id": "ef121126-e8ea-4de9-922b-442e3d937671",
   "metadata": {},
   "outputs": [],
   "source": [
    "int_df = df[[\"Distance from Residence to Work\",\"Transportation expense\",\"Service time\" ,\"Age\",\"Son\",\"Weight\",'Disciplinary failure','Month of absence','Hit target']]"
   ]
  },
  {
   "cell_type": "code",
   "execution_count": 93,
   "id": "84ca2ef6-1387-4a69-823e-faa89f890f39",
   "metadata": {},
   "outputs": [],
   "source": [
    "def cal_vif(int_df):\n",
    "    vif = pd.Series(name=\"VIF\")\n",
    "    for i in range(0, int_df.shape[1]):\n",
    "        vif[int_df.columns[i]] = variance_inflation_factor(int_df.values, i)\n",
    "    return vif\n",
    "vif_values = cal_vif(int_df)"
   ]
  },
  {
   "cell_type": "code",
   "execution_count": 94,
   "id": "c071b015-7c06-472f-a50c-aec8df7d07eb",
   "metadata": {},
   "outputs": [
    {
     "name": "stdout",
     "output_type": "stream",
     "text": [
      "Distance from Residence to Work     4.746542\n",
      "Transportation expense              4.772577\n",
      "Service time                       17.077149\n",
      "Age                                 6.570451\n",
      "Son                                 2.346954\n",
      "Weight                              5.505607\n",
      "Disciplinary failure                1.121532\n",
      "Month of absence                    3.964648\n",
      "Hit target                          7.256133\n",
      "Name: VIF, dtype: float64\n"
     ]
    }
   ],
   "source": [
    "print(vif_values)"
   ]
  },
  {
   "cell_type": "code",
   "execution_count": 95,
   "id": "e723ee4a-7c05-48a7-8553-4d5ae7595d47",
   "metadata": {},
   "outputs": [],
   "source": [
    "df.drop([\"Service time\"], axis = 1, inplace=True)"
   ]
  },
  {
   "cell_type": "code",
   "execution_count": 96,
   "id": "456e3447-e1e6-45d4-8664-b35eb2693684",
   "metadata": {},
   "outputs": [],
   "source": [
    "dep = df[[\"Absenteeism time in hours\"]]"
   ]
  },
  {
   "cell_type": "code",
   "execution_count": 97,
   "id": "5bfddc49-be82-4a78-ac79-3e4c5ac1867d",
   "metadata": {},
   "outputs": [
    {
     "data": {
      "text/plain": [
       "Index(['ID', 'Reason for absence', 'Month of absence', 'Day of the week',\n",
       "       'Seasons', 'Transportation expense', 'Distance from Residence to Work',\n",
       "       'Age', 'Work load Average/day ', 'Hit target', 'Disciplinary failure',\n",
       "       'Education', 'Son', 'Social drinker', 'Social smoker', 'Pet', 'Weight',\n",
       "       'Height', 'Body mass index', 'Absenteeism time in hours'],\n",
       "      dtype='object')"
      ]
     },
     "execution_count": 97,
     "metadata": {},
     "output_type": "execute_result"
    }
   ],
   "source": [
    "df.columns"
   ]
  },
  {
   "cell_type": "code",
   "execution_count": 98,
   "id": "5474a836-758b-47e6-b618-54f3e35b408e",
   "metadata": {},
   "outputs": [],
   "source": [
    "indep= df[['Reason for absence','Disciplinary failure','Distance from Residence to Work']]"
   ]
  },
  {
   "cell_type": "code",
   "execution_count": 99,
   "id": "90755458-9bd2-44c0-a881-ddbd4a5bff2e",
   "metadata": {},
   "outputs": [],
   "source": [
    "dep_train, dep_test, indep_train, indep_test = train_test_split( dep, indep, train_size= 0.7, random_state = 42)"
   ]
  },
  {
   "cell_type": "code",
   "execution_count": 100,
   "id": "ae46ec78-2aaa-46d0-b386-5ef0be41e738",
   "metadata": {},
   "outputs": [],
   "source": [
    "Lin_reg = LinearRegression()"
   ]
  },
  {
   "cell_type": "code",
   "execution_count": 101,
   "id": "693a96d3-b042-4c30-b11c-2576c205171c",
   "metadata": {},
   "outputs": [
    {
     "name": "stdout",
     "output_type": "stream",
     "text": [
      "0.017270215090571066\n"
     ]
    }
   ],
   "source": [
    "lin_reg_model =Lin_reg.fit(dep_train.values, indep_train.values) \n",
    "print(lin_reg_model.score(dep_train.values, indep_train.values))"
   ]
  },
  {
   "cell_type": "code",
   "execution_count": 102,
   "id": "6e4c30fc-4596-47f9-877e-4d4f7b64a215",
   "metadata": {},
   "outputs": [],
   "source": [
    "indep_pred = lin_reg_model.predict(dep_test.values)"
   ]
  },
  {
   "cell_type": "code",
   "execution_count": 103,
   "id": "f4760885-502c-4e13-b423-49707d325243",
   "metadata": {},
   "outputs": [
    {
     "name": "stdout",
     "output_type": "stream",
     "text": [
      "MSE 21.174649468006653\n",
      "RMSE= 2.8391134817436448\n",
      "MAE = 2.318949232020788\n",
      "R2 = 0.011578996598219371\n"
     ]
    }
   ],
   "source": [
    "mse = mean_squared_error(indep_test,indep_pred)\n",
    "print(\"MSE\",mse)\n",
    "mse = mean_squared_error(indep_pred, indep_test, squared=False)\n",
    "print(\"RMSE=\",mse)\n",
    "print(\"MAE =\",  mean_absolute_error(indep_test,indep_pred))\n",
    "r_squared = r2_score(indep_test, indep_pred)\n",
    "print(\"R2 =\", r_squared)"
   ]
  },
  {
   "cell_type": "code",
   "execution_count": 104,
   "id": "96f03f99-5327-4834-a415-83b9d2548ec0",
   "metadata": {},
   "outputs": [],
   "source": [
    "#Interpretation \n",
    "#Since the model performance is very low i.e. 0.019. This tells us that we cannot predict the absenteeism time of the employees based on various factors like Disciplinary failure,Distance from Residence to Work etc."
   ]
  },
  {
   "cell_type": "code",
   "execution_count": 105,
   "id": "ba6c9ed7-e45d-4446-8bb1-859c938d832f",
   "metadata": {},
   "outputs": [],
   "source": [
    "#What is the objective (the end goal of the project) ?\n",
    "# The objective of the project is to analyze the employee absenteeism data to identify patterns, correlations, and factors contributing to absenteeism in the workplace."
   ]
  },
  {
   "cell_type": "code",
   "execution_count": 106,
   "id": "fea909e2-46a8-42ee-a2ae-955441e97dce",
   "metadata": {},
   "outputs": [],
   "source": [
    "#What should the management improve from their side?\n",
    "#By evaluating if there is a connection between absenteeism and disciplinary issues or not.So, that the management will get to know about the work culture\n",
    "#By reviewing the impact of health related reasons for absence and considering a wellness programs for the employees.\n",
    "#By checking factors like workload, transportation expenses, and work life balance to see if they contribute to absenteeism or not.\n",
    "#By Identifying the most frequent/common reasons for absence and addressing them through targeted interventions."
   ]
  },
  {
   "cell_type": "code",
   "execution_count": 107,
   "id": "35b93892-6329-48a5-ad9f-631b3aafae6a",
   "metadata": {},
   "outputs": [],
   "source": [
    "######## Project Part 2 ########"
   ]
  },
  {
   "cell_type": "code",
   "execution_count": 108,
   "id": "e5c40d4f-8abc-48ae-abe7-81bdcfb8e5cb",
   "metadata": {},
   "outputs": [],
   "source": [
    "#Task 1"
   ]
  },
  {
   "cell_type": "code",
   "execution_count": 109,
   "id": "f912f4bd-3246-4460-bfef-2d848bd07e84",
   "metadata": {},
   "outputs": [],
   "source": [
    "from sklearn.linear_model import LogisticRegression"
   ]
  },
  {
   "cell_type": "code",
   "execution_count": 110,
   "id": "f17c45fd-599e-4cdb-b262-9e4cd7a60e0f",
   "metadata": {},
   "outputs": [],
   "source": [
    "dep1 = df[[\"Disciplinary failure\"]]"
   ]
  },
  {
   "cell_type": "code",
   "execution_count": 111,
   "id": "1bfae27a-e368-4659-a060-569afa75a249",
   "metadata": {},
   "outputs": [
    {
     "data": {
      "text/plain": [
       "Index(['ID', 'Reason for absence', 'Month of absence', 'Day of the week',\n",
       "       'Seasons', 'Transportation expense', 'Distance from Residence to Work',\n",
       "       'Age', 'Work load Average/day ', 'Hit target', 'Disciplinary failure',\n",
       "       'Education', 'Son', 'Social drinker', 'Social smoker', 'Pet', 'Weight',\n",
       "       'Height', 'Body mass index', 'Absenteeism time in hours'],\n",
       "      dtype='object')"
      ]
     },
     "execution_count": 111,
     "metadata": {},
     "output_type": "execute_result"
    }
   ],
   "source": [
    "df.columns"
   ]
  },
  {
   "cell_type": "code",
   "execution_count": 112,
   "id": "45f5895b-304e-4d83-b6c8-b7e9c85da90e",
   "metadata": {},
   "outputs": [],
   "source": [
    "scaler = MinMaxScaler()\n",
    "df['Absenteeism time in hours'] = scaler.fit_transform(df['Absenteeism time in hours'].to_numpy().reshape(-1,1))\n",
    "df['Work load Average/day '] = scaler.fit_transform(df['Work load Average/day '].to_numpy().reshape(-1,1))"
   ]
  },
  {
   "cell_type": "code",
   "execution_count": 113,
   "id": "bbb236fd-d8da-4c36-9dfe-8e29a04d1877",
   "metadata": {},
   "outputs": [],
   "source": [
    "indep1= df[['Absenteeism time in hours','Transportation expense','Social drinker']]"
   ]
  },
  {
   "cell_type": "code",
   "execution_count": 114,
   "id": "19788eac-0bdf-4226-95f3-16b7753aa43a",
   "metadata": {},
   "outputs": [],
   "source": [
    "indep1_train, indep1_test, dep1_train, dep1_test = train_test_split(indep1, dep1, test_size=0.2, random_state=42)"
   ]
  },
  {
   "cell_type": "code",
   "execution_count": 115,
   "id": "510d8ee4-0fd5-4acc-9ae5-9b1cc7530916",
   "metadata": {},
   "outputs": [
    {
     "data": {
      "text/html": [
       "<div>\n",
       "<style scoped>\n",
       "    .dataframe tbody tr th:only-of-type {\n",
       "        vertical-align: middle;\n",
       "    }\n",
       "\n",
       "    .dataframe tbody tr th {\n",
       "        vertical-align: top;\n",
       "    }\n",
       "\n",
       "    .dataframe thead th {\n",
       "        text-align: right;\n",
       "    }\n",
       "</style>\n",
       "<table border=\"1\" class=\"dataframe\">\n",
       "  <thead>\n",
       "    <tr style=\"text-align: right;\">\n",
       "      <th></th>\n",
       "      <th>Absenteeism time in hours</th>\n",
       "      <th>Transportation expense</th>\n",
       "      <th>Social drinker</th>\n",
       "    </tr>\n",
       "  </thead>\n",
       "  <tbody>\n",
       "    <tr>\n",
       "      <th>0</th>\n",
       "      <td>0.033333</td>\n",
       "      <td>0.633333</td>\n",
       "      <td>1</td>\n",
       "    </tr>\n",
       "    <tr>\n",
       "      <th>1</th>\n",
       "      <td>0.000000</td>\n",
       "      <td>0.000000</td>\n",
       "      <td>1</td>\n",
       "    </tr>\n",
       "    <tr>\n",
       "      <th>2</th>\n",
       "      <td>0.016667</td>\n",
       "      <td>0.225926</td>\n",
       "      <td>1</td>\n",
       "    </tr>\n",
       "    <tr>\n",
       "      <th>3</th>\n",
       "      <td>0.033333</td>\n",
       "      <td>0.596296</td>\n",
       "      <td>1</td>\n",
       "    </tr>\n",
       "    <tr>\n",
       "      <th>4</th>\n",
       "      <td>0.016667</td>\n",
       "      <td>0.633333</td>\n",
       "      <td>1</td>\n",
       "    </tr>\n",
       "    <tr>\n",
       "      <th>...</th>\n",
       "      <td>...</td>\n",
       "      <td>...</td>\n",
       "      <td>...</td>\n",
       "    </tr>\n",
       "    <tr>\n",
       "      <th>735</th>\n",
       "      <td>0.066667</td>\n",
       "      <td>0.633333</td>\n",
       "      <td>1</td>\n",
       "    </tr>\n",
       "    <tr>\n",
       "      <th>736</th>\n",
       "      <td>0.033333</td>\n",
       "      <td>0.433333</td>\n",
       "      <td>0</td>\n",
       "    </tr>\n",
       "    <tr>\n",
       "      <th>737</th>\n",
       "      <td>0.000000</td>\n",
       "      <td>0.000000</td>\n",
       "      <td>1</td>\n",
       "    </tr>\n",
       "    <tr>\n",
       "      <th>738</th>\n",
       "      <td>0.000000</td>\n",
       "      <td>0.418519</td>\n",
       "      <td>1</td>\n",
       "    </tr>\n",
       "    <tr>\n",
       "      <th>739</th>\n",
       "      <td>0.000000</td>\n",
       "      <td>0.225926</td>\n",
       "      <td>0</td>\n",
       "    </tr>\n",
       "  </tbody>\n",
       "</table>\n",
       "<p>706 rows × 3 columns</p>\n",
       "</div>"
      ],
      "text/plain": [
       "     Absenteeism time in hours  Transportation expense  Social drinker\n",
       "0                     0.033333                0.633333               1\n",
       "1                     0.000000                0.000000               1\n",
       "2                     0.016667                0.225926               1\n",
       "3                     0.033333                0.596296               1\n",
       "4                     0.016667                0.633333               1\n",
       "..                         ...                     ...             ...\n",
       "735                   0.066667                0.633333               1\n",
       "736                   0.033333                0.433333               0\n",
       "737                   0.000000                0.000000               1\n",
       "738                   0.000000                0.418519               1\n",
       "739                   0.000000                0.225926               0\n",
       "\n",
       "[706 rows x 3 columns]"
      ]
     },
     "execution_count": 115,
     "metadata": {},
     "output_type": "execute_result"
    }
   ],
   "source": [
    "indep1"
   ]
  },
  {
   "cell_type": "code",
   "execution_count": 116,
   "id": "2df69cd0-d5ed-456d-9b2e-9b795e580d1c",
   "metadata": {},
   "outputs": [
    {
     "name": "stdout",
     "output_type": "stream",
     "text": [
      "(564, 3)\n",
      "(564, 1)\n",
      "(142, 3)\n",
      "(142, 1)\n"
     ]
    }
   ],
   "source": [
    "print(indep1_train.shape)  \n",
    "print(dep1_train.shape)    \n",
    "print(indep1_test.shape)   \n",
    "print(dep1_test.shape)     "
   ]
  },
  {
   "cell_type": "code",
   "execution_count": 117,
   "id": "24ba00f3-b1b3-4de9-8131-4553754b47c5",
   "metadata": {},
   "outputs": [],
   "source": [
    "log_reg = LogisticRegression().fit( indep1_train, dep1_train)"
   ]
  },
  {
   "cell_type": "code",
   "execution_count": 118,
   "id": "c2ba04aa-8b12-46ee-90d4-fa6078d37f92",
   "metadata": {},
   "outputs": [
    {
     "data": {
      "text/plain": [
       "0.9450354609929078"
      ]
     },
     "execution_count": 118,
     "metadata": {},
     "output_type": "execute_result"
    }
   ],
   "source": [
    "log_reg.score( indep1_train , dep1_train)"
   ]
  },
  {
   "cell_type": "code",
   "execution_count": 119,
   "id": "396c5a20-0a9c-49d6-bb30-bd930c0bfbfa",
   "metadata": {},
   "outputs": [],
   "source": [
    "yy_pred = log_reg.predict(indep1_test)"
   ]
  },
  {
   "cell_type": "code",
   "execution_count": 120,
   "id": "2080f856-0925-4997-aba2-042fca473a5e",
   "metadata": {},
   "outputs": [
    {
     "name": "stdout",
     "output_type": "stream",
     "text": [
      "[[133   0]\n",
      " [  9   0]]\n"
     ]
    }
   ],
   "source": [
    "from sklearn.metrics import confusion_matrix\n",
    "print(confusion_matrix(dep1_test, yy_pred))"
   ]
  },
  {
   "cell_type": "code",
   "execution_count": 121,
   "id": "8af7f748-c781-46f1-b831-cde1e265b7dd",
   "metadata": {},
   "outputs": [
    {
     "name": "stdout",
     "output_type": "stream",
     "text": [
      "0.9059667093469911\n"
     ]
    }
   ],
   "source": [
    "from sklearn.metrics import f1_score\n",
    "print(f1_score(dep1_test, yy_pred, average = 'weighted'))"
   ]
  },
  {
   "cell_type": "code",
   "execution_count": 122,
   "id": "26c1630b-c1b4-419f-8a7d-51372d65d3f8",
   "metadata": {},
   "outputs": [
    {
     "name": "stdout",
     "output_type": "stream",
     "text": [
      "0.9366197183098591\n"
     ]
    }
   ],
   "source": [
    "from sklearn.metrics import accuracy_score\n",
    "print(accuracy_score(dep1_test, yy_pred))"
   ]
  },
  {
   "cell_type": "code",
   "execution_count": 139,
   "id": "191759b8-d8cf-4161-98a0-b5620a6c0c53",
   "metadata": {},
   "outputs": [
    {
     "name": "stdout",
     "output_type": "stream",
     "text": [
      "roc scroe is 0.6758563074352548\n"
     ]
    }
   ],
   "source": [
    "roc = roc_auc_score(dep1_test, log_reg.predict_proba(indep1_test)[:,1])\n",
    "print(\"roc scroe is\", roc)"
   ]
  },
  {
   "cell_type": "code",
   "execution_count": 125,
   "id": "d17db575-7da4-48b6-96a6-35b627a3ed18",
   "metadata": {},
   "outputs": [
    {
     "name": "stdout",
     "output_type": "stream",
     "text": [
      "recall 0.9366197183098591\n",
      "precision 0.8772564967268399\n"
     ]
    }
   ],
   "source": [
    "print(\"recall\", recall_score(dep1_test, yy_pred,average='weighted'))\n",
    "print(\"precision\", precision_score(dep1_test, yy_pred, average='weighted'))"
   ]
  },
  {
   "cell_type": "code",
   "execution_count": 126,
   "id": "5c9f0d06-3542-490c-a80f-575570cc2150",
   "metadata": {},
   "outputs": [
    {
     "data": {
      "image/png": "[encoded data removed]",
      "text/plain": [
       "<Figure size 640x480 with 1 Axes>"
      ]
     },
     "metadata": {},
     "output_type": "display_data"
    }
   ],
   "source": [
    "from sklearn.metrics import roc_curve, auc \n",
    "from sklearn.metrics import RocCurveDisplay\n",
    "import matplotlib.pyplot as plt\n",
    "y_prob = log_reg.predict_proba(indep1_test)[:, 1]\n",
    "fpr, tpr,_= roc_curve(dep1_test, y_prob)\n",
    "roc_auc = auc(fpr, tpr)\n",
    "roc_display = RocCurveDisplay (fpr=fpr, tpr=tpr,roc_auc=roc_auc)\n",
    "roc_display.plot()\n",
    "plt.xlabel('False Positive Rate')\n",
    "plt.ylabel('True Positive Rate')\n",
    "plt.title(\"Receiver Operating Characteristic (ROC) Curve\")\n",
    "plt.legend(loc=\"lower right\")\n",
    "plt.show()"
   ]
  },
  {
   "cell_type": "code",
   "execution_count": 127,
   "id": "517ac352-4a97-4131-ba1c-7662de921c92",
   "metadata": {},
   "outputs": [],
   "source": [
    "#Interpretation \n",
    "#Since the model is performing very well. We can predict the employees who are more likely to have high absenteeism because the model performance is extremely good. "
   ]
  },
  {
   "cell_type": "code",
   "execution_count": 144,
   "id": "49ed8e6f-5ffe-4862-9eb6-ad3f7dc28e1d",
   "metadata": {},
   "outputs": [],
   "source": [
    "from sklearn import neighbors"
   ]
  },
  {
   "cell_type": "code",
   "execution_count": 193,
   "id": "239637a3-a785-49c2-b8ae-7b5d62c514bb",
   "metadata": {},
   "outputs": [],
   "source": [
    "from sklearn.neighbors import KNeighborsClassifier\n"
   ]
  },
  {
   "cell_type": "code",
   "execution_count": 140,
   "id": "61e35173-c7dd-4b69-8890-39969c8004f9",
   "metadata": {},
   "outputs": [
    {
     "data": {
      "text/plain": [
       "Index(['ID', 'Reason for absence', 'Month of absence', 'Day of the week',\n",
       "       'Seasons', 'Transportation expense', 'Distance from Residence to Work',\n",
       "       'Age', 'Work load Average/day ', 'Hit target', 'Disciplinary failure',\n",
       "       'Education', 'Son', 'Social drinker', 'Social smoker', 'Pet', 'Weight',\n",
       "       'Height', 'Body mass index', 'Absenteeism time in hours'],\n",
       "      dtype='object')"
      ]
     },
     "execution_count": 140,
     "metadata": {},
     "output_type": "execute_result"
    }
   ],
   "source": [
    "df.columns"
   ]
  },
  {
   "cell_type": "code",
   "execution_count": 191,
   "id": "7b87ecc1-1b61-44ed-829b-680fd63acfba",
   "metadata": {},
   "outputs": [],
   "source": [
    "X_knn = df[['Absenteeism time in hours','Transportation expense','Distance from Residence to Work','Disciplinary failure','Hit target']]"
   ]
  },
  {
   "cell_type": "code",
   "execution_count": 190,
   "id": "bd83bc43-2c3e-4afa-a0c6-54ded9e26ed5",
   "metadata": {},
   "outputs": [],
   "source": [
    "Y_knn = df[['Reason for absence']]"
   ]
  },
  {
   "cell_type": "code",
   "execution_count": 194,
   "id": "ea85ecaf-d075-4e1b-a70c-e8479fc0a650",
   "metadata": {},
   "outputs": [],
   "source": [
    "X_knn_train, X_knn_test, Y_knn_train, Y_knn_test = train_test_split(X_knn, Y_knn, test_size=0.2, random_state=42)"
   ]
  },
  {
   "cell_type": "code",
   "execution_count": 195,
   "id": "64d79807-ba22-48f3-8bbd-7e9f16da941f",
   "metadata": {},
   "outputs": [
    {
     "data": {
      "text/plain": [
       "(706, 20)"
      ]
     },
     "execution_count": 195,
     "metadata": {},
     "output_type": "execute_result"
    }
   ],
   "source": [
    "df.shape"
   ]
  },
  {
   "cell_type": "code",
   "execution_count": 196,
   "id": "112bcfea-e5cc-410f-b202-de6ae1022fc0",
   "metadata": {},
   "outputs": [
    {
     "name": "stdout",
     "output_type": "stream",
     "text": [
      "if k is 25 performace is 30.28169014084507\n",
      "if k is 50 performace is 30.985915492957744\n",
      "if k is 75 performace is 30.28169014084507\n",
      "if k is 100 performace is 33.80281690140845\n",
      "if k is 125 performace is 30.28169014084507\n",
      "if k is 150 performace is 28.169014084507044\n",
      "if k is 175 performace is 28.169014084507044\n",
      "if k is 200 performace is 23.943661971830984\n",
      "if k is 225 performace is 23.943661971830984\n",
      "if k is 250 performace is 19.718309859154928\n",
      "if k is 275 performace is 20.422535211267608\n",
      "if k is 300 performace is 20.422535211267608\n",
      "if k is 325 performace is 20.422535211267608\n",
      "if k is 350 performace is 20.422535211267608\n",
      "if k is 375 performace is 20.422535211267608\n",
      "if k is 400 performace is 20.422535211267608\n",
      "if k is 425 performace is 20.422535211267608\n",
      "if k is 450 performace is 20.422535211267608\n",
      "if k is 475 performace is 20.422535211267608\n",
      "if k is 500 performace is 20.422535211267608\n",
      "if k is 525 performace is 20.422535211267608\n",
      "if k is 550 performace is 20.422535211267608\n"
     ]
    }
   ],
   "source": [
    "performance = []\n",
    "k_options = np.arange(25,560,25)\n",
    "for which_k in k_options:\n",
    "    temp_model = neighbors.KNeighborsClassifier(which_k)\n",
    "    temp_model.fit(X_knn_train, Y_knn_train)\n",
    "    Y_knn_pred = temp_model.predict(X_knn_test)\n",
    "    print(\"if k is\", which_k, \"performace is\", accuracy_score(Y_knn_test,Y_knn_pred)*100)\n",
    "    performance.append( accuracy_score(Y_knn_test,Y_knn_pred)*100)"
   ]
  },
  {
   "cell_type": "code",
   "execution_count": 172,
   "id": "bde09a1f-e67d-4e17-b0c6-e7de92be4661",
   "metadata": {},
   "outputs": [
    {
     "data": {
      "image/png": "[encoded data removed]",
      "text/plain": [
       "<Figure size 640x480 with 1 Axes>"
      ]
     },
     "metadata": {},
     "output_type": "display_data"
    }
   ],
   "source": [
    "plt.plot(k_options, performance,marker = 'X');"
   ]
  },
  {
   "cell_type": "code",
   "execution_count": 197,
   "id": "0f3b8e01-ec18-4bbf-af5d-d136f2152c5c",
   "metadata": {},
   "outputs": [
    {
     "name": "stdout",
     "output_type": "stream",
     "text": [
      "if k is 100 then performance is 33.80281690140845\n"
     ]
    }
   ],
   "source": [
    "final_model = neighbors.KNeighborsClassifier(100)\n",
    "final_model.fit(X_knn_train, Y_knn_train)\n",
    "y_pred = final_model.predict(X_knn_test)\n",
    "print(\"if k is 100 then performance is\", accuracy_score(Y_knn_test,y_pred)*100)"
   ]
  },
  {
   "cell_type": "code",
   "execution_count": 198,
   "id": "ad59f050-24ee-44c7-bd62-fadc64133232",
   "metadata": {},
   "outputs": [
    {
     "data": {
      "text/plain": [
       "100"
      ]
     },
     "execution_count": 198,
     "metadata": {},
     "output_type": "execute_result"
    }
   ],
   "source": [
    "final_model.n_neighbors #Value of K"
   ]
  },
  {
   "cell_type": "code",
   "execution_count": 199,
   "id": "92e7d843-bdde-421b-8e7f-d0ab38342280",
   "metadata": {},
   "outputs": [],
   "source": [
    "#Interpretation\n",
    "# Since the model performance is very low. We cannot predict employees who are more likely to have high absenteeism because the performance of the model is very poor i.e. 33.80%"
   ]
  },
  {
   "cell_type": "code",
   "execution_count": 200,
   "id": "fb532523-6a3d-46fc-9c17-97f05f20f389",
   "metadata": {},
   "outputs": [],
   "source": [
    "from sklearn.cluster import KMeans\n",
    "import yellowbrick\n",
    "from yellowbrick.cluster import SilhouetteVisualizer\n",
    "from sklearn.neighbors import KNeighborsRegressor\n",
    "from sklearn.metrics import davies_bouldin_score\n",
    "from sklearn.metrics import calinski_harabasz_score\n",
    "from sklearn.metrics import silhouette_score"
   ]
  },
  {
   "cell_type": "code",
   "execution_count": null,
   "id": "3c262714-d258-4b4b-bf58-1c13777c9f6c",
   "metadata": {},
   "outputs": [],
   "source": [
    "#Absent\n",
    "#Month of absence\n",
    "#Reason for absence\n",
    "#Disc"
   ]
  },
  {
   "cell_type": "code",
   "execution_count": 202,
   "id": "c8a51f5d-64fd-4b57-934d-77c53871bac2",
   "metadata": {},
   "outputs": [
    {
     "data": {
      "text/plain": [
       "Index(['ID', 'Reason for absence', 'Month of absence', 'Day of the week',\n",
       "       'Seasons', 'Transportation expense', 'Distance from Residence to Work',\n",
       "       'Age', 'Work load Average/day ', 'Hit target', 'Disciplinary failure',\n",
       "       'Education', 'Son', 'Social drinker', 'Social smoker', 'Pet', 'Weight',\n",
       "       'Height', 'Body mass index', 'Absenteeism time in hours'],\n",
       "      dtype='object')"
      ]
     },
     "execution_count": 202,
     "metadata": {},
     "output_type": "execute_result"
    }
   ],
   "source": [
    "df2.columns"
   ]
  },
  {
   "cell_type": "code",
   "execution_count": 201,
   "id": "392a9a40-51cb-40d0-a112-d827e904cd8e",
   "metadata": {},
   "outputs": [],
   "source": [
    "df2 = df.copy()"
   ]
  },
  {
   "cell_type": "code",
   "execution_count": 203,
   "id": "2580af05-973c-473a-a9bf-7cf215fcb509",
   "metadata": {},
   "outputs": [],
   "source": [
    "df2 = df.drop(['ID', 'Day of the week','Seasons', 'Transportation expense', 'Distance from Residence to Work','Age', 'Work load Average/day ', 'Hit target',\n",
    "       'Education', 'Son', 'Social drinker', 'Social smoker', 'Pet', 'Weight',\n",
    "       'Height', 'Body mass index'], axis=1)"
   ]
  },
  {
   "cell_type": "code",
   "execution_count": 205,
   "id": "2c191a4d-a60f-4eb0-8b08-f9ef2ce77db6",
   "metadata": {},
   "outputs": [
    {
     "data": {
      "text/html": [
       "<div>\n",
       "<style scoped>\n",
       "    .dataframe tbody tr th:only-of-type {\n",
       "        vertical-align: middle;\n",
       "    }\n",
       "\n",
       "    .dataframe tbody tr th {\n",
       "        vertical-align: top;\n",
       "    }\n",
       "\n",
       "    .dataframe thead th {\n",
       "        text-align: right;\n",
       "    }\n",
       "</style>\n",
       "<table border=\"1\" class=\"dataframe\">\n",
       "  <thead>\n",
       "    <tr style=\"text-align: right;\">\n",
       "      <th></th>\n",
       "      <th>Reason for absence</th>\n",
       "      <th>Month of absence</th>\n",
       "      <th>Disciplinary failure</th>\n",
       "      <th>Absenteeism time in hours</th>\n",
       "    </tr>\n",
       "  </thead>\n",
       "  <tbody>\n",
       "    <tr>\n",
       "      <th>0</th>\n",
       "      <td>25</td>\n",
       "      <td>7</td>\n",
       "      <td>0</td>\n",
       "      <td>0.033333</td>\n",
       "    </tr>\n",
       "    <tr>\n",
       "      <th>1</th>\n",
       "      <td>0</td>\n",
       "      <td>7</td>\n",
       "      <td>1</td>\n",
       "      <td>0.000000</td>\n",
       "    </tr>\n",
       "    <tr>\n",
       "      <th>2</th>\n",
       "      <td>22</td>\n",
       "      <td>7</td>\n",
       "      <td>0</td>\n",
       "      <td>0.016667</td>\n",
       "    </tr>\n",
       "    <tr>\n",
       "      <th>3</th>\n",
       "      <td>7</td>\n",
       "      <td>7</td>\n",
       "      <td>0</td>\n",
       "      <td>0.033333</td>\n",
       "    </tr>\n",
       "    <tr>\n",
       "      <th>4</th>\n",
       "      <td>22</td>\n",
       "      <td>7</td>\n",
       "      <td>0</td>\n",
       "      <td>0.016667</td>\n",
       "    </tr>\n",
       "    <tr>\n",
       "      <th>...</th>\n",
       "      <td>...</td>\n",
       "      <td>...</td>\n",
       "      <td>...</td>\n",
       "      <td>...</td>\n",
       "    </tr>\n",
       "    <tr>\n",
       "      <th>735</th>\n",
       "      <td>14</td>\n",
       "      <td>7</td>\n",
       "      <td>0</td>\n",
       "      <td>0.066667</td>\n",
       "    </tr>\n",
       "    <tr>\n",
       "      <th>736</th>\n",
       "      <td>11</td>\n",
       "      <td>7</td>\n",
       "      <td>0</td>\n",
       "      <td>0.033333</td>\n",
       "    </tr>\n",
       "    <tr>\n",
       "      <th>737</th>\n",
       "      <td>0</td>\n",
       "      <td>0</td>\n",
       "      <td>0</td>\n",
       "      <td>0.000000</td>\n",
       "    </tr>\n",
       "    <tr>\n",
       "      <th>738</th>\n",
       "      <td>0</td>\n",
       "      <td>0</td>\n",
       "      <td>0</td>\n",
       "      <td>0.000000</td>\n",
       "    </tr>\n",
       "    <tr>\n",
       "      <th>739</th>\n",
       "      <td>0</td>\n",
       "      <td>0</td>\n",
       "      <td>0</td>\n",
       "      <td>0.000000</td>\n",
       "    </tr>\n",
       "  </tbody>\n",
       "</table>\n",
       "<p>706 rows × 4 columns</p>\n",
       "</div>"
      ],
      "text/plain": [
       "     Reason for absence  Month of absence  Disciplinary failure  \\\n",
       "0                    25                 7                     0   \n",
       "1                     0                 7                     1   \n",
       "2                    22                 7                     0   \n",
       "3                     7                 7                     0   \n",
       "4                    22                 7                     0   \n",
       "..                  ...               ...                   ...   \n",
       "735                  14                 7                     0   \n",
       "736                  11                 7                     0   \n",
       "737                   0                 0                     0   \n",
       "738                   0                 0                     0   \n",
       "739                   0                 0                     0   \n",
       "\n",
       "     Absenteeism time in hours  \n",
       "0                     0.033333  \n",
       "1                     0.000000  \n",
       "2                     0.016667  \n",
       "3                     0.033333  \n",
       "4                     0.016667  \n",
       "..                         ...  \n",
       "735                   0.066667  \n",
       "736                   0.033333  \n",
       "737                   0.000000  \n",
       "738                   0.000000  \n",
       "739                   0.000000  \n",
       "\n",
       "[706 rows x 4 columns]"
      ]
     },
     "execution_count": 205,
     "metadata": {},
     "output_type": "execute_result"
    }
   ],
   "source": [
    "df2"
   ]
  },
  {
   "cell_type": "code",
   "execution_count": 206,
   "id": "057da08b-4a2d-4bdf-8744-77eca0a3ec64",
   "metadata": {},
   "outputs": [
    {
     "name": "stdout",
     "output_type": "stream",
     "text": [
      "For n_clusters = 2\n",
      "The average silhouette_score is : 0.5809312574112241\n",
      "For n_clusters = 3\n",
      "The average silhouette_score is : 0.5287341728150483\n",
      "For n_clusters = 4\n",
      "The average silhouette_score is : 0.4511813285015131\n",
      "For n_clusters = 5\n",
      "The average silhouette_score is : 0.44695507326850453\n",
      "For n_clusters = 6\n",
      "The average silhouette_score is : 0.44165393954909415\n",
      "For n_clusters = 7\n",
      "The average silhouette_score is : 0.46523005868814554\n",
      "For n_clusters = 8\n",
      "The average silhouette_score is : 0.4567736591695837\n",
      "For n_clusters = 9\n",
      "The average silhouette_score is : 0.47095705872102545\n",
      "For n_clusters = 10\n",
      "The average silhouette_score is : 0.4736107413251423\n",
      "For n_clusters = 11\n",
      "The average silhouette_score is : 0.46419295929585264\n",
      "For n_clusters = 12\n",
      "The average silhouette_score is : 0.45824656539168096\n",
      "For n_clusters = 13\n",
      "The average silhouette_score is : 0.45375399177052705\n",
      "For n_clusters = 14\n",
      "The average silhouette_score is : 0.45729440057616705\n",
      "For n_clusters = 15\n",
      "The average silhouette_score is : 0.4622997327793076\n",
      "For n_clusters = 16\n",
      "The average silhouette_score is : 0.4599167223071775\n",
      "For n_clusters = 17\n",
      "The average silhouette_score is : 0.44902885037432594\n",
      "For n_clusters = 18\n",
      "The average silhouette_score is : 0.4561644899574085\n",
      "For n_clusters = 19\n",
      "The average silhouette_score is : 0.4801478384054508\n"
     ]
    }
   ],
   "source": [
    "err=[]\n",
    "mycluster2 = np.arange(2,20)\n",
    "for f in mycluster2:\n",
    "    model = KMeans(n_clusters=f, random_state = 42)\n",
    "    model.fit(df2)\n",
    "    sil_avg = silhouette_score(df2, model.labels_)\n",
    "    print(\"For n_clusters =\", f)\n",
    "    print(\"The average silhouette_score is :\",sil_avg)"
   ]
  },
  {
   "cell_type": "code",
   "execution_count": 207,
   "id": "e8c221ff-a984-40fa-888f-d766224286ae",
   "metadata": {},
   "outputs": [],
   "source": [
    "for myclust in mycluster2:\n",
    "    model=KMeans(n_clusters= myclust, random_state=42)\n",
    "    model.fit(df2)\n",
    "    sil_avg=silhouette_score(df2, model.labels_)\n",
    "    "
   ]
  },
  {
   "cell_type": "code",
   "execution_count": 208,
   "id": "633085f8-3392-4f36-96aa-f1d4270c41a1",
   "metadata": {},
   "outputs": [],
   "source": [
    "#final value of k is 2"
   ]
  },
  {
   "cell_type": "code",
   "execution_count": 209,
   "id": "7eeeb753-42b9-42d8-9ebe-1b7123296827",
   "metadata": {},
   "outputs": [
    {
     "name": "stdout",
     "output_type": "stream",
     "text": [
      "final centroids are [[2.33050847e+01 6.34957627e+00 1.45716772e-16 4.40501412e-02]\n",
      " [8.22222222e+00 6.53418803e+00 1.70940171e-01 9.07407407e-02]]\n",
      "final labels are [0 1 0 1 0 0 0 0 0 0 1 1 1 1 0 1 0 1 0 1 1 1 0 0 0 0 0 0 0 0 0 0 0 0 0 0 1\n",
      " 0 0 0 0 0 0 0 0 0 0 0 1 1 1 0 0 1 1 0 0 1 0 0 0 0 0 1 0 0 0 0 0 0 0 0 0 1\n",
      " 0 0 0 0 0 0 1 0 0 1 0 1 1 0 0 1 0 0 0 1 0 0 0 0 0 0 0 0 0 0 0 0 0 0 0 0 0\n",
      " 0 0 0 0 0 0 0 0 0 0 0 0 0 0 0 0 0 0 1 1 0 0 0 0 1 1 0 0 0 0 0 0 0 0 0 0 0\n",
      " 0 0 0 1 1 1 1 1 1 0 1 1 1 0 0 1 1 0 1 1 1 1 1 1 0 1 0 0 0 0 1 0 0 0 1 0 0\n",
      " 1 0 0 0 0 1 0 1 1 1 1 0 0 0 0 1 0 1 1 1 1 1 1 1 1 0 0 0 1 0 1 1 0 1 1 1 0\n",
      " 1 0 1 0 0 0 1 1 0 0 0 0 1 1 0 0 0 0 0 0 1 0 0 0 0 1 1 0 0 0 1 0 1 0 0 0 0\n",
      " 1 1 1 0 0 1 1 0 1 1 1 1 0 0 0 0 0 1 0 1 1 0 0 0 0 1 1 1 1 0 0 1 1 0 0 1 0\n",
      " 0 0 0 0 1 1 1 1 1 1 0 1 0 1 0 0 1 1 0 1 0 1 0 0 1 1 1 0 1 1 1 1 0 1 0 0 0\n",
      " 0 0 1 0 0 0 0 0 1 1 0 0 0 0 0 0 0 1 0 0 1 0 0 0 0 0 0 1 0 0 0 0 1 0 0 0 0\n",
      " 0 0 1 1 0 0 0 0 0 0 0 0 0 0 1 0 0 1 1 1 1 1 0 0 0 0 0 0 0 0 0 0 0 0 1 0 0\n",
      " 0 1 1 0 1 0 0 0 0 1 1 0 0 1 0 0 1 0 0 0 0 0 1 1 0 0 0 0 0 0 0 1 0 0 1 1 0\n",
      " 0 1 1 0 0 0 0 1 0 0 1 0 0 0 0 0 0 0 0 0 0 0 0 0 0 0 0 0 0 0 0 0 0 0 0 0 0\n",
      " 0 0 0 0 0 0 0 1 1 0 1 0 0 0 0 0 0 0 0 0 0 1 0 1 1 1 1 0 1 1 1 1 0 0 1 0 1\n",
      " 0 1 0 0 0 1 1 0 0 1 0 1 1 1 1 0 0 0 1 0 0 1 0 1 0 0 0 1 0 0 0 0 1 1 0 0 1\n",
      " 0 1 0 0 0 0 0 1 0 0 1 0 1 0 0 0 0 0 0 0 0 1 0 0 0 1 0 0 1 0 1 0 0 1 0 0 0\n",
      " 0 0 0 0 0 1 0 0 0 0 0 0 0 1 0 1 1 0 1 0 0 0 0 0 0 0 0 1 0 0 1 0 0 1 1 0 0\n",
      " 1 0 1 0 0 0 1 0 0 0 0 0 1 0 0 0 1 0 1 0 1 0 0 0 0 1 0 1 0 1 0 1 1 0 1 1 1\n",
      " 0 1 0 0 1 1 1 0 0 1 0 0 0 0 1 1 0 1 0 1 0 0 1 1 0 0 0 1 0 1 0 0 0 0 1 1 1\n",
      " 1 1 1]\n",
      "errors are 18485.946149282674\n",
      "for n_cluster= 19 calinski_harabasz_score is: 1355.7408002734417\n",
      "for n_cluster= 19 davies_bouldin_scoreis: 0.6596790550846517\n"
     ]
    }
   ],
   "source": [
    "final_km=KMeans(n_clusters=2, random_state=42)\n",
    "final_km.fit(df2)\n",
    "final_centroid=final_km.cluster_centers_\n",
    "print(\"final centroids are\",final_centroid)\n",
    "final_labels=final_km.labels_\n",
    "print(\"final labels are\",final_labels)\n",
    "print(\"errors are\",final_km.inertia_) \n",
    "print(\"for n_cluster=\",myclust, \"calinski_harabasz_score is:\",calinski_harabasz_score(df2, final_km.labels_)) \n",
    "print(\"for n_cluster=\",myclust, \"davies_bouldin_scoreis:\",davies_bouldin_score(df2, final_km.labels_)) \n"
   ]
  },
  {
   "cell_type": "code",
   "execution_count": 218,
   "id": "da473670-44bf-423f-828c-d4a5dc9a6fdc",
   "metadata": {},
   "outputs": [
    {
     "data": {
      "text/plain": [
       "ID                                   int64\n",
       "Reason for absence                   int64\n",
       "Month of absence                     int64\n",
       "Day of the week                      int64\n",
       "Seasons                              int64\n",
       "Transportation expense             float64\n",
       "Distance from Residence to Work    float64\n",
       "Age                                float64\n",
       "Work load Average/day              float64\n",
       "Hit target                         float64\n",
       "Disciplinary failure                 int64\n",
       "Education                            int64\n",
       "Son                                float64\n",
       "Social drinker                       int64\n",
       "Social smoker                        int64\n",
       "Pet                                  int64\n",
       "Weight                             float64\n",
       "Height                               int64\n",
       "Body mass index                      int64\n",
       "Absenteeism time in hours          float64\n",
       "dtype: object"
      ]
     },
     "execution_count": 218,
     "metadata": {},
     "output_type": "execute_result"
    }
   ],
   "source": [
    "df.dtypes"
   ]
  },
  {
   "cell_type": "code",
   "execution_count": 211,
   "id": "3da6467f-fa58-4d2d-a979-2ed840d72d9c",
   "metadata": {},
   "outputs": [
    {
     "data": {
      "image/png": "[encoded data removed]",
      "text/plain": [
       "<Figure size 800x550 with 1 Axes>"
      ]
     },
     "metadata": {},
     "output_type": "display_data"
    }
   ],
   "source": [
    "vis=SilhouetteVisualizer(final_km)\n",
    "vis.fit(df2);"
   ]
  },
  {
   "cell_type": "code",
   "execution_count": 212,
   "id": "d04942b7-c77d-4c81-b2d1-f4342b01c303",
   "metadata": {},
   "outputs": [
    {
     "data": {
      "text/html": [
       "<div>\n",
       "<style scoped>\n",
       "    .dataframe tbody tr th:only-of-type {\n",
       "        vertical-align: middle;\n",
       "    }\n",
       "\n",
       "    .dataframe tbody tr th {\n",
       "        vertical-align: top;\n",
       "    }\n",
       "\n",
       "    .dataframe thead th {\n",
       "        text-align: right;\n",
       "    }\n",
       "</style>\n",
       "<table border=\"1\" class=\"dataframe\">\n",
       "  <thead>\n",
       "    <tr style=\"text-align: right;\">\n",
       "      <th></th>\n",
       "      <th>Reason for absence</th>\n",
       "      <th>Month of absence</th>\n",
       "      <th>Disciplinary failure</th>\n",
       "      <th>Absenteeism time in hours</th>\n",
       "    </tr>\n",
       "  </thead>\n",
       "  <tbody>\n",
       "    <tr>\n",
       "      <th>0</th>\n",
       "      <td>25</td>\n",
       "      <td>7</td>\n",
       "      <td>0</td>\n",
       "      <td>0.033333</td>\n",
       "    </tr>\n",
       "    <tr>\n",
       "      <th>1</th>\n",
       "      <td>0</td>\n",
       "      <td>7</td>\n",
       "      <td>1</td>\n",
       "      <td>0.000000</td>\n",
       "    </tr>\n",
       "    <tr>\n",
       "      <th>2</th>\n",
       "      <td>22</td>\n",
       "      <td>7</td>\n",
       "      <td>0</td>\n",
       "      <td>0.016667</td>\n",
       "    </tr>\n",
       "    <tr>\n",
       "      <th>3</th>\n",
       "      <td>7</td>\n",
       "      <td>7</td>\n",
       "      <td>0</td>\n",
       "      <td>0.033333</td>\n",
       "    </tr>\n",
       "    <tr>\n",
       "      <th>4</th>\n",
       "      <td>22</td>\n",
       "      <td>7</td>\n",
       "      <td>0</td>\n",
       "      <td>0.016667</td>\n",
       "    </tr>\n",
       "    <tr>\n",
       "      <th>...</th>\n",
       "      <td>...</td>\n",
       "      <td>...</td>\n",
       "      <td>...</td>\n",
       "      <td>...</td>\n",
       "    </tr>\n",
       "    <tr>\n",
       "      <th>735</th>\n",
       "      <td>14</td>\n",
       "      <td>7</td>\n",
       "      <td>0</td>\n",
       "      <td>0.066667</td>\n",
       "    </tr>\n",
       "    <tr>\n",
       "      <th>736</th>\n",
       "      <td>11</td>\n",
       "      <td>7</td>\n",
       "      <td>0</td>\n",
       "      <td>0.033333</td>\n",
       "    </tr>\n",
       "    <tr>\n",
       "      <th>737</th>\n",
       "      <td>0</td>\n",
       "      <td>0</td>\n",
       "      <td>0</td>\n",
       "      <td>0.000000</td>\n",
       "    </tr>\n",
       "    <tr>\n",
       "      <th>738</th>\n",
       "      <td>0</td>\n",
       "      <td>0</td>\n",
       "      <td>0</td>\n",
       "      <td>0.000000</td>\n",
       "    </tr>\n",
       "    <tr>\n",
       "      <th>739</th>\n",
       "      <td>0</td>\n",
       "      <td>0</td>\n",
       "      <td>0</td>\n",
       "      <td>0.000000</td>\n",
       "    </tr>\n",
       "  </tbody>\n",
       "</table>\n",
       "<p>706 rows × 4 columns</p>\n",
       "</div>"
      ],
      "text/plain": [
       "     Reason for absence  Month of absence  Disciplinary failure  \\\n",
       "0                    25                 7                     0   \n",
       "1                     0                 7                     1   \n",
       "2                    22                 7                     0   \n",
       "3                     7                 7                     0   \n",
       "4                    22                 7                     0   \n",
       "..                  ...               ...                   ...   \n",
       "735                  14                 7                     0   \n",
       "736                  11                 7                     0   \n",
       "737                   0                 0                     0   \n",
       "738                   0                 0                     0   \n",
       "739                   0                 0                     0   \n",
       "\n",
       "     Absenteeism time in hours  \n",
       "0                     0.033333  \n",
       "1                     0.000000  \n",
       "2                     0.016667  \n",
       "3                     0.033333  \n",
       "4                     0.016667  \n",
       "..                         ...  \n",
       "735                   0.066667  \n",
       "736                   0.033333  \n",
       "737                   0.000000  \n",
       "738                   0.000000  \n",
       "739                   0.000000  \n",
       "\n",
       "[706 rows x 4 columns]"
      ]
     },
     "execution_count": 212,
     "metadata": {},
     "output_type": "execute_result"
    }
   ],
   "source": [
    "df_1=pd.DataFrame(df2)\n",
    "df_1"
   ]
  },
  {
   "cell_type": "code",
   "execution_count": 214,
   "id": "18e0cd0b-ab13-460a-9cdd-bfb0a50d6865",
   "metadata": {},
   "outputs": [
    {
     "data": {
      "text/html": [
       "<div>\n",
       "<style scoped>\n",
       "    .dataframe tbody tr th:only-of-type {\n",
       "        vertical-align: middle;\n",
       "    }\n",
       "\n",
       "    .dataframe tbody tr th {\n",
       "        vertical-align: top;\n",
       "    }\n",
       "\n",
       "    .dataframe thead th {\n",
       "        text-align: right;\n",
       "    }\n",
       "</style>\n",
       "<table border=\"1\" class=\"dataframe\">\n",
       "  <thead>\n",
       "    <tr style=\"text-align: right;\">\n",
       "      <th></th>\n",
       "      <th>Reason for absence</th>\n",
       "      <th>Month of absence</th>\n",
       "      <th>Disciplinary failure</th>\n",
       "      <th>Absenteeism time in hours</th>\n",
       "      <th>group</th>\n",
       "    </tr>\n",
       "  </thead>\n",
       "  <tbody>\n",
       "    <tr>\n",
       "      <th>0</th>\n",
       "      <td>25</td>\n",
       "      <td>7</td>\n",
       "      <td>0</td>\n",
       "      <td>0.033333</td>\n",
       "      <td>0</td>\n",
       "    </tr>\n",
       "    <tr>\n",
       "      <th>1</th>\n",
       "      <td>0</td>\n",
       "      <td>7</td>\n",
       "      <td>1</td>\n",
       "      <td>0.000000</td>\n",
       "      <td>1</td>\n",
       "    </tr>\n",
       "    <tr>\n",
       "      <th>2</th>\n",
       "      <td>22</td>\n",
       "      <td>7</td>\n",
       "      <td>0</td>\n",
       "      <td>0.016667</td>\n",
       "      <td>0</td>\n",
       "    </tr>\n",
       "    <tr>\n",
       "      <th>3</th>\n",
       "      <td>7</td>\n",
       "      <td>7</td>\n",
       "      <td>0</td>\n",
       "      <td>0.033333</td>\n",
       "      <td>1</td>\n",
       "    </tr>\n",
       "    <tr>\n",
       "      <th>4</th>\n",
       "      <td>22</td>\n",
       "      <td>7</td>\n",
       "      <td>0</td>\n",
       "      <td>0.016667</td>\n",
       "      <td>0</td>\n",
       "    </tr>\n",
       "    <tr>\n",
       "      <th>...</th>\n",
       "      <td>...</td>\n",
       "      <td>...</td>\n",
       "      <td>...</td>\n",
       "      <td>...</td>\n",
       "      <td>...</td>\n",
       "    </tr>\n",
       "    <tr>\n",
       "      <th>735</th>\n",
       "      <td>14</td>\n",
       "      <td>7</td>\n",
       "      <td>0</td>\n",
       "      <td>0.066667</td>\n",
       "      <td>1</td>\n",
       "    </tr>\n",
       "    <tr>\n",
       "      <th>736</th>\n",
       "      <td>11</td>\n",
       "      <td>7</td>\n",
       "      <td>0</td>\n",
       "      <td>0.033333</td>\n",
       "      <td>1</td>\n",
       "    </tr>\n",
       "    <tr>\n",
       "      <th>737</th>\n",
       "      <td>0</td>\n",
       "      <td>0</td>\n",
       "      <td>0</td>\n",
       "      <td>0.000000</td>\n",
       "      <td>1</td>\n",
       "    </tr>\n",
       "    <tr>\n",
       "      <th>738</th>\n",
       "      <td>0</td>\n",
       "      <td>0</td>\n",
       "      <td>0</td>\n",
       "      <td>0.000000</td>\n",
       "      <td>1</td>\n",
       "    </tr>\n",
       "    <tr>\n",
       "      <th>739</th>\n",
       "      <td>0</td>\n",
       "      <td>0</td>\n",
       "      <td>0</td>\n",
       "      <td>0.000000</td>\n",
       "      <td>1</td>\n",
       "    </tr>\n",
       "  </tbody>\n",
       "</table>\n",
       "<p>706 rows × 5 columns</p>\n",
       "</div>"
      ],
      "text/plain": [
       "     Reason for absence  Month of absence  Disciplinary failure  \\\n",
       "0                    25                 7                     0   \n",
       "1                     0                 7                     1   \n",
       "2                    22                 7                     0   \n",
       "3                     7                 7                     0   \n",
       "4                    22                 7                     0   \n",
       "..                  ...               ...                   ...   \n",
       "735                  14                 7                     0   \n",
       "736                  11                 7                     0   \n",
       "737                   0                 0                     0   \n",
       "738                   0                 0                     0   \n",
       "739                   0                 0                     0   \n",
       "\n",
       "     Absenteeism time in hours  group  \n",
       "0                     0.033333      0  \n",
       "1                     0.000000      1  \n",
       "2                     0.016667      0  \n",
       "3                     0.033333      1  \n",
       "4                     0.016667      0  \n",
       "..                         ...    ...  \n",
       "735                   0.066667      1  \n",
       "736                   0.033333      1  \n",
       "737                   0.000000      1  \n",
       "738                   0.000000      1  \n",
       "739                   0.000000      1  \n",
       "\n",
       "[706 rows x 5 columns]"
      ]
     },
     "execution_count": 214,
     "metadata": {},
     "output_type": "execute_result"
    }
   ],
   "source": [
    "df_1[\"group\"]=final_km.labels_\n",
    "df_1"
   ]
  },
  {
   "cell_type": "code",
   "execution_count": 215,
   "id": "823abc9b-f95d-465d-aeca-680c0112e0b6",
   "metadata": {},
   "outputs": [
    {
     "data": {
      "text/plain": [
       "array([[2.33050847e+01, 6.34957627e+00, 1.45716772e-16, 4.40501412e-02],\n",
       "       [8.22222222e+00, 6.53418803e+00, 1.70940171e-01, 9.07407407e-02]])"
      ]
     },
     "execution_count": 215,
     "metadata": {},
     "output_type": "execute_result"
    }
   ],
   "source": [
    "final_km.cluster_centers_"
   ]
  },
  {
   "cell_type": "code",
   "execution_count": 217,
   "id": "64ca834c-6122-4d9a-8e4c-c36627d2b2f4",
   "metadata": {},
   "outputs": [
    {
     "data": {
      "text/plain": [
       "<matplotlib.collections.PathCollection at 0x27343030bd0>"
      ]
     },
     "execution_count": 217,
     "metadata": {},
     "output_type": "execute_result"
    },
    {
     "data": {
      "image/png": "[encoded data removed]",
      "text/plain": [
       "<Figure size 800x550 with 1 Axes>"
      ]
     },
     "metadata": {},
     "output_type": "display_data"
    }
   ],
   "source": [
    "plt.scatter( df_1['Reason for absence'], df_1['Month of absence'],c = final_km.labels_)"
   ]
  },
  {
   "cell_type": "code",
   "execution_count": null,
   "id": "28d14a80-e270-4ed4-b42d-d391b85fa253",
   "metadata": {},
   "outputs": [],
   "source": []
  }
 ],
 "metadata": {
  "kernelspec": {
   "display_name": "Python 3 (ipykernel)",
   "language": "python",
   "name": "python3"
  },
  "language_info": {
   "codemirror_mode": {
    "name": "ipython",
    "version": 3
   },
   "file_extension": ".py",
   "mimetype": "text/x-python",
   "name": "python",
   "nbconvert_exporter": "python",
   "pygments_lexer": "ipython3",
   "version": "3.11.7"
  }
 },
 "nbformat": 4,
 "nbformat_minor": 5
}
