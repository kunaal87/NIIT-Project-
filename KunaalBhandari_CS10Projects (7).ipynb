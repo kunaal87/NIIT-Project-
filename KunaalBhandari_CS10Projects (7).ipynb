{
 "cells": [
  {
   "cell_type": "code",
   "execution_count": 1,
   "id": "0154632f-b528-432c-8e9a-bcbbba7bc8bf",
   "metadata": {},
   "outputs": [],
   "source": [
    "import pandas as pd\n",
    "import seaborn as sns\n",
    "import matplotlib.pyplot as plt\n",
    "import statistics as st\n",
    "import numpy as np\n",
    "from scipy.stats import norm\n",
    "from sklearn.model_selection import train_test_split\n",
    "from sklearn.linear_model import LogisticRegression\n",
    "from sklearn.neighbors import KNeighborsClassifier\n",
    "from sklearn.metrics import accuracy_score, confusion_matrix, roc_auc_score\n",
    "from sklearn.preprocessing import StandardScaler\n",
    "from sklearn.preprocessing import MinMaxScaler\n",
    "from sklearn import preprocessing\n",
    "from sklearn.preprocessing import LabelEncoder\n",
    "from sklearn.linear_model import LinearRegression\n",
    "from sklearn.metrics import r2_score\n",
    "import warnings\n",
    "warnings.filterwarnings('ignore')\n",
    "from sklearn.metrics import mean_squared_error, mean_absolute_error\n",
    "from statsmodels.stats.outliers_influence import variance_inflation_factor\n",
    "from scipy.stats import norm\n",
    "from sklearn.cluster import KMeans\n",
    "import yellowbrick\n",
    "from yellowbrick.cluster import SilhouetteVisualizer\n",
    "from sklearn.neighbors import KNeighborsRegressor\n",
    "from sklearn.metrics import davies_bouldin_score\n",
    "from sklearn.metrics import calinski_harabasz_score\n",
    "from sklearn.metrics import silhouette_score"
   ]
  },
  {
   "cell_type": "code",
   "execution_count": 2,
   "id": "4928283f-cf83-4de3-9760-1ee3ee7323dc",
   "metadata": {},
   "outputs": [],
   "source": [
    "#pip install yellowbrick"
   ]
  },
  {
   "cell_type": "code",
   "execution_count": 3,
   "id": "e68c5c40-e973-43d6-8e5d-ad8005cda7ec",
   "metadata": {},
   "outputs": [
    {
     "data": {
      "text/html": [
       "<div>\n",
       "<style scoped>\n",
       "    .dataframe tbody tr th:only-of-type {\n",
       "        vertical-align: middle;\n",
       "    }\n",
       "\n",
       "    .dataframe tbody tr th {\n",
       "        vertical-align: top;\n",
       "    }\n",
       "\n",
       "    .dataframe thead th {\n",
       "        text-align: right;\n",
       "    }\n",
       "</style>\n",
       "<table border=\"1\" class=\"dataframe\">\n",
       "  <thead>\n",
       "    <tr style=\"text-align: right;\">\n",
       "      <th></th>\n",
       "      <th>appearance_id</th>\n",
       "      <th>game_id</th>\n",
       "      <th>player_id</th>\n",
       "      <th>date</th>\n",
       "      <th>player_name</th>\n",
       "      <th>competition_id</th>\n",
       "      <th>yellow_cards</th>\n",
       "      <th>red_cards</th>\n",
       "      <th>goals</th>\n",
       "      <th>assists</th>\n",
       "      <th>minutes_played</th>\n",
       "    </tr>\n",
       "  </thead>\n",
       "  <tbody>\n",
       "    <tr>\n",
       "      <th>0</th>\n",
       "      <td>2224728_119169</td>\n",
       "      <td>2224728</td>\n",
       "      <td>119169</td>\n",
       "      <td>2012-07-13</td>\n",
       "      <td>Aron Johannsson</td>\n",
       "      <td>DK1</td>\n",
       "      <td>0</td>\n",
       "      <td>0</td>\n",
       "      <td>0</td>\n",
       "      <td>0</td>\n",
       "      <td>90</td>\n",
       "    </tr>\n",
       "    <tr>\n",
       "      <th>1</th>\n",
       "      <td>2224732_161244</td>\n",
       "      <td>2224732</td>\n",
       "      <td>161244</td>\n",
       "      <td>2012-07-14</td>\n",
       "      <td>Conor O'Brien</td>\n",
       "      <td>DK1</td>\n",
       "      <td>0</td>\n",
       "      <td>0</td>\n",
       "      <td>1</td>\n",
       "      <td>0</td>\n",
       "      <td>90</td>\n",
       "    </tr>\n",
       "    <tr>\n",
       "      <th>2</th>\n",
       "      <td>2224729_39467</td>\n",
       "      <td>2224729</td>\n",
       "      <td>39467</td>\n",
       "      <td>2012-07-15</td>\n",
       "      <td>Clarence Goodson</td>\n",
       "      <td>DK1</td>\n",
       "      <td>0</td>\n",
       "      <td>0</td>\n",
       "      <td>0</td>\n",
       "      <td>0</td>\n",
       "      <td>90</td>\n",
       "    </tr>\n",
       "    <tr>\n",
       "      <th>3</th>\n",
       "      <td>2232104_119169</td>\n",
       "      <td>2232104</td>\n",
       "      <td>119169</td>\n",
       "      <td>2012-07-19</td>\n",
       "      <td>Aron Johannsson</td>\n",
       "      <td>ELQ</td>\n",
       "      <td>0</td>\n",
       "      <td>0</td>\n",
       "      <td>0</td>\n",
       "      <td>0</td>\n",
       "      <td>74</td>\n",
       "    </tr>\n",
       "    <tr>\n",
       "      <th>4</th>\n",
       "      <td>2219794_39475</td>\n",
       "      <td>2219794</td>\n",
       "      <td>39475</td>\n",
       "      <td>2012-07-22</td>\n",
       "      <td>Sacha Kljestan</td>\n",
       "      <td>BESC</td>\n",
       "      <td>0</td>\n",
       "      <td>0</td>\n",
       "      <td>0</td>\n",
       "      <td>0</td>\n",
       "      <td>3</td>\n",
       "    </tr>\n",
       "  </tbody>\n",
       "</table>\n",
       "</div>"
      ],
      "text/plain": [
       "    appearance_id  game_id  player_id       date       player_name  \\\n",
       "0  2224728_119169  2224728     119169 2012-07-13   Aron Johannsson   \n",
       "1  2224732_161244  2224732     161244 2012-07-14     Conor O'Brien   \n",
       "2   2224729_39467  2224729      39467 2012-07-15  Clarence Goodson   \n",
       "3  2232104_119169  2232104     119169 2012-07-19   Aron Johannsson   \n",
       "4   2219794_39475  2219794      39475 2012-07-22    Sacha Kljestan   \n",
       "\n",
       "  competition_id  yellow_cards  red_cards  goals  assists  minutes_played  \n",
       "0            DK1             0          0      0        0              90  \n",
       "1            DK1             0          0      1        0              90  \n",
       "2            DK1             0          0      0        0              90  \n",
       "3            ELQ             0          0      0        0              74  \n",
       "4           BESC             0          0      0        0               3  "
      ]
     },
     "execution_count": 3,
     "metadata": {},
     "output_type": "execute_result"
    }
   ],
   "source": [
    "appearance = pd.read_excel(\"C:\\\\Users\\\\Surin\\\\Downloads\\\\appearances.xlsx\")\n",
    "appearance.head()"
   ]
  },
  {
   "cell_type": "code",
   "execution_count": 4,
   "id": "4f302f19-3dce-4c11-b087-92abf94c8698",
   "metadata": {},
   "outputs": [
    {
     "data": {
      "text/plain": [
       "(3568, 11)"
      ]
     },
     "execution_count": 4,
     "metadata": {},
     "output_type": "execute_result"
    }
   ],
   "source": [
    "appearance.shape"
   ]
  },
  {
   "cell_type": "code",
   "execution_count": 5,
   "id": "3c6ceb18-ab66-410c-a73c-35c0ad266743",
   "metadata": {},
   "outputs": [
    {
     "data": {
      "text/plain": [
       "appearance_id     0\n",
       "game_id           0\n",
       "player_id         0\n",
       "date              0\n",
       "player_name       0\n",
       "competition_id    0\n",
       "yellow_cards      0\n",
       "red_cards         0\n",
       "goals             0\n",
       "assists           0\n",
       "minutes_played    0\n",
       "dtype: int64"
      ]
     },
     "execution_count": 5,
     "metadata": {},
     "output_type": "execute_result"
    }
   ],
   "source": [
    "appearance.isnull().sum()"
   ]
  },
  {
   "cell_type": "code",
   "execution_count": 6,
   "id": "c877b11f-ae6c-42e1-8aaf-c0c5d0ee75cf",
   "metadata": {},
   "outputs": [
    {
     "data": {
      "text/plain": [
       "appearance_id             object\n",
       "game_id                    int64\n",
       "player_id                  int64\n",
       "date              datetime64[ns]\n",
       "player_name               object\n",
       "competition_id            object\n",
       "yellow_cards               int64\n",
       "red_cards                  int64\n",
       "goals                      int64\n",
       "assists                    int64\n",
       "minutes_played             int64\n",
       "dtype: object"
      ]
     },
     "execution_count": 6,
     "metadata": {},
     "output_type": "execute_result"
    }
   ],
   "source": [
    "appearance.dtypes"
   ]
  },
  {
   "cell_type": "code",
   "execution_count": 7,
   "id": "874991d2-f995-4b2c-8105-2ecb8c147015",
   "metadata": {},
   "outputs": [
    {
     "data": {
      "text/html": [
       "<div>\n",
       "<style scoped>\n",
       "    .dataframe tbody tr th:only-of-type {\n",
       "        vertical-align: middle;\n",
       "    }\n",
       "\n",
       "    .dataframe tbody tr th {\n",
       "        vertical-align: top;\n",
       "    }\n",
       "\n",
       "    .dataframe thead th {\n",
       "        text-align: right;\n",
       "    }\n",
       "</style>\n",
       "<table border=\"1\" class=\"dataframe\">\n",
       "  <thead>\n",
       "    <tr style=\"text-align: right;\">\n",
       "      <th></th>\n",
       "      <th>game_id</th>\n",
       "      <th>player_id</th>\n",
       "      <th>yellow_cards</th>\n",
       "      <th>red_cards</th>\n",
       "      <th>goals</th>\n",
       "      <th>assists</th>\n",
       "      <th>minutes_played</th>\n",
       "    </tr>\n",
       "  </thead>\n",
       "  <tbody>\n",
       "    <tr>\n",
       "      <th>0</th>\n",
       "      <td>2224728</td>\n",
       "      <td>119169</td>\n",
       "      <td>0</td>\n",
       "      <td>0</td>\n",
       "      <td>0</td>\n",
       "      <td>0</td>\n",
       "      <td>90</td>\n",
       "    </tr>\n",
       "    <tr>\n",
       "      <th>1</th>\n",
       "      <td>2224732</td>\n",
       "      <td>161244</td>\n",
       "      <td>0</td>\n",
       "      <td>0</td>\n",
       "      <td>1</td>\n",
       "      <td>0</td>\n",
       "      <td>90</td>\n",
       "    </tr>\n",
       "    <tr>\n",
       "      <th>2</th>\n",
       "      <td>2224729</td>\n",
       "      <td>39467</td>\n",
       "      <td>0</td>\n",
       "      <td>0</td>\n",
       "      <td>0</td>\n",
       "      <td>0</td>\n",
       "      <td>90</td>\n",
       "    </tr>\n",
       "    <tr>\n",
       "      <th>3</th>\n",
       "      <td>2232104</td>\n",
       "      <td>119169</td>\n",
       "      <td>0</td>\n",
       "      <td>0</td>\n",
       "      <td>0</td>\n",
       "      <td>0</td>\n",
       "      <td>74</td>\n",
       "    </tr>\n",
       "    <tr>\n",
       "      <th>4</th>\n",
       "      <td>2219794</td>\n",
       "      <td>39475</td>\n",
       "      <td>0</td>\n",
       "      <td>0</td>\n",
       "      <td>0</td>\n",
       "      <td>0</td>\n",
       "      <td>3</td>\n",
       "    </tr>\n",
       "    <tr>\n",
       "      <th>...</th>\n",
       "      <td>...</td>\n",
       "      <td>...</td>\n",
       "      <td>...</td>\n",
       "      <td>...</td>\n",
       "      <td>...</td>\n",
       "      <td>...</td>\n",
       "      <td>...</td>\n",
       "    </tr>\n",
       "    <tr>\n",
       "      <th>3563</th>\n",
       "      <td>3415291</td>\n",
       "      <td>537467</td>\n",
       "      <td>0</td>\n",
       "      <td>0</td>\n",
       "      <td>1</td>\n",
       "      <td>0</td>\n",
       "      <td>77</td>\n",
       "    </tr>\n",
       "    <tr>\n",
       "      <th>3564</th>\n",
       "      <td>3415296</td>\n",
       "      <td>367423</td>\n",
       "      <td>1</td>\n",
       "      <td>0</td>\n",
       "      <td>0</td>\n",
       "      <td>0</td>\n",
       "      <td>84</td>\n",
       "    </tr>\n",
       "    <tr>\n",
       "      <th>3565</th>\n",
       "      <td>3431983</td>\n",
       "      <td>478940</td>\n",
       "      <td>0</td>\n",
       "      <td>0</td>\n",
       "      <td>0</td>\n",
       "      <td>0</td>\n",
       "      <td>90</td>\n",
       "    </tr>\n",
       "    <tr>\n",
       "      <th>3566</th>\n",
       "      <td>3450575</td>\n",
       "      <td>361104</td>\n",
       "      <td>0</td>\n",
       "      <td>0</td>\n",
       "      <td>0</td>\n",
       "      <td>0</td>\n",
       "      <td>6</td>\n",
       "    </tr>\n",
       "    <tr>\n",
       "      <th>3567</th>\n",
       "      <td>3412904</td>\n",
       "      <td>124732</td>\n",
       "      <td>1</td>\n",
       "      <td>0</td>\n",
       "      <td>0</td>\n",
       "      <td>0</td>\n",
       "      <td>90</td>\n",
       "    </tr>\n",
       "  </tbody>\n",
       "</table>\n",
       "<p>3568 rows × 7 columns</p>\n",
       "</div>"
      ],
      "text/plain": [
       "      game_id  player_id  yellow_cards  red_cards  goals  assists  \\\n",
       "0     2224728     119169             0          0      0        0   \n",
       "1     2224732     161244             0          0      1        0   \n",
       "2     2224729      39467             0          0      0        0   \n",
       "3     2232104     119169             0          0      0        0   \n",
       "4     2219794      39475             0          0      0        0   \n",
       "...       ...        ...           ...        ...    ...      ...   \n",
       "3563  3415291     537467             0          0      1        0   \n",
       "3564  3415296     367423             1          0      0        0   \n",
       "3565  3431983     478940             0          0      0        0   \n",
       "3566  3450575     361104             0          0      0        0   \n",
       "3567  3412904     124732             1          0      0        0   \n",
       "\n",
       "      minutes_played  \n",
       "0                 90  \n",
       "1                 90  \n",
       "2                 90  \n",
       "3                 74  \n",
       "4                  3  \n",
       "...              ...  \n",
       "3563              77  \n",
       "3564              84  \n",
       "3565              90  \n",
       "3566               6  \n",
       "3567              90  \n",
       "\n",
       "[3568 rows x 7 columns]"
      ]
     },
     "execution_count": 7,
     "metadata": {},
     "output_type": "execute_result"
    }
   ],
   "source": [
    "int1 = appearance.select_dtypes(include=\"number\")\n",
    "int1"
   ]
  },
  {
   "cell_type": "code",
   "execution_count": 8,
   "id": "0da44639-181f-4aa7-8df3-da456996d275",
   "metadata": {},
   "outputs": [
    {
     "data": {
      "text/html": [
       "<div>\n",
       "<style scoped>\n",
       "    .dataframe tbody tr th:only-of-type {\n",
       "        vertical-align: middle;\n",
       "    }\n",
       "\n",
       "    .dataframe tbody tr th {\n",
       "        vertical-align: top;\n",
       "    }\n",
       "\n",
       "    .dataframe thead th {\n",
       "        text-align: right;\n",
       "    }\n",
       "</style>\n",
       "<table border=\"1\" class=\"dataframe\">\n",
       "  <thead>\n",
       "    <tr style=\"text-align: right;\">\n",
       "      <th></th>\n",
       "      <th>game_event_id</th>\n",
       "      <th>date</th>\n",
       "      <th>game_id</th>\n",
       "      <th>minute</th>\n",
       "      <th>type</th>\n",
       "      <th>player_id</th>\n",
       "      <th>description</th>\n",
       "      <th>player_in_id</th>\n",
       "      <th>player_assist_id</th>\n",
       "    </tr>\n",
       "  </thead>\n",
       "  <tbody>\n",
       "    <tr>\n",
       "      <th>0</th>\n",
       "      <td>c6a3c088ed8a38d4ce074dd73b20d3da</td>\n",
       "      <td>2012-08-19</td>\n",
       "      <td>2221641</td>\n",
       "      <td>62</td>\n",
       "      <td>Substitutions</td>\n",
       "      <td>1335</td>\n",
       "      <td>, Not reported</td>\n",
       "      <td>45668.0</td>\n",
       "      <td>NaN</td>\n",
       "    </tr>\n",
       "    <tr>\n",
       "      <th>1</th>\n",
       "      <td>02d605a5c2dc4f9a6721daa583fa5405</td>\n",
       "      <td>2012-08-26</td>\n",
       "      <td>2222536</td>\n",
       "      <td>54</td>\n",
       "      <td>Cards</td>\n",
       "      <td>1321</td>\n",
       "      <td>1. Yellow card  , Foul</td>\n",
       "      <td>NaN</td>\n",
       "      <td>NaN</td>\n",
       "    </tr>\n",
       "    <tr>\n",
       "      <th>2</th>\n",
       "      <td>b56c2e2e087cddb3cfe9e3d340975df9</td>\n",
       "      <td>2012-11-18</td>\n",
       "      <td>2222707</td>\n",
       "      <td>79</td>\n",
       "      <td>Substitutions</td>\n",
       "      <td>104203</td>\n",
       "      <td>, Tactical</td>\n",
       "      <td>25740.0</td>\n",
       "      <td>NaN</td>\n",
       "    </tr>\n",
       "    <tr>\n",
       "      <th>3</th>\n",
       "      <td>4a15d1fff4f476f48bb60092c61641d5</td>\n",
       "      <td>2012-11-23</td>\n",
       "      <td>2222721</td>\n",
       "      <td>72</td>\n",
       "      <td>Substitutions</td>\n",
       "      <td>104203</td>\n",
       "      <td>, Tactical</td>\n",
       "      <td>15583.0</td>\n",
       "      <td>NaN</td>\n",
       "    </tr>\n",
       "    <tr>\n",
       "      <th>4</th>\n",
       "      <td>daa97877f7edf2fda885b411d7197921</td>\n",
       "      <td>2013-05-17</td>\n",
       "      <td>2222782</td>\n",
       "      <td>63</td>\n",
       "      <td>Goals</td>\n",
       "      <td>104203</td>\n",
       "      <td>, Right-footed shot, 1. Goal of the Season Ass...</td>\n",
       "      <td>NaN</td>\n",
       "      <td>15077.0</td>\n",
       "    </tr>\n",
       "  </tbody>\n",
       "</table>\n",
       "</div>"
      ],
      "text/plain": [
       "                      game_event_id       date  game_id  minute  \\\n",
       "0  c6a3c088ed8a38d4ce074dd73b20d3da 2012-08-19  2221641      62   \n",
       "1  02d605a5c2dc4f9a6721daa583fa5405 2012-08-26  2222536      54   \n",
       "2  b56c2e2e087cddb3cfe9e3d340975df9 2012-11-18  2222707      79   \n",
       "3  4a15d1fff4f476f48bb60092c61641d5 2012-11-23  2222721      72   \n",
       "4  daa97877f7edf2fda885b411d7197921 2013-05-17  2222782      63   \n",
       "\n",
       "            type  player_id  \\\n",
       "0  Substitutions       1335   \n",
       "1          Cards       1321   \n",
       "2  Substitutions     104203   \n",
       "3  Substitutions     104203   \n",
       "4          Goals     104203   \n",
       "\n",
       "                                         description  player_in_id  \\\n",
       "0                                     , Not reported       45668.0   \n",
       "1                             1. Yellow card  , Foul           NaN   \n",
       "2                                         , Tactical       25740.0   \n",
       "3                                         , Tactical       15583.0   \n",
       "4  , Right-footed shot, 1. Goal of the Season Ass...           NaN   \n",
       "\n",
       "   player_assist_id  \n",
       "0               NaN  \n",
       "1               NaN  \n",
       "2               NaN  \n",
       "3               NaN  \n",
       "4           15077.0  "
      ]
     },
     "execution_count": 8,
     "metadata": {},
     "output_type": "execute_result"
    }
   ],
   "source": [
    "game_event = pd.read_excel(\"C:\\\\Users\\\\Surin\\\\Downloads\\\\game_events.xlsx\")\n",
    "game_event.head()"
   ]
  },
  {
   "cell_type": "code",
   "execution_count": 9,
   "id": "26d8f2ae-568e-42e0-8aba-0065d354bd01",
   "metadata": {},
   "outputs": [
    {
     "data": {
      "text/plain": [
       "(1849, 9)"
      ]
     },
     "execution_count": 9,
     "metadata": {},
     "output_type": "execute_result"
    }
   ],
   "source": [
    "game_event.shape"
   ]
  },
  {
   "cell_type": "code",
   "execution_count": 10,
   "id": "ffa85883-c2fa-48c7-9291-9b622c31a99e",
   "metadata": {},
   "outputs": [
    {
     "data": {
      "text/plain": [
       "Index(['game_id', 'minute', 'player_id', 'player_in_id', 'player_assist_id'], dtype='object')"
      ]
     },
     "execution_count": 10,
     "metadata": {},
     "output_type": "execute_result"
    }
   ],
   "source": [
    "conti1 = game_event.select_dtypes(include=\"number\")\n",
    "conti1.columns\n",
    "#Since we cannot change the ids so we will not do outliers treatment here"
   ]
  },
  {
   "cell_type": "code",
   "execution_count": 11,
   "id": "84b51b5b-c00f-4cc9-a040-a753b392f141",
   "metadata": {},
   "outputs": [],
   "source": [
    "int = game_event['minute'] "
   ]
  },
  {
   "cell_type": "code",
   "execution_count": 12,
   "id": "31a7b826-3a14-43c8-b44b-2f65e4bf418d",
   "metadata": {},
   "outputs": [
    {
     "data": {
      "image/png": "[encoded data removed]",
      "text/plain": [
       "<Figure size 800x550 with 1 Axes>"
      ]
     },
     "metadata": {},
     "output_type": "display_data"
    }
   ],
   "source": [
    "sns.boxplot(x=game_event['minute'])\n",
    "plt.xticks(rotation=90)\n",
    "plt.show()\n",
    "#here we will not treat the minute column because the player might got substituted in the starting of the match "
   ]
  },
  {
   "cell_type": "code",
   "execution_count": 13,
   "id": "dfc521e0-d1ef-4e9d-8474-4620e90ef038",
   "metadata": {},
   "outputs": [],
   "source": [
    "#I am not treating outliers in the df "
   ]
  },
  {
   "cell_type": "code",
   "execution_count": 14,
   "id": "31b32da8-0023-4b9b-9d12-4bb41ce88669",
   "metadata": {},
   "outputs": [
    {
     "data": {
      "text/html": [
       "<div>\n",
       "<style scoped>\n",
       "    .dataframe tbody tr th:only-of-type {\n",
       "        vertical-align: middle;\n",
       "    }\n",
       "\n",
       "    .dataframe tbody tr th {\n",
       "        vertical-align: top;\n",
       "    }\n",
       "\n",
       "    .dataframe thead th {\n",
       "        text-align: right;\n",
       "    }\n",
       "</style>\n",
       "<table border=\"1\" class=\"dataframe\">\n",
       "  <thead>\n",
       "    <tr style=\"text-align: right;\">\n",
       "      <th></th>\n",
       "      <th>game_lineups_id</th>\n",
       "      <th>game_id</th>\n",
       "      <th>type</th>\n",
       "      <th>number</th>\n",
       "      <th>player_id</th>\n",
       "      <th>player_name</th>\n",
       "      <th>team_captain</th>\n",
       "      <th>position</th>\n",
       "    </tr>\n",
       "  </thead>\n",
       "  <tbody>\n",
       "    <tr>\n",
       "      <th>0</th>\n",
       "      <td>f2570d1504fc02f4b6c7608e8dcf89a3</td>\n",
       "      <td>4087925</td>\n",
       "      <td>substitutes</td>\n",
       "      <td>34</td>\n",
       "      <td>242284</td>\n",
       "      <td>Ethan Horvath</td>\n",
       "      <td>0</td>\n",
       "      <td>Goalkeeper</td>\n",
       "    </tr>\n",
       "    <tr>\n",
       "      <th>1</th>\n",
       "      <td>f5f0da93ea8e1d8bdd799658e7c8f7cb</td>\n",
       "      <td>4087928</td>\n",
       "      <td>starting_lineup</td>\n",
       "      <td>13</td>\n",
       "      <td>145466</td>\n",
       "      <td>Tim Ream</td>\n",
       "      <td>0</td>\n",
       "      <td>Centre-Back</td>\n",
       "    </tr>\n",
       "    <tr>\n",
       "      <th>2</th>\n",
       "      <td>31a4d12ec23d604779d909d26c1b5410</td>\n",
       "      <td>4087929</td>\n",
       "      <td>substitutes</td>\n",
       "      <td>26</td>\n",
       "      <td>578539</td>\n",
       "      <td>Chris Richards</td>\n",
       "      <td>0</td>\n",
       "      <td>Centre-Back</td>\n",
       "    </tr>\n",
       "    <tr>\n",
       "      <th>3</th>\n",
       "      <td>776dcbef98651450db76723cb7e3b4df</td>\n",
       "      <td>4087935</td>\n",
       "      <td>substitutes</td>\n",
       "      <td>26</td>\n",
       "      <td>578539</td>\n",
       "      <td>Chris Richards</td>\n",
       "      <td>0</td>\n",
       "      <td>Centre-Back</td>\n",
       "    </tr>\n",
       "    <tr>\n",
       "      <th>4</th>\n",
       "      <td>6a35ef7495303f29e7f85dbd54547fb1</td>\n",
       "      <td>4087936</td>\n",
       "      <td>starting_lineup</td>\n",
       "      <td>13</td>\n",
       "      <td>145466</td>\n",
       "      <td>Tim Ream</td>\n",
       "      <td>1</td>\n",
       "      <td>Centre-Back</td>\n",
       "    </tr>\n",
       "  </tbody>\n",
       "</table>\n",
       "</div>"
      ],
      "text/plain": [
       "                    game_lineups_id  game_id             type  number  \\\n",
       "0  f2570d1504fc02f4b6c7608e8dcf89a3  4087925      substitutes      34   \n",
       "1  f5f0da93ea8e1d8bdd799658e7c8f7cb  4087928  starting_lineup      13   \n",
       "2  31a4d12ec23d604779d909d26c1b5410  4087929      substitutes      26   \n",
       "3  776dcbef98651450db76723cb7e3b4df  4087935      substitutes      26   \n",
       "4  6a35ef7495303f29e7f85dbd54547fb1  4087936  starting_lineup      13   \n",
       "\n",
       "   player_id     player_name  team_captain     position  \n",
       "0     242284   Ethan Horvath             0   Goalkeeper  \n",
       "1     145466        Tim Ream             0  Centre-Back  \n",
       "2     578539  Chris Richards             0  Centre-Back  \n",
       "3     578539  Chris Richards             0  Centre-Back  \n",
       "4     145466        Tim Ream             1  Centre-Back  "
      ]
     },
     "execution_count": 14,
     "metadata": {},
     "output_type": "execute_result"
    }
   ],
   "source": [
    "games_lineups = pd.read_excel(\"C:\\\\Users\\\\Surin\\\\Downloads\\\\game_lineups.xlsx\")\n",
    "games_lineups.head()"
   ]
  },
  {
   "cell_type": "code",
   "execution_count": 15,
   "id": "ebcf76a5-8164-4aa1-9042-b4a684ead036",
   "metadata": {},
   "outputs": [
    {
     "data": {
      "text/plain": [
       "Index(['game_id', 'number', 'player_id', 'team_captain'], dtype='object')"
      ]
     },
     "execution_count": 15,
     "metadata": {},
     "output_type": "execute_result"
    }
   ],
   "source": [
    "conti2 = games_lineups.select_dtypes(include=\"number\")\n",
    "conti2.columns\n",
    "#Since we cannot change the ids and number so we will not do outliers treatment here"
   ]
  },
  {
   "cell_type": "code",
   "execution_count": 16,
   "id": "9d38e7e3-7966-4845-9b86-72151d94c90b",
   "metadata": {},
   "outputs": [
    {
     "data": {
      "image/png": "[encoded data removed]",
      "text/plain": [
       "<Figure size 800x550 with 1 Axes>"
      ]
     },
     "metadata": {},
     "output_type": "display_data"
    }
   ],
   "source": [
    "sns.boxplot(x=games_lineups['number'])\n",
    "plt.xticks(rotation=90)\n",
    "plt.show()\n",
    "#The number column will not be treated as we cannot change the jersey number of a player"
   ]
  },
  {
   "cell_type": "code",
   "execution_count": 17,
   "id": "5ef2efe8-4e49-4c28-b752-a44ddf00005f",
   "metadata": {},
   "outputs": [
    {
     "data": {
      "text/plain": [
       "(219, 8)"
      ]
     },
     "execution_count": 17,
     "metadata": {},
     "output_type": "execute_result"
    }
   ],
   "source": [
    "games_lineups.shape"
   ]
  },
  {
   "cell_type": "code",
   "execution_count": 18,
   "id": "67016461-9d55-4b2c-ac3c-8fef38573b70",
   "metadata": {},
   "outputs": [
    {
     "data": {
      "text/html": [
       "<div>\n",
       "<style scoped>\n",
       "    .dataframe tbody tr th:only-of-type {\n",
       "        vertical-align: middle;\n",
       "    }\n",
       "\n",
       "    .dataframe tbody tr th {\n",
       "        vertical-align: top;\n",
       "    }\n",
       "\n",
       "    .dataframe thead th {\n",
       "        text-align: right;\n",
       "    }\n",
       "</style>\n",
       "<table border=\"1\" class=\"dataframe\">\n",
       "  <thead>\n",
       "    <tr style=\"text-align: right;\">\n",
       "      <th></th>\n",
       "      <th>game_id</th>\n",
       "      <th>competition_id</th>\n",
       "      <th>season</th>\n",
       "      <th>round</th>\n",
       "      <th>date</th>\n",
       "      <th>home_club_goals</th>\n",
       "      <th>away_club_goals</th>\n",
       "      <th>home_club_position</th>\n",
       "      <th>away_club_position</th>\n",
       "      <th>home_club_manager_name</th>\n",
       "      <th>away_club_manager_name</th>\n",
       "      <th>stadium</th>\n",
       "      <th>attendance</th>\n",
       "      <th>referee</th>\n",
       "      <th>home_club_formation</th>\n",
       "      <th>away_club_formation</th>\n",
       "      <th>home_club_name</th>\n",
       "      <th>away_club_name</th>\n",
       "      <th>aggregate</th>\n",
       "      <th>competition_type</th>\n",
       "    </tr>\n",
       "  </thead>\n",
       "  <tbody>\n",
       "    <tr>\n",
       "      <th>0</th>\n",
       "      <td>2222734</td>\n",
       "      <td>RU1</td>\n",
       "      <td>2012</td>\n",
       "      <td>19. Matchday</td>\n",
       "      <td>2012-12-07</td>\n",
       "      <td>2</td>\n",
       "      <td>3</td>\n",
       "      <td>11.0</td>\n",
       "      <td>10.0</td>\n",
       "      <td>Miodrag Bozovic</td>\n",
       "      <td>Slavoljub Muslin</td>\n",
       "      <td>Olimp-2</td>\n",
       "      <td>5700.0</td>\n",
       "      <td>Sergey Kuznetsov</td>\n",
       "      <td>NaN</td>\n",
       "      <td>NaN</td>\n",
       "      <td>FK Rostov</td>\n",
       "      <td>FK Krasnodar</td>\n",
       "      <td>02:03:00</td>\n",
       "      <td>domestic_league</td>\n",
       "    </tr>\n",
       "    <tr>\n",
       "      <th>1</th>\n",
       "      <td>2224572</td>\n",
       "      <td>DK1</td>\n",
       "      <td>2012</td>\n",
       "      <td>3. Matchday</td>\n",
       "      <td>2012-07-28</td>\n",
       "      <td>1</td>\n",
       "      <td>2</td>\n",
       "      <td>12.0</td>\n",
       "      <td>1.0</td>\n",
       "      <td>Jess Thorup</td>\n",
       "      <td>Lars Sondergaard</td>\n",
       "      <td>Blue Water Arena</td>\n",
       "      <td>5345.0</td>\n",
       "      <td>Michael Svendsen</td>\n",
       "      <td>NaN</td>\n",
       "      <td>NaN</td>\n",
       "      <td>Esbjerg fB</td>\n",
       "      <td>Sonderjyske Fc</td>\n",
       "      <td>01:02:00</td>\n",
       "      <td>domestic_league</td>\n",
       "    </tr>\n",
       "    <tr>\n",
       "      <th>2</th>\n",
       "      <td>2224628</td>\n",
       "      <td>DK1</td>\n",
       "      <td>2012</td>\n",
       "      <td>22. Matchday</td>\n",
       "      <td>2013-03-08</td>\n",
       "      <td>2</td>\n",
       "      <td>0</td>\n",
       "      <td>3.0</td>\n",
       "      <td>10.0</td>\n",
       "      <td>Colin Todd</td>\n",
       "      <td>Lars Sondergaard</td>\n",
       "      <td>Cepheus Park Randers</td>\n",
       "      <td>3481.0</td>\n",
       "      <td>Jakob Kehlet</td>\n",
       "      <td>NaN</td>\n",
       "      <td>NaN</td>\n",
       "      <td>Randers Fodbold Club</td>\n",
       "      <td>Sonderjyske Fc</td>\n",
       "      <td>02:00:00</td>\n",
       "      <td>domestic_league</td>\n",
       "    </tr>\n",
       "    <tr>\n",
       "      <th>3</th>\n",
       "      <td>2224655</td>\n",
       "      <td>DK1</td>\n",
       "      <td>2012</td>\n",
       "      <td>22. Matchday</td>\n",
       "      <td>2013-03-10</td>\n",
       "      <td>0</td>\n",
       "      <td>3</td>\n",
       "      <td>6.0</td>\n",
       "      <td>12.0</td>\n",
       "      <td>Peter Rensen</td>\n",
       "      <td>Auri Skarbalius</td>\n",
       "      <td>Ceres Park</td>\n",
       "      <td>7967.0</td>\n",
       "      <td>Kenn Hansen</td>\n",
       "      <td>NaN</td>\n",
       "      <td>NaN</td>\n",
       "      <td>Aarhus Gymnastik Forening</td>\n",
       "      <td>BRA NDBYERNES</td>\n",
       "      <td>00:03:00</td>\n",
       "      <td>domestic_league</td>\n",
       "    </tr>\n",
       "    <tr>\n",
       "      <th>4</th>\n",
       "      <td>2224729</td>\n",
       "      <td>DK1</td>\n",
       "      <td>2012</td>\n",
       "      <td>1. Matchday</td>\n",
       "      <td>2012-07-15</td>\n",
       "      <td>0</td>\n",
       "      <td>1</td>\n",
       "      <td>9.0</td>\n",
       "      <td>5.0</td>\n",
       "      <td>Auri Skarbalius</td>\n",
       "      <td>Troels Bech</td>\n",
       "      <td>Brondby Stadium</td>\n",
       "      <td>10806.0</td>\n",
       "      <td>Lars Christoffersen</td>\n",
       "      <td>NaN</td>\n",
       "      <td>NaN</td>\n",
       "      <td>Brondby IF</td>\n",
       "      <td>Odense Boldklub</td>\n",
       "      <td>00:01:00</td>\n",
       "      <td>domestic_league</td>\n",
       "    </tr>\n",
       "  </tbody>\n",
       "</table>\n",
       "</div>"
      ],
      "text/plain": [
       "   game_id competition_id  season         round       date  home_club_goals  \\\n",
       "0  2222734            RU1    2012  19. Matchday 2012-12-07                2   \n",
       "1  2224572            DK1    2012   3. Matchday 2012-07-28                1   \n",
       "2  2224628            DK1    2012  22. Matchday 2013-03-08                2   \n",
       "3  2224655            DK1    2012  22. Matchday 2013-03-10                0   \n",
       "4  2224729            DK1    2012   1. Matchday 2012-07-15                0   \n",
       "\n",
       "   away_club_goals  home_club_position  away_club_position  \\\n",
       "0                3                11.0                10.0   \n",
       "1                2                12.0                 1.0   \n",
       "2                0                 3.0                10.0   \n",
       "3                3                 6.0                12.0   \n",
       "4                1                 9.0                 5.0   \n",
       "\n",
       "  home_club_manager_name away_club_manager_name               stadium  \\\n",
       "0        Miodrag Bozovic       Slavoljub Muslin               Olimp-2   \n",
       "1            Jess Thorup       Lars Sondergaard      Blue Water Arena   \n",
       "2             Colin Todd       Lars Sondergaard  Cepheus Park Randers   \n",
       "3           Peter Rensen        Auri Skarbalius            Ceres Park   \n",
       "4        Auri Skarbalius            Troels Bech       Brondby Stadium   \n",
       "\n",
       "   attendance              referee  home_club_formation  away_club_formation  \\\n",
       "0      5700.0     Sergey Kuznetsov                  NaN                  NaN   \n",
       "1      5345.0     Michael Svendsen                  NaN                  NaN   \n",
       "2      3481.0         Jakob Kehlet                  NaN                  NaN   \n",
       "3      7967.0          Kenn Hansen                  NaN                  NaN   \n",
       "4     10806.0  Lars Christoffersen                  NaN                  NaN   \n",
       "\n",
       "              home_club_name   away_club_name aggregate competition_type  \n",
       "0                  FK Rostov     FK Krasnodar  02:03:00  domestic_league  \n",
       "1                 Esbjerg fB   Sonderjyske Fc  01:02:00  domestic_league  \n",
       "2       Randers Fodbold Club   Sonderjyske Fc  02:00:00  domestic_league  \n",
       "3  Aarhus Gymnastik Forening    BRA NDBYERNES  00:03:00  domestic_league  \n",
       "4                 Brondby IF  Odense Boldklub  00:01:00  domestic_league  "
      ]
     },
     "execution_count": 18,
     "metadata": {},
     "output_type": "execute_result"
    }
   ],
   "source": [
    "games = pd.read_excel(\"C:\\\\Users\\\\Surin\\\\Downloads\\\\games.xlsx\")\n",
    "games.head()"
   ]
  },
  {
   "cell_type": "code",
   "execution_count": 19,
   "id": "9de45562-c36f-42a1-b57a-5fe5ac8baf85",
   "metadata": {},
   "outputs": [
    {
     "data": {
      "text/plain": [
       "(3268, 20)"
      ]
     },
     "execution_count": 19,
     "metadata": {},
     "output_type": "execute_result"
    }
   ],
   "source": [
    "games.shape"
   ]
  },
  {
   "cell_type": "code",
   "execution_count": 20,
   "id": "d8938a89-67a2-4797-9397-13e179b474e7",
   "metadata": {},
   "outputs": [],
   "source": [
    "games.drop([\"home_club_formation\",\"away_club_formation\"],axis=1,inplace=True)\n",
    "#Dropping these two columns because there are no values in these columns"
   ]
  },
  {
   "cell_type": "code",
   "execution_count": 21,
   "id": "596df0ed-e669-4e9a-a9d8-81fef0b4e7c9",
   "metadata": {},
   "outputs": [
    {
     "data": {
      "text/plain": [
       "Index(['game_id', 'season', 'home_club_goals', 'away_club_goals',\n",
       "       'home_club_position', 'away_club_position', 'attendance'],\n",
       "      dtype='object')"
      ]
     },
     "execution_count": 21,
     "metadata": {},
     "output_type": "execute_result"
    }
   ],
   "source": [
    "conti3 = games.select_dtypes(include=\"number\")\n",
    "conti3.columns"
   ]
  },
  {
   "cell_type": "code",
   "execution_count": 22,
   "id": "b4236586-1b56-44a5-bd7d-15806fe2cfb8",
   "metadata": {},
   "outputs": [
    {
     "data": {
      "image/png": "[encoded data removed]",
      "text/plain": [
       "<Figure size 800x550 with 1 Axes>"
      ]
     },
     "metadata": {},
     "output_type": "display_data"
    },
    {
     "data": {
      "image/png": "[encoded data removed]",
      "text/plain": [
       "<Figure size 800x550 with 1 Axes>"
      ]
     },
     "metadata": {},
     "output_type": "display_data"
    },
    {
     "data": {
      "image/png": "[encoded data removed]",
      "text/plain": [
       "<Figure size 800x550 with 1 Axes>"
      ]
     },
     "metadata": {},
     "output_type": "display_data"
    },
    {
     "data": {
      "image/png": "[encoded data removed]",
      "text/plain": [
       "<Figure size 800x550 with 1 Axes>"
      ]
     },
     "metadata": {},
     "output_type": "display_data"
    },
    {
     "data": {
      "image/png": "[encoded data removed]",
      "text/plain": [
       "<Figure size 800x550 with 1 Axes>"
      ]
     },
     "metadata": {},
     "output_type": "display_data"
    },
    {
     "data": {
      "image/png": "[encoded data removed]",
      "text/plain": [
       "<Figure size 800x550 with 1 Axes>"
      ]
     },
     "metadata": {},
     "output_type": "display_data"
    },
    {
     "data": {
      "image/png": "[encoded data removed]",
      "text/plain": [
       "<Figure size 800x550 with 1 Axes>"
      ]
     },
     "metadata": {},
     "output_type": "display_data"
    }
   ],
   "source": [
    "for g in conti3.columns:\n",
    "    sns.boxplot(x=conti3[g])\n",
    "    plt.xticks(rotation=90)\n",
    "    plt.show()\n",
    "#We cannot change the number of goals scored by the club so outliers treatment will not be done on them"
   ]
  },
  {
   "cell_type": "code",
   "execution_count": 23,
   "id": "6bd23a54-04bf-4e14-bdf1-cd4d1c0a58b2",
   "metadata": {},
   "outputs": [
    {
     "data": {
      "text/html": [
       "<div>\n",
       "<style scoped>\n",
       "    .dataframe tbody tr th:only-of-type {\n",
       "        vertical-align: middle;\n",
       "    }\n",
       "\n",
       "    .dataframe tbody tr th {\n",
       "        vertical-align: top;\n",
       "    }\n",
       "\n",
       "    .dataframe thead th {\n",
       "        text-align: right;\n",
       "    }\n",
       "</style>\n",
       "<table border=\"1\" class=\"dataframe\">\n",
       "  <thead>\n",
       "    <tr style=\"text-align: right;\">\n",
       "      <th></th>\n",
       "      <th>player_id</th>\n",
       "      <th>name</th>\n",
       "      <th>last_season</th>\n",
       "      <th>current_club_id</th>\n",
       "      <th>player_code</th>\n",
       "      <th>country_of_birth</th>\n",
       "      <th>date_of_birth</th>\n",
       "      <th>sub_position</th>\n",
       "      <th>position</th>\n",
       "      <th>foot</th>\n",
       "      <th>height_in_cm</th>\n",
       "      <th>market_value_in_eur</th>\n",
       "      <th>highest_market_value_in_eur</th>\n",
       "      <th>contract_expiration_date</th>\n",
       "      <th>agent_name</th>\n",
       "    </tr>\n",
       "  </thead>\n",
       "  <tbody>\n",
       "    <tr>\n",
       "      <th>0</th>\n",
       "      <td>124732</td>\n",
       "      <td>John Anthony Brooks</td>\n",
       "      <td>2023</td>\n",
       "      <td>533</td>\n",
       "      <td>john-anthony-brooks</td>\n",
       "      <td>Germany</td>\n",
       "      <td>1993-01-28</td>\n",
       "      <td>Centre-Back</td>\n",
       "      <td>Defender</td>\n",
       "      <td>left</td>\n",
       "      <td>194.0</td>\n",
       "      <td>2000000.0</td>\n",
       "      <td>15000000.0</td>\n",
       "      <td>2024-06-30</td>\n",
       "      <td>ROGON</td>\n",
       "    </tr>\n",
       "    <tr>\n",
       "      <th>1</th>\n",
       "      <td>223047</td>\n",
       "      <td>Emerson Hyndman</td>\n",
       "      <td>2018</td>\n",
       "      <td>903</td>\n",
       "      <td>emerson-hyndman</td>\n",
       "      <td>United States</td>\n",
       "      <td>1996-04-09</td>\n",
       "      <td>Central Midfield</td>\n",
       "      <td>Midfield</td>\n",
       "      <td>right</td>\n",
       "      <td>170.0</td>\n",
       "      <td>800000.0</td>\n",
       "      <td>1800000.0</td>\n",
       "      <td>NaT</td>\n",
       "      <td>OmniSports</td>\n",
       "    </tr>\n",
       "    <tr>\n",
       "      <th>2</th>\n",
       "      <td>307781</td>\n",
       "      <td>Lynden Gooch</td>\n",
       "      <td>2016</td>\n",
       "      <td>289</td>\n",
       "      <td>lynden-gooch</td>\n",
       "      <td>United States</td>\n",
       "      <td>1995-12-24</td>\n",
       "      <td>Right Winger</td>\n",
       "      <td>Attack</td>\n",
       "      <td>right</td>\n",
       "      <td>173.0</td>\n",
       "      <td>1000000.0</td>\n",
       "      <td>1000000.0</td>\n",
       "      <td>2024-06-30</td>\n",
       "      <td>Unique Sports Group</td>\n",
       "    </tr>\n",
       "    <tr>\n",
       "      <th>3</th>\n",
       "      <td>370846</td>\n",
       "      <td>Timothy Weah</td>\n",
       "      <td>2023</td>\n",
       "      <td>506</td>\n",
       "      <td>timothy-weah</td>\n",
       "      <td>United States</td>\n",
       "      <td>2000-02-22</td>\n",
       "      <td>Right Midfield</td>\n",
       "      <td>Midfield</td>\n",
       "      <td>right</td>\n",
       "      <td>183.0</td>\n",
       "      <td>14000000.0</td>\n",
       "      <td>15000000.0</td>\n",
       "      <td>2028-06-30</td>\n",
       "      <td>BS Group - BS Law</td>\n",
       "    </tr>\n",
       "    <tr>\n",
       "      <th>4</th>\n",
       "      <td>484756</td>\n",
       "      <td>Djordje Mihailovic</td>\n",
       "      <td>2023</td>\n",
       "      <td>1090</td>\n",
       "      <td>djordje-mihailovic</td>\n",
       "      <td>United States</td>\n",
       "      <td>1998-11-10</td>\n",
       "      <td>Attacking Midfield</td>\n",
       "      <td>Midfield</td>\n",
       "      <td>NaN</td>\n",
       "      <td>178.0</td>\n",
       "      <td>5000000.0</td>\n",
       "      <td>6000000.0</td>\n",
       "      <td>2026-06-30</td>\n",
       "      <td>YMU Management Ltd.</td>\n",
       "    </tr>\n",
       "  </tbody>\n",
       "</table>\n",
       "</div>"
      ],
      "text/plain": [
       "   player_id                 name  last_season  current_club_id  \\\n",
       "0     124732  John Anthony Brooks         2023              533   \n",
       "1     223047      Emerson Hyndman         2018              903   \n",
       "2     307781         Lynden Gooch         2016              289   \n",
       "3     370846         Timothy Weah         2023              506   \n",
       "4     484756   Djordje Mihailovic         2023             1090   \n",
       "\n",
       "           player_code country_of_birth date_of_birth        sub_position  \\\n",
       "0  john-anthony-brooks          Germany    1993-01-28         Centre-Back   \n",
       "1      emerson-hyndman    United States    1996-04-09    Central Midfield   \n",
       "2         lynden-gooch    United States    1995-12-24        Right Winger   \n",
       "3         timothy-weah    United States    2000-02-22      Right Midfield   \n",
       "4   djordje-mihailovic    United States    1998-11-10  Attacking Midfield   \n",
       "\n",
       "   position   foot  height_in_cm  market_value_in_eur  \\\n",
       "0  Defender   left         194.0            2000000.0   \n",
       "1  Midfield  right         170.0             800000.0   \n",
       "2    Attack  right         173.0            1000000.0   \n",
       "3  Midfield  right         183.0           14000000.0   \n",
       "4  Midfield    NaN         178.0            5000000.0   \n",
       "\n",
       "   highest_market_value_in_eur contract_expiration_date           agent_name  \n",
       "0                   15000000.0               2024-06-30                ROGON  \n",
       "1                    1800000.0                      NaT           OmniSports  \n",
       "2                    1000000.0               2024-06-30  Unique Sports Group  \n",
       "3                   15000000.0               2028-06-30    BS Group - BS Law  \n",
       "4                    6000000.0               2026-06-30  YMU Management Ltd.  "
      ]
     },
     "execution_count": 23,
     "metadata": {},
     "output_type": "execute_result"
    }
   ],
   "source": [
    "players = pd.read_excel(\"C:\\\\Users\\\\Surin\\\\Downloads\\\\players.xlsx\")\n",
    "players.head()"
   ]
  },
  {
   "cell_type": "code",
   "execution_count": 24,
   "id": "3ab5113c-2a61-489d-85fe-dca750ed06bd",
   "metadata": {},
   "outputs": [
    {
     "data": {
      "text/plain": [
       "(152, 15)"
      ]
     },
     "execution_count": 24,
     "metadata": {},
     "output_type": "execute_result"
    }
   ],
   "source": [
    "players.shape"
   ]
  },
  {
   "cell_type": "code",
   "execution_count": 25,
   "id": "ecf12daf-f4d0-49bf-a4b3-c7427859f6d4",
   "metadata": {},
   "outputs": [
    {
     "data": {
      "text/html": [
       "<div>\n",
       "<style scoped>\n",
       "    .dataframe tbody tr th:only-of-type {\n",
       "        vertical-align: middle;\n",
       "    }\n",
       "\n",
       "    .dataframe tbody tr th {\n",
       "        vertical-align: top;\n",
       "    }\n",
       "\n",
       "    .dataframe thead th {\n",
       "        text-align: right;\n",
       "    }\n",
       "</style>\n",
       "<table border=\"1\" class=\"dataframe\">\n",
       "  <thead>\n",
       "    <tr style=\"text-align: right;\">\n",
       "      <th></th>\n",
       "      <th>player_id</th>\n",
       "      <th>last_season</th>\n",
       "      <th>current_club_id</th>\n",
       "      <th>height_in_cm</th>\n",
       "      <th>market_value_in_eur</th>\n",
       "      <th>highest_market_value_in_eur</th>\n",
       "    </tr>\n",
       "  </thead>\n",
       "  <tbody>\n",
       "    <tr>\n",
       "      <th>0</th>\n",
       "      <td>124732</td>\n",
       "      <td>2023</td>\n",
       "      <td>533</td>\n",
       "      <td>194.0</td>\n",
       "      <td>2000000.0</td>\n",
       "      <td>15000000.0</td>\n",
       "    </tr>\n",
       "    <tr>\n",
       "      <th>1</th>\n",
       "      <td>223047</td>\n",
       "      <td>2018</td>\n",
       "      <td>903</td>\n",
       "      <td>170.0</td>\n",
       "      <td>800000.0</td>\n",
       "      <td>1800000.0</td>\n",
       "    </tr>\n",
       "    <tr>\n",
       "      <th>2</th>\n",
       "      <td>307781</td>\n",
       "      <td>2016</td>\n",
       "      <td>289</td>\n",
       "      <td>173.0</td>\n",
       "      <td>1000000.0</td>\n",
       "      <td>1000000.0</td>\n",
       "    </tr>\n",
       "    <tr>\n",
       "      <th>3</th>\n",
       "      <td>370846</td>\n",
       "      <td>2023</td>\n",
       "      <td>506</td>\n",
       "      <td>183.0</td>\n",
       "      <td>14000000.0</td>\n",
       "      <td>15000000.0</td>\n",
       "    </tr>\n",
       "    <tr>\n",
       "      <th>4</th>\n",
       "      <td>484756</td>\n",
       "      <td>2023</td>\n",
       "      <td>1090</td>\n",
       "      <td>178.0</td>\n",
       "      <td>5000000.0</td>\n",
       "      <td>6000000.0</td>\n",
       "    </tr>\n",
       "    <tr>\n",
       "      <th>...</th>\n",
       "      <td>...</td>\n",
       "      <td>...</td>\n",
       "      <td>...</td>\n",
       "      <td>...</td>\n",
       "      <td>...</td>\n",
       "      <td>...</td>\n",
       "    </tr>\n",
       "    <tr>\n",
       "      <th>147</th>\n",
       "      <td>273570</td>\n",
       "      <td>2020</td>\n",
       "      <td>1283</td>\n",
       "      <td>182.0</td>\n",
       "      <td>NaN</td>\n",
       "      <td>400000.0</td>\n",
       "    </tr>\n",
       "    <tr>\n",
       "      <th>148</th>\n",
       "      <td>111783</td>\n",
       "      <td>2015</td>\n",
       "      <td>995</td>\n",
       "      <td>182.0</td>\n",
       "      <td>300000.0</td>\n",
       "      <td>2500000.0</td>\n",
       "    </tr>\n",
       "    <tr>\n",
       "      <th>149</th>\n",
       "      <td>160670</td>\n",
       "      <td>2014</td>\n",
       "      <td>16</td>\n",
       "      <td>175.0</td>\n",
       "      <td>400000.0</td>\n",
       "      <td>600000.0</td>\n",
       "    </tr>\n",
       "    <tr>\n",
       "      <th>150</th>\n",
       "      <td>3476</td>\n",
       "      <td>2014</td>\n",
       "      <td>148</td>\n",
       "      <td>NaN</td>\n",
       "      <td>NaN</td>\n",
       "      <td>4000000.0</td>\n",
       "    </tr>\n",
       "    <tr>\n",
       "      <th>151</th>\n",
       "      <td>504215</td>\n",
       "      <td>2023</td>\n",
       "      <td>16</td>\n",
       "      <td>185.0</td>\n",
       "      <td>25000000.0</td>\n",
       "      <td>42000000.0</td>\n",
       "    </tr>\n",
       "  </tbody>\n",
       "</table>\n",
       "<p>152 rows × 6 columns</p>\n",
       "</div>"
      ],
      "text/plain": [
       "     player_id  last_season  current_club_id  height_in_cm  \\\n",
       "0       124732         2023              533         194.0   \n",
       "1       223047         2018              903         170.0   \n",
       "2       307781         2016              289         173.0   \n",
       "3       370846         2023              506         183.0   \n",
       "4       484756         2023             1090         178.0   \n",
       "..         ...          ...              ...           ...   \n",
       "147     273570         2020             1283         182.0   \n",
       "148     111783         2015              995         182.0   \n",
       "149     160670         2014               16         175.0   \n",
       "150       3476         2014              148           NaN   \n",
       "151     504215         2023               16         185.0   \n",
       "\n",
       "     market_value_in_eur  highest_market_value_in_eur  \n",
       "0              2000000.0                   15000000.0  \n",
       "1               800000.0                    1800000.0  \n",
       "2              1000000.0                    1000000.0  \n",
       "3             14000000.0                   15000000.0  \n",
       "4              5000000.0                    6000000.0  \n",
       "..                   ...                          ...  \n",
       "147                  NaN                     400000.0  \n",
       "148             300000.0                    2500000.0  \n",
       "149             400000.0                     600000.0  \n",
       "150                  NaN                    4000000.0  \n",
       "151           25000000.0                   42000000.0  \n",
       "\n",
       "[152 rows x 6 columns]"
      ]
     },
     "execution_count": 25,
     "metadata": {},
     "output_type": "execute_result"
    }
   ],
   "source": [
    "conti4 = players.select_dtypes(include='number')\n",
    "conti4"
   ]
  },
  {
   "cell_type": "code",
   "execution_count": 26,
   "id": "7379bcfa-c49b-4313-abb8-52c478908379",
   "metadata": {},
   "outputs": [
    {
     "data": {
      "image/png": "[encoded data removed]",
      "text/plain": [
       "<Figure size 800x550 with 1 Axes>"
      ]
     },
     "metadata": {},
     "output_type": "display_data"
    },
    {
     "data": {
      "image/png": "[encoded data removed]",
      "text/plain": [
       "<Figure size 800x550 with 1 Axes>"
      ]
     },
     "metadata": {},
     "output_type": "display_data"
    },
    {
     "data": {
      "image/png": "[encoded data removed]",
      "text/plain": [
       "<Figure size 800x550 with 1 Axes>"
      ]
     },
     "metadata": {},
     "output_type": "display_data"
    },
    {
     "data": {
      "image/png": "[encoded data removed]",
      "text/plain": [
       "<Figure size 800x550 with 1 Axes>"
      ]
     },
     "metadata": {},
     "output_type": "display_data"
    },
    {
     "data": {
      "image/png": "[encoded data removed]",
      "text/plain": [
       "<Figure size 800x550 with 1 Axes>"
      ]
     },
     "metadata": {},
     "output_type": "display_data"
    },
    {
     "data": {
      "image/png": "[encoded data removed]",
      "text/plain": [
       "<Figure size 800x550 with 1 Axes>"
      ]
     },
     "metadata": {},
     "output_type": "display_data"
    }
   ],
   "source": [
    "for p in conti4.columns:\n",
    "    sns.boxplot(x=conti4[p])\n",
    "    plt.xticks(rotation=90)\n",
    "    plt.show()\n",
    "#Since player_id is unique we will not do outliers treatment \n",
    "#we cannot change the current_club_id for players in which they are currently playing \n",
    "#Height of a player cannot be changed so no outliers treatment \n",
    "#Market value and highest market value of a player will also not be treated as we cannot change the market value of a player for the treatment"
   ]
  },
  {
   "cell_type": "code",
   "execution_count": 27,
   "id": "c2e5aeec-9238-4cb3-a1d0-18c8efcc3cb9",
   "metadata": {},
   "outputs": [
    {
     "data": {
      "text/html": [
       "<div>\n",
       "<style scoped>\n",
       "    .dataframe tbody tr th:only-of-type {\n",
       "        vertical-align: middle;\n",
       "    }\n",
       "\n",
       "    .dataframe tbody tr th {\n",
       "        vertical-align: top;\n",
       "    }\n",
       "\n",
       "    .dataframe thead th {\n",
       "        text-align: right;\n",
       "    }\n",
       "</style>\n",
       "<table border=\"1\" class=\"dataframe\">\n",
       "  <thead>\n",
       "    <tr style=\"text-align: right;\">\n",
       "      <th></th>\n",
       "      <th>game_event_id</th>\n",
       "      <th>date_x</th>\n",
       "      <th>game_id</th>\n",
       "      <th>minute</th>\n",
       "      <th>type</th>\n",
       "      <th>player_id</th>\n",
       "      <th>description</th>\n",
       "      <th>player_in_id</th>\n",
       "      <th>player_assist_id</th>\n",
       "      <th>competition_id</th>\n",
       "      <th>...</th>\n",
       "      <th>away_club_position</th>\n",
       "      <th>home_club_manager_name</th>\n",
       "      <th>away_club_manager_name</th>\n",
       "      <th>stadium</th>\n",
       "      <th>attendance</th>\n",
       "      <th>referee</th>\n",
       "      <th>home_club_name</th>\n",
       "      <th>away_club_name</th>\n",
       "      <th>aggregate</th>\n",
       "      <th>competition_type</th>\n",
       "    </tr>\n",
       "  </thead>\n",
       "  <tbody>\n",
       "    <tr>\n",
       "      <th>0</th>\n",
       "      <td>c6a3c088ed8a38d4ce074dd73b20d3da</td>\n",
       "      <td>2012-08-19</td>\n",
       "      <td>2221641</td>\n",
       "      <td>62.0</td>\n",
       "      <td>Substitutions</td>\n",
       "      <td>1335.0</td>\n",
       "      <td>, Not reported</td>\n",
       "      <td>45668.0</td>\n",
       "      <td>NaN</td>\n",
       "      <td>DFB</td>\n",
       "      <td>...</td>\n",
       "      <td>NaN</td>\n",
       "      <td>Michael Wittwer</td>\n",
       "      <td>Mirko Slomka</td>\n",
       "      <td>Stadion an der Kreuzeiche</td>\n",
       "      <td>3168.0</td>\n",
       "      <td>Benjamin Cortus</td>\n",
       "      <td>NaN</td>\n",
       "      <td>Hannover 96</td>\n",
       "      <td>01:06:00</td>\n",
       "      <td>domestic_cup</td>\n",
       "    </tr>\n",
       "  </tbody>\n",
       "</table>\n",
       "<p>1 rows × 26 columns</p>\n",
       "</div>"
      ],
      "text/plain": [
       "                      game_event_id     date_x  game_id  minute  \\\n",
       "0  c6a3c088ed8a38d4ce074dd73b20d3da 2012-08-19  2221641    62.0   \n",
       "\n",
       "            type  player_id     description  player_in_id  player_assist_id  \\\n",
       "0  Substitutions     1335.0  , Not reported       45668.0               NaN   \n",
       "\n",
       "  competition_id  ...  away_club_position home_club_manager_name  \\\n",
       "0            DFB  ...                 NaN        Michael Wittwer   \n",
       "\n",
       "  away_club_manager_name                    stadium  attendance  \\\n",
       "0           Mirko Slomka  Stadion an der Kreuzeiche      3168.0   \n",
       "\n",
       "           referee  home_club_name away_club_name aggregate competition_type  \n",
       "0  Benjamin Cortus             NaN    Hannover 96  01:06:00     domestic_cup  \n",
       "\n",
       "[1 rows x 26 columns]"
      ]
     },
     "execution_count": 27,
     "metadata": {},
     "output_type": "execute_result"
    }
   ],
   "source": [
    "merged_df1= game_event.merge(games, on='game_id', how=\"outer\")\n",
    "merged_df1.head(1)"
   ]
  },
  {
   "cell_type": "code",
   "execution_count": 28,
   "id": "ed8999dc-4d64-42bf-aa5e-9a8a741bc435",
   "metadata": {},
   "outputs": [
    {
     "data": {
      "text/html": [
       "<div>\n",
       "<style scoped>\n",
       "    .dataframe tbody tr th:only-of-type {\n",
       "        vertical-align: middle;\n",
       "    }\n",
       "\n",
       "    .dataframe tbody tr th {\n",
       "        vertical-align: top;\n",
       "    }\n",
       "\n",
       "    .dataframe thead th {\n",
       "        text-align: right;\n",
       "    }\n",
       "</style>\n",
       "<table border=\"1\" class=\"dataframe\">\n",
       "  <thead>\n",
       "    <tr style=\"text-align: right;\">\n",
       "      <th></th>\n",
       "      <th>game_event_id</th>\n",
       "      <th>date_x</th>\n",
       "      <th>game_id</th>\n",
       "      <th>minute</th>\n",
       "      <th>type</th>\n",
       "      <th>player_id_x</th>\n",
       "      <th>description</th>\n",
       "      <th>player_in_id</th>\n",
       "      <th>player_assist_id</th>\n",
       "      <th>competition_id_x</th>\n",
       "      <th>...</th>\n",
       "      <th>appearance_id</th>\n",
       "      <th>player_id_y</th>\n",
       "      <th>date</th>\n",
       "      <th>player_name</th>\n",
       "      <th>competition_id_y</th>\n",
       "      <th>yellow_cards</th>\n",
       "      <th>red_cards</th>\n",
       "      <th>goals</th>\n",
       "      <th>assists</th>\n",
       "      <th>minutes_played</th>\n",
       "    </tr>\n",
       "  </thead>\n",
       "  <tbody>\n",
       "    <tr>\n",
       "      <th>0</th>\n",
       "      <td>c6a3c088ed8a38d4ce074dd73b20d3da</td>\n",
       "      <td>2012-08-19</td>\n",
       "      <td>2221641</td>\n",
       "      <td>62.0</td>\n",
       "      <td>Substitutions</td>\n",
       "      <td>1335.0</td>\n",
       "      <td>, Not reported</td>\n",
       "      <td>45668.0</td>\n",
       "      <td>NaN</td>\n",
       "      <td>DFB</td>\n",
       "      <td>...</td>\n",
       "      <td>2221641_1335</td>\n",
       "      <td>1335.0</td>\n",
       "      <td>2012-08-19</td>\n",
       "      <td>Steven Cherundolo</td>\n",
       "      <td>DFB</td>\n",
       "      <td>0.0</td>\n",
       "      <td>0.0</td>\n",
       "      <td>0.0</td>\n",
       "      <td>0.0</td>\n",
       "      <td>62.0</td>\n",
       "    </tr>\n",
       "  </tbody>\n",
       "</table>\n",
       "<p>1 rows × 36 columns</p>\n",
       "</div>"
      ],
      "text/plain": [
       "                      game_event_id     date_x  game_id  minute  \\\n",
       "0  c6a3c088ed8a38d4ce074dd73b20d3da 2012-08-19  2221641    62.0   \n",
       "\n",
       "            type  player_id_x     description  player_in_id  player_assist_id  \\\n",
       "0  Substitutions       1335.0  , Not reported       45668.0               NaN   \n",
       "\n",
       "  competition_id_x  ...  appearance_id player_id_y       date  \\\n",
       "0              DFB  ...   2221641_1335      1335.0 2012-08-19   \n",
       "\n",
       "         player_name  competition_id_y  yellow_cards  red_cards goals assists  \\\n",
       "0  Steven Cherundolo               DFB           0.0        0.0   0.0     0.0   \n",
       "\n",
       "  minutes_played  \n",
       "0           62.0  \n",
       "\n",
       "[1 rows x 36 columns]"
      ]
     },
     "execution_count": 28,
     "metadata": {},
     "output_type": "execute_result"
    }
   ],
   "source": [
    "merged_df2 = merged_df1.merge(appearance, on='game_id', how=\"outer\")\n",
    "merged_df2.head(1)"
   ]
  },
  {
   "cell_type": "code",
   "execution_count": 29,
   "id": "93777b3c-fd2b-424c-848d-9c77ee32f872",
   "metadata": {},
   "outputs": [
    {
     "data": {
      "text/plain": [
       "Index(['game_event_id', 'date_x', 'game_id', 'minute', 'type', 'player_id_x',\n",
       "       'description', 'player_in_id', 'player_assist_id', 'competition_id_x',\n",
       "       'season', 'round', 'date_y', 'home_club_goals', 'away_club_goals',\n",
       "       'home_club_position', 'away_club_position', 'home_club_manager_name',\n",
       "       'away_club_manager_name', 'stadium', 'attendance', 'referee',\n",
       "       'home_club_name', 'away_club_name', 'aggregate', 'competition_type',\n",
       "       'appearance_id', 'player_id_y', 'date', 'player_name',\n",
       "       'competition_id_y', 'yellow_cards', 'red_cards', 'goals', 'assists',\n",
       "       'minutes_played'],\n",
       "      dtype='object')"
      ]
     },
     "execution_count": 29,
     "metadata": {},
     "output_type": "execute_result"
    }
   ],
   "source": [
    "merged_df2.columns"
   ]
  },
  {
   "cell_type": "code",
   "execution_count": 30,
   "id": "633d3403-6563-4fde-920d-c0340a26fab2",
   "metadata": {},
   "outputs": [
    {
     "data": {
      "text/plain": [
       "Index(['game_lineups_id', 'game_id', 'type', 'number', 'player_id',\n",
       "       'player_name', 'team_captain', 'position'],\n",
       "      dtype='object')"
      ]
     },
     "execution_count": 30,
     "metadata": {},
     "output_type": "execute_result"
    }
   ],
   "source": [
    "games_lineups.columns"
   ]
  },
  {
   "cell_type": "code",
   "execution_count": 31,
   "id": "367a10ab-57bb-40d2-bdd9-18ba201acdf7",
   "metadata": {},
   "outputs": [
    {
     "data": {
      "text/html": [
       "<div>\n",
       "<style scoped>\n",
       "    .dataframe tbody tr th:only-of-type {\n",
       "        vertical-align: middle;\n",
       "    }\n",
       "\n",
       "    .dataframe tbody tr th {\n",
       "        vertical-align: top;\n",
       "    }\n",
       "\n",
       "    .dataframe thead th {\n",
       "        text-align: right;\n",
       "    }\n",
       "</style>\n",
       "<table border=\"1\" class=\"dataframe\">\n",
       "  <thead>\n",
       "    <tr style=\"text-align: right;\">\n",
       "      <th></th>\n",
       "      <th>game_event_id</th>\n",
       "      <th>date_x</th>\n",
       "      <th>game_id</th>\n",
       "      <th>minute</th>\n",
       "      <th>type_x</th>\n",
       "      <th>player_id_x</th>\n",
       "      <th>description</th>\n",
       "      <th>player_in_id</th>\n",
       "      <th>player_assist_id</th>\n",
       "      <th>competition_id_x</th>\n",
       "      <th>...</th>\n",
       "      <th>goals</th>\n",
       "      <th>assists</th>\n",
       "      <th>minutes_played</th>\n",
       "      <th>game_lineups_id</th>\n",
       "      <th>type_y</th>\n",
       "      <th>number</th>\n",
       "      <th>player_id</th>\n",
       "      <th>player_name_y</th>\n",
       "      <th>team_captain</th>\n",
       "      <th>position</th>\n",
       "    </tr>\n",
       "  </thead>\n",
       "  <tbody>\n",
       "    <tr>\n",
       "      <th>0</th>\n",
       "      <td>c6a3c088ed8a38d4ce074dd73b20d3da</td>\n",
       "      <td>2012-08-19</td>\n",
       "      <td>2221641</td>\n",
       "      <td>62.0</td>\n",
       "      <td>Substitutions</td>\n",
       "      <td>1335.0</td>\n",
       "      <td>, Not reported</td>\n",
       "      <td>45668.0</td>\n",
       "      <td>NaN</td>\n",
       "      <td>DFB</td>\n",
       "      <td>...</td>\n",
       "      <td>0.0</td>\n",
       "      <td>0.0</td>\n",
       "      <td>62.0</td>\n",
       "      <td>NaN</td>\n",
       "      <td>NaN</td>\n",
       "      <td>NaN</td>\n",
       "      <td>NaN</td>\n",
       "      <td>NaN</td>\n",
       "      <td>NaN</td>\n",
       "      <td>NaN</td>\n",
       "    </tr>\n",
       "  </tbody>\n",
       "</table>\n",
       "<p>1 rows × 43 columns</p>\n",
       "</div>"
      ],
      "text/plain": [
       "                      game_event_id     date_x  game_id  minute  \\\n",
       "0  c6a3c088ed8a38d4ce074dd73b20d3da 2012-08-19  2221641    62.0   \n",
       "\n",
       "          type_x  player_id_x     description  player_in_id  player_assist_id  \\\n",
       "0  Substitutions       1335.0  , Not reported       45668.0               NaN   \n",
       "\n",
       "  competition_id_x  ...  goals assists minutes_played  game_lineups_id  \\\n",
       "0              DFB  ...    0.0     0.0           62.0              NaN   \n",
       "\n",
       "   type_y  number  player_id player_name_y team_captain position  \n",
       "0     NaN     NaN        NaN           NaN          NaN      NaN  \n",
       "\n",
       "[1 rows x 43 columns]"
      ]
     },
     "execution_count": 31,
     "metadata": {},
     "output_type": "execute_result"
    }
   ],
   "source": [
    "merged_df3 = merged_df2.merge(games_lineups, on='game_id', how='outer')\n",
    "merged_df3.head(1)"
   ]
  },
  {
   "cell_type": "code",
   "execution_count": 32,
   "id": "74ad1d67-0f5b-4bea-afd8-154fc3a2077d",
   "metadata": {},
   "outputs": [
    {
     "data": {
      "text/plain": [
       "game_event_id                     object\n",
       "date_x                    datetime64[ns]\n",
       "game_id                            int64\n",
       "minute                           float64\n",
       "type_x                            object\n",
       "player_id_x                      float64\n",
       "description                       object\n",
       "player_in_id                     float64\n",
       "player_assist_id                 float64\n",
       "competition_id_x                  object\n",
       "season                           float64\n",
       "round                             object\n",
       "date_y                    datetime64[ns]\n",
       "home_club_goals                  float64\n",
       "away_club_goals                  float64\n",
       "home_club_position               float64\n",
       "away_club_position               float64\n",
       "home_club_manager_name            object\n",
       "away_club_manager_name            object\n",
       "stadium                           object\n",
       "attendance                       float64\n",
       "referee                           object\n",
       "home_club_name                    object\n",
       "away_club_name                    object\n",
       "aggregate                         object\n",
       "competition_type                  object\n",
       "appearance_id                     object\n",
       "player_id_y                      float64\n",
       "date                      datetime64[ns]\n",
       "player_name_x                     object\n",
       "competition_id_y                  object\n",
       "yellow_cards                     float64\n",
       "red_cards                        float64\n",
       "goals                            float64\n",
       "assists                          float64\n",
       "minutes_played                   float64\n",
       "game_lineups_id                   object\n",
       "type_y                            object\n",
       "number                           float64\n",
       "player_id                        float64\n",
       "player_name_y                     object\n",
       "team_captain                     float64\n",
       "position                          object\n",
       "dtype: object"
      ]
     },
     "execution_count": 32,
     "metadata": {},
     "output_type": "execute_result"
    }
   ],
   "source": [
    "merged_df3.dtypes"
   ]
  },
  {
   "cell_type": "code",
   "execution_count": 33,
   "id": "37849da4-3312-4cbc-a859-6961130656b9",
   "metadata": {},
   "outputs": [
    {
     "data": {
      "text/html": [
       "<div>\n",
       "<style scoped>\n",
       "    .dataframe tbody tr th:only-of-type {\n",
       "        vertical-align: middle;\n",
       "    }\n",
       "\n",
       "    .dataframe tbody tr th {\n",
       "        vertical-align: top;\n",
       "    }\n",
       "\n",
       "    .dataframe thead th {\n",
       "        text-align: right;\n",
       "    }\n",
       "</style>\n",
       "<table border=\"1\" class=\"dataframe\">\n",
       "  <thead>\n",
       "    <tr style=\"text-align: right;\">\n",
       "      <th></th>\n",
       "      <th>game_event_id</th>\n",
       "      <th>date_x</th>\n",
       "      <th>game_id</th>\n",
       "      <th>minute</th>\n",
       "      <th>type_x</th>\n",
       "      <th>player_id_x</th>\n",
       "      <th>description</th>\n",
       "      <th>player_in_id</th>\n",
       "      <th>player_assist_id</th>\n",
       "      <th>competition_id_x</th>\n",
       "      <th>...</th>\n",
       "      <th>country_of_birth</th>\n",
       "      <th>date_of_birth</th>\n",
       "      <th>sub_position</th>\n",
       "      <th>position_y</th>\n",
       "      <th>foot</th>\n",
       "      <th>height_in_cm</th>\n",
       "      <th>market_value_in_eur</th>\n",
       "      <th>highest_market_value_in_eur</th>\n",
       "      <th>contract_expiration_date</th>\n",
       "      <th>agent_name</th>\n",
       "    </tr>\n",
       "  </thead>\n",
       "  <tbody>\n",
       "    <tr>\n",
       "      <th>0</th>\n",
       "      <td>c6a3c088ed8a38d4ce074dd73b20d3da</td>\n",
       "      <td>2012-08-19</td>\n",
       "      <td>2221641.0</td>\n",
       "      <td>62.0</td>\n",
       "      <td>Substitutions</td>\n",
       "      <td>1335.0</td>\n",
       "      <td>, Not reported</td>\n",
       "      <td>45668.0</td>\n",
       "      <td>NaN</td>\n",
       "      <td>DFB</td>\n",
       "      <td>...</td>\n",
       "      <td>NaN</td>\n",
       "      <td>NaT</td>\n",
       "      <td>NaN</td>\n",
       "      <td>NaN</td>\n",
       "      <td>NaN</td>\n",
       "      <td>NaN</td>\n",
       "      <td>NaN</td>\n",
       "      <td>NaN</td>\n",
       "      <td>NaT</td>\n",
       "      <td>NaN</td>\n",
       "    </tr>\n",
       "  </tbody>\n",
       "</table>\n",
       "<p>1 rows × 57 columns</p>\n",
       "</div>"
      ],
      "text/plain": [
       "                      game_event_id     date_x    game_id  minute  \\\n",
       "0  c6a3c088ed8a38d4ce074dd73b20d3da 2012-08-19  2221641.0    62.0   \n",
       "\n",
       "          type_x  player_id_x     description  player_in_id  player_assist_id  \\\n",
       "0  Substitutions       1335.0  , Not reported       45668.0               NaN   \n",
       "\n",
       "  competition_id_x  ...  country_of_birth date_of_birth sub_position  \\\n",
       "0              DFB  ...               NaN           NaT          NaN   \n",
       "\n",
       "   position_y  foot  height_in_cm  market_value_in_eur  \\\n",
       "0         NaN   NaN           NaN                  NaN   \n",
       "\n",
       "  highest_market_value_in_eur contract_expiration_date agent_name  \n",
       "0                         NaN                      NaT        NaN  \n",
       "\n",
       "[1 rows x 57 columns]"
      ]
     },
     "execution_count": 33,
     "metadata": {},
     "output_type": "execute_result"
    }
   ],
   "source": [
    "merged_df4 = merged_df3.merge(players, on=\"player_id\", how=\"outer\")\n",
    "merged_df4.head(1)"
   ]
  },
  {
   "cell_type": "code",
   "execution_count": 34,
   "id": "171b9c1c-f6d6-46d6-b46f-376ff8472eb1",
   "metadata": {},
   "outputs": [
    {
     "data": {
      "text/plain": [
       "(4811, 57)"
      ]
     },
     "execution_count": 34,
     "metadata": {},
     "output_type": "execute_result"
    }
   ],
   "source": [
    "merged_df4.shape"
   ]
  },
  {
   "cell_type": "code",
   "execution_count": 35,
   "id": "069474bd-a8c4-4e45-a10f-3c2a2252c180",
   "metadata": {},
   "outputs": [],
   "source": [
    "df = merged_df4.copy()"
   ]
  },
  {
   "cell_type": "code",
   "execution_count": 36,
   "id": "91560aaf-485c-4d39-985d-f86183d8ee52",
   "metadata": {},
   "outputs": [],
   "source": [
    "df.to_csv(\"C:\\\\Users\\\\Surin\\\\Downloads\\\\Football_data_merged_uncleaned.csv\")"
   ]
  },
  {
   "cell_type": "code",
   "execution_count": 37,
   "id": "af4966cc-aeff-4b67-a0a2-ce71d53bb974",
   "metadata": {},
   "outputs": [
    {
     "data": {
      "text/html": [
       "<div>\n",
       "<style scoped>\n",
       "    .dataframe tbody tr th:only-of-type {\n",
       "        vertical-align: middle;\n",
       "    }\n",
       "\n",
       "    .dataframe tbody tr th {\n",
       "        vertical-align: top;\n",
       "    }\n",
       "\n",
       "    .dataframe thead th {\n",
       "        text-align: right;\n",
       "    }\n",
       "</style>\n",
       "<table border=\"1\" class=\"dataframe\">\n",
       "  <thead>\n",
       "    <tr style=\"text-align: right;\">\n",
       "      <th></th>\n",
       "      <th>Unnamed: 0</th>\n",
       "      <th>game_event_id</th>\n",
       "      <th>date_x</th>\n",
       "      <th>game_id</th>\n",
       "      <th>minute</th>\n",
       "      <th>type_x</th>\n",
       "      <th>player_id_x</th>\n",
       "      <th>description</th>\n",
       "      <th>player_in_id</th>\n",
       "      <th>player_assist_id</th>\n",
       "      <th>...</th>\n",
       "      <th>country_of_birth</th>\n",
       "      <th>date_of_birth</th>\n",
       "      <th>sub_position</th>\n",
       "      <th>position_y</th>\n",
       "      <th>foot</th>\n",
       "      <th>height_in_cm</th>\n",
       "      <th>market_value_in_eur</th>\n",
       "      <th>highest_market_value_in_eur</th>\n",
       "      <th>contract_expiration_date</th>\n",
       "      <th>agent_name</th>\n",
       "    </tr>\n",
       "  </thead>\n",
       "  <tbody>\n",
       "    <tr>\n",
       "      <th>0</th>\n",
       "      <td>0</td>\n",
       "      <td>c6a3c088ed8a38d4ce074dd73b20d3da</td>\n",
       "      <td>2012-08-19</td>\n",
       "      <td>2221641.0</td>\n",
       "      <td>62.0</td>\n",
       "      <td>Substitutions</td>\n",
       "      <td>1335.0</td>\n",
       "      <td>, Not reported</td>\n",
       "      <td>45668.0</td>\n",
       "      <td>NaN</td>\n",
       "      <td>...</td>\n",
       "      <td>NaN</td>\n",
       "      <td>NaN</td>\n",
       "      <td>NaN</td>\n",
       "      <td>NaN</td>\n",
       "      <td>NaN</td>\n",
       "      <td>NaN</td>\n",
       "      <td>NaN</td>\n",
       "      <td>NaN</td>\n",
       "      <td>NaN</td>\n",
       "      <td>NaN</td>\n",
       "    </tr>\n",
       "  </tbody>\n",
       "</table>\n",
       "<p>1 rows × 58 columns</p>\n",
       "</div>"
      ],
      "text/plain": [
       "   Unnamed: 0                     game_event_id      date_x    game_id  \\\n",
       "0           0  c6a3c088ed8a38d4ce074dd73b20d3da  2012-08-19  2221641.0   \n",
       "\n",
       "   minute         type_x  player_id_x     description  player_in_id  \\\n",
       "0    62.0  Substitutions       1335.0  , Not reported       45668.0   \n",
       "\n",
       "   player_assist_id  ... country_of_birth  date_of_birth sub_position  \\\n",
       "0               NaN  ...              NaN            NaN          NaN   \n",
       "\n",
       "  position_y  foot  height_in_cm  market_value_in_eur  \\\n",
       "0        NaN   NaN           NaN                  NaN   \n",
       "\n",
       "   highest_market_value_in_eur contract_expiration_date agent_name  \n",
       "0                          NaN                      NaN        NaN  \n",
       "\n",
       "[1 rows x 58 columns]"
      ]
     },
     "execution_count": 37,
     "metadata": {},
     "output_type": "execute_result"
    }
   ],
   "source": [
    "df1 = pd.read_csv(\"C:\\\\Users\\\\Surin\\\\Downloads\\\\Football_data_merged_uncleaned.csv\")\n",
    "df1.head(1)"
   ]
  },
  {
   "cell_type": "code",
   "execution_count": 38,
   "id": "2aa2d7ca-c779-462f-baa5-228a046c1c88",
   "metadata": {},
   "outputs": [],
   "source": [
    "df1.drop(['Unnamed: 0'],axis=1,inplace=True)\n",
    "#Since these columns are empty we have to drop them"
   ]
  },
  {
   "cell_type": "code",
   "execution_count": 39,
   "id": "f4f09493-6047-4c82-9745-404f5e32dd5a",
   "metadata": {},
   "outputs": [
    {
     "data": {
      "text/plain": [
       "game_event_id                  2727\n",
       "date_x                         2727\n",
       "game_id                         125\n",
       "minute                         2727\n",
       "type_x                         2727\n",
       "player_id_x                    2727\n",
       "description                    3742\n",
       "player_in_id                   3519\n",
       "player_assist_id               4644\n",
       "competition_id_x               1002\n",
       "season                         1002\n",
       "round                          1002\n",
       "date_y                         1002\n",
       "home_club_goals                1002\n",
       "away_club_goals                1002\n",
       "home_club_position             1552\n",
       "away_club_position             1552\n",
       "home_club_manager_name         1008\n",
       "away_club_manager_name         1008\n",
       "stadium                        1002\n",
       "attendance                     1143\n",
       "referee                        1007\n",
       "home_club_name                 1130\n",
       "away_club_name                 1070\n",
       "aggregate                      1002\n",
       "competition_type               1002\n",
       "appearance_id                  1002\n",
       "player_id_y                    1002\n",
       "date                           1002\n",
       "player_name_x                  1002\n",
       "competition_id_y               1002\n",
       "yellow_cards                   1002\n",
       "red_cards                      1002\n",
       "goals                          1002\n",
       "assists                        1002\n",
       "minutes_played                 1002\n",
       "game_lineups_id                4567\n",
       "type_y                         4567\n",
       "number                         4567\n",
       "player_id                      4442\n",
       "player_name_y                  4567\n",
       "team_captain                   4567\n",
       "position_x                     4567\n",
       "name                           4442\n",
       "last_season                    4442\n",
       "current_club_id                4442\n",
       "player_code                    4442\n",
       "country_of_birth               4442\n",
       "date_of_birth                  4442\n",
       "sub_position                   4442\n",
       "position_y                     4442\n",
       "foot                           4453\n",
       "height_in_cm                   4445\n",
       "market_value_in_eur            4480\n",
       "highest_market_value_in_eur    4446\n",
       "contract_expiration_date       4496\n",
       "agent_name                     4554\n",
       "dtype: int64"
      ]
     },
     "execution_count": 39,
     "metadata": {},
     "output_type": "execute_result"
    }
   ],
   "source": [
    "df1.isnull().sum()"
   ]
  },
  {
   "cell_type": "code",
   "execution_count": 40,
   "id": "58692e7d-046e-4acb-a4d1-0d243efa7367",
   "metadata": {},
   "outputs": [],
   "source": [
    "df1.drop(['date_x','player_id_x','player_assist_id','date_y','description','player_id_y','competition_id_y','player_name_y'],axis=1,inplace=True)"
   ]
  },
  {
   "cell_type": "code",
   "execution_count": 41,
   "id": "44e9fde6-f5f8-4569-8103-6ecec699d873",
   "metadata": {},
   "outputs": [],
   "source": [
    "df1['date'] = pd.to_datetime(df1['date'])\n",
    "df1['date_of_birth'] = pd.to_datetime(df1['date_of_birth'])\n",
    "df1['team_captain'] = df1['team_captain'].astype(bool)\n",
    "df1['contract_expiration_date'] = pd.to_datetime(df1['contract_expiration_date'])"
   ]
  },
  {
   "cell_type": "code",
   "execution_count": 42,
   "id": "15dfe46d-3791-4ab4-aa11-4ac1e4cf93e0",
   "metadata": {},
   "outputs": [],
   "source": [
    "conti_df = df1.select_dtypes(include='number')\n",
    "categ_df = df1.select_dtypes(exclude='number')"
   ]
  },
  {
   "cell_type": "code",
   "execution_count": 43,
   "id": "d5ca4283-41b4-48bc-9f47-9e87765cfc69",
   "metadata": {},
   "outputs": [
    {
     "data": {
      "text/plain": [
       "Index(['game_id', 'minute', 'player_in_id', 'season', 'home_club_goals',\n",
       "       'away_club_goals', 'home_club_position', 'away_club_position',\n",
       "       'attendance', 'yellow_cards', 'red_cards', 'goals', 'assists',\n",
       "       'minutes_played', 'number', 'player_id', 'last_season',\n",
       "       'current_club_id', 'height_in_cm', 'market_value_in_eur',\n",
       "       'highest_market_value_in_eur'],\n",
       "      dtype='object')"
      ]
     },
     "execution_count": 43,
     "metadata": {},
     "output_type": "execute_result"
    }
   ],
   "source": [
    "conti_df.columns"
   ]
  },
  {
   "cell_type": "code",
   "execution_count": 44,
   "id": "99a03e95-54ee-43e2-8e78-1bae29a178f1",
   "metadata": {},
   "outputs": [
    {
     "data": {
      "text/plain": [
       "Index(['game_event_id', 'type_x', 'competition_id_x', 'round',\n",
       "       'home_club_manager_name', 'away_club_manager_name', 'stadium',\n",
       "       'referee', 'home_club_name', 'away_club_name', 'aggregate',\n",
       "       'competition_type', 'appearance_id', 'date', 'player_name_x',\n",
       "       'game_lineups_id', 'type_y', 'team_captain', 'position_x', 'name',\n",
       "       'player_code', 'country_of_birth', 'date_of_birth', 'sub_position',\n",
       "       'position_y', 'foot', 'contract_expiration_date', 'agent_name'],\n",
       "      dtype='object')"
      ]
     },
     "execution_count": 44,
     "metadata": {},
     "output_type": "execute_result"
    }
   ],
   "source": [
    "categ_df.columns"
   ]
  },
  {
   "cell_type": "code",
   "execution_count": 45,
   "id": "fd2c2c01-8e52-476c-a2de-0c449546a9cd",
   "metadata": {},
   "outputs": [],
   "source": [
    "for colum in conti_df.columns:\n",
    "    median =  conti_df[colum].median()\n",
    "    df1[colum] =  conti_df[colum].fillna(median)\n",
    "    conti_df[colum] = conti_df[colum].fillna(median)"
   ]
  },
  {
   "cell_type": "code",
   "execution_count": 46,
   "id": "b8cb539d-1744-44f2-9eb7-18183d92154d",
   "metadata": {},
   "outputs": [],
   "source": [
    "for col in categ_df.columns:\n",
    "    df1[col] = categ_df[col].fillna(\"Data is not available\")\n",
    "  "
   ]
  },
  {
   "cell_type": "code",
   "execution_count": 47,
   "id": "3ac05b3e-8741-4b83-b6c6-a67cb38944d3",
   "metadata": {},
   "outputs": [],
   "source": [
    "df1.to_csv(\"C:\\\\Users\\\\Surin\\\\Downloads\\\\Football_data_merged_cleaned.csv\")"
   ]
  },
  {
   "cell_type": "code",
   "execution_count": 48,
   "id": "ebe45c88-6e1a-433c-9004-da49f73035e9",
   "metadata": {},
   "outputs": [],
   "source": [
    "cleaned_df = pd.read_csv(\"C:\\\\Users\\\\Surin\\\\Downloads\\\\Football_data_merged_cleaned.csv\")"
   ]
  },
  {
   "cell_type": "code",
   "execution_count": 49,
   "id": "fd794436-5c55-4260-acd0-18a18aa76558",
   "metadata": {},
   "outputs": [
    {
     "data": {
      "text/html": [
       "<div>\n",
       "<style scoped>\n",
       "    .dataframe tbody tr th:only-of-type {\n",
       "        vertical-align: middle;\n",
       "    }\n",
       "\n",
       "    .dataframe tbody tr th {\n",
       "        vertical-align: top;\n",
       "    }\n",
       "\n",
       "    .dataframe thead th {\n",
       "        text-align: right;\n",
       "    }\n",
       "</style>\n",
       "<table border=\"1\" class=\"dataframe\">\n",
       "  <thead>\n",
       "    <tr style=\"text-align: right;\">\n",
       "      <th></th>\n",
       "      <th>game_event_id</th>\n",
       "      <th>game_id</th>\n",
       "      <th>minute</th>\n",
       "      <th>type_x</th>\n",
       "      <th>player_in_id</th>\n",
       "      <th>competition_id_x</th>\n",
       "      <th>season</th>\n",
       "      <th>round</th>\n",
       "      <th>home_club_goals</th>\n",
       "      <th>away_club_goals</th>\n",
       "      <th>...</th>\n",
       "      <th>country_of_birth</th>\n",
       "      <th>date_of_birth</th>\n",
       "      <th>sub_position</th>\n",
       "      <th>position_y</th>\n",
       "      <th>foot</th>\n",
       "      <th>height_in_cm</th>\n",
       "      <th>market_value_in_eur</th>\n",
       "      <th>highest_market_value_in_eur</th>\n",
       "      <th>contract_expiration_date</th>\n",
       "      <th>agent_name</th>\n",
       "    </tr>\n",
       "  </thead>\n",
       "  <tbody>\n",
       "    <tr>\n",
       "      <th>0</th>\n",
       "      <td>c6a3c088ed8a38d4ce074dd73b20d3da</td>\n",
       "      <td>2221641.0</td>\n",
       "      <td>62.0</td>\n",
       "      <td>Substitutions</td>\n",
       "      <td>45668.0</td>\n",
       "      <td>DFB</td>\n",
       "      <td>2012.0</td>\n",
       "      <td>First Round</td>\n",
       "      <td>1.0</td>\n",
       "      <td>6.0</td>\n",
       "      <td>...</td>\n",
       "      <td>Data is not available</td>\n",
       "      <td>Data is not available</td>\n",
       "      <td>Data is not available</td>\n",
       "      <td>Data is not available</td>\n",
       "      <td>Data is not available</td>\n",
       "      <td>183.0</td>\n",
       "      <td>2000000.0</td>\n",
       "      <td>4000000.0</td>\n",
       "      <td>Data is not available</td>\n",
       "      <td>Data is not available</td>\n",
       "    </tr>\n",
       "  </tbody>\n",
       "</table>\n",
       "<p>1 rows × 49 columns</p>\n",
       "</div>"
      ],
      "text/plain": [
       "                      game_event_id    game_id  minute         type_x  \\\n",
       "0  c6a3c088ed8a38d4ce074dd73b20d3da  2221641.0    62.0  Substitutions   \n",
       "\n",
       "   player_in_id competition_id_x  season        round  home_club_goals  \\\n",
       "0       45668.0              DFB  2012.0  First Round              1.0   \n",
       "\n",
       "   away_club_goals  ...       country_of_birth          date_of_birth  \\\n",
       "0              6.0  ...  Data is not available  Data is not available   \n",
       "\n",
       "            sub_position             position_y                   foot  \\\n",
       "0  Data is not available  Data is not available  Data is not available   \n",
       "\n",
       "   height_in_cm market_value_in_eur highest_market_value_in_eur  \\\n",
       "0         183.0           2000000.0                   4000000.0   \n",
       "\n",
       "  contract_expiration_date             agent_name  \n",
       "0    Data is not available  Data is not available  \n",
       "\n",
       "[1 rows x 49 columns]"
      ]
     },
     "execution_count": 49,
     "metadata": {},
     "output_type": "execute_result"
    }
   ],
   "source": [
    "cleaned_df.drop([\"Unnamed: 0\"],axis=1,inplace=True)\n",
    "cleaned_df.head(1)"
   ]
  },
  {
   "cell_type": "code",
   "execution_count": 50,
   "id": "4f3cc4d3-4cc5-44b0-bec4-ff2ab6483c9b",
   "metadata": {},
   "outputs": [
    {
     "data": {
      "text/plain": [
       "(4811, 49)"
      ]
     },
     "execution_count": 50,
     "metadata": {},
     "output_type": "execute_result"
    }
   ],
   "source": [
    "cleaned_df.shape"
   ]
  },
  {
   "cell_type": "markdown",
   "id": "3bac4b7a-89b7-4de4-9dc7-e6280e279872",
   "metadata": {},
   "source": [
    "# Areas of Interest\n",
    "1. Performance Analysis\n",
    "2. Player Profile and Market Value\n",
    "3. Team Comparison\n",
    "4. Attendance and Stadium Analysis\n",
    "5. Referee Analysis\n",
    "6. Substitution Patterns\n",
    "7. Event Analysis\n",
    "8. Competition Analysis\n",
    "9. Player Attributes and Demographics\n",
    "10. Contract Management"
   ]
  },
  {
   "cell_type": "code",
   "execution_count": 51,
   "id": "3ffd6458-3731-4fe2-9df6-16ad0d207c7f",
   "metadata": {},
   "outputs": [
    {
     "data": {
      "text/plain": [
       "Index(['game_event_id', 'game_id', 'minute', 'type_x', 'player_in_id',\n",
       "       'competition_id_x', 'season', 'round', 'home_club_goals',\n",
       "       'away_club_goals', 'home_club_position', 'away_club_position',\n",
       "       'home_club_manager_name', 'away_club_manager_name', 'stadium',\n",
       "       'attendance', 'referee', 'home_club_name', 'away_club_name',\n",
       "       'aggregate', 'competition_type', 'appearance_id', 'date',\n",
       "       'player_name_x', 'yellow_cards', 'red_cards', 'goals', 'assists',\n",
       "       'minutes_played', 'game_lineups_id', 'type_y', 'number', 'player_id',\n",
       "       'team_captain', 'position_x', 'name', 'last_season', 'current_club_id',\n",
       "       'player_code', 'country_of_birth', 'date_of_birth', 'sub_position',\n",
       "       'position_y', 'foot', 'height_in_cm', 'market_value_in_eur',\n",
       "       'highest_market_value_in_eur', 'contract_expiration_date',\n",
       "       'agent_name'],\n",
       "      dtype='object')"
      ]
     },
     "execution_count": 51,
     "metadata": {},
     "output_type": "execute_result"
    }
   ],
   "source": [
    "cleaned_df.columns"
   ]
  },
  {
   "cell_type": "code",
   "execution_count": 52,
   "id": "5d4868b7-fb48-4078-861a-253f0549313b",
   "metadata": {},
   "outputs": [],
   "source": [
    "#Performance Analysis:(Part 3)\n",
    "#Business Objective: Analyze and visualize player and team performance metrics to identify key performance indicators (KPIs) and trends.\r",
    "#Q1 Which players have the highest goal contributions (goals + assists) in year 2019?"
   ]
  },
  {
   "cell_type": "code",
   "execution_count": 53,
   "id": "db38bb00-bc24-4291-aa12-fb4c26e93650",
   "metadata": {},
   "outputs": [],
   "source": [
    "#Q2 Which players have the highest contribution to their team's performance based on key metrics (e.g., goals, assists)?"
   ]
  },
  {
   "cell_type": "code",
   "execution_count": 54,
   "id": "b3699033-c127-4ec5-9923-fb8c8011ea05",
   "metadata": {},
   "outputs": [],
   "source": [
    "#Q3 How does the home and away performance differ for teams in terms of key metrics (e.g., goals scored)?"
   ]
  },
  {
   "cell_type": "code",
   "execution_count": 55,
   "id": "04f99969-5ceb-4453-a09a-98e638a45c52",
   "metadata": {},
   "outputs": [],
   "source": [
    "######Probability######"
   ]
  },
  {
   "cell_type": "code",
   "execution_count": 56,
   "id": "75552c6f-6d30-4ef3-8f19-cc7991ab3100",
   "metadata": {},
   "outputs": [],
   "source": [
    "#Q4 What is the probability that a player scores more than one goal in a match, given that they scored at least one goal?"
   ]
  },
  {
   "cell_type": "code",
   "execution_count": 57,
   "id": "293d5e0f-c2dd-4fd1-8d34-865d65735a6e",
   "metadata": {},
   "outputs": [],
   "source": [
    "df_player_goals  = cleaned_df[['goals','player_id']]"
   ]
  },
  {
   "cell_type": "code",
   "execution_count": 58,
   "id": "a767d705-8506-442f-9444-3840abbf6de5",
   "metadata": {},
   "outputs": [
    {
     "name": "stdout",
     "output_type": "stream",
     "text": [
      "Probability that a player scores more than one goal given they scored at least one goal: 0.09\n"
     ]
    }
   ],
   "source": [
    "players_with_goals = df_player_goals [df_player_goals ['goals'] > 0]\n",
    "prob_more_than_one_goal = (players_with_goals['goals'] >= 1).sum() / df_player_goals .shape[0] #scores atleast 1 goal\n",
    "\n",
    "print(f\"Probability that a player scores more than one goal given they scored at least one goal: {prob_more_than_one_goal:.2f}\")"
   ]
  },
  {
   "cell_type": "markdown",
   "id": "e9561ef4-b3b3-40fd-a17c-efe7da50595f",
   "metadata": {},
   "source": [
    "#Interpretation\n",
    "This probability indicates that there's a 9% chance that a player will score more than one goal in a game, given that they have already scored at least one goal."
   ]
  },
  {
   "cell_type": "code",
   "execution_count": 59,
   "id": "3584602e-dfbb-4be3-a796-30b1db27f387",
   "metadata": {},
   "outputs": [
    {
     "data": {
      "text/plain": [
       "0.13725490196078433"
      ]
     },
     "execution_count": 59,
     "metadata": {},
     "output_type": "execute_result"
    }
   ],
   "source": [
    "#Q5\n",
    "players_gt_2_goals = cleaned_df[cleaned_df['goals'] > 2]\n",
    "\n",
    "# Players who provided more than 1 assists\n",
    "players_gt_2_assists = cleaned_df[cleaned_df['assists'] > 1]\n",
    "\n",
    "# Joint probability: players who have both >2 goals and >1 assists\n",
    "joint_probability = len(players_gt_2_goals[players_gt_2_goals['name'].isin(players_gt_2_assists['name'])]) / len(cleaned_df['name'].unique())\n",
    "joint_probability"
   ]
  },
  {
   "cell_type": "markdown",
   "id": "d4b0c83f-2780-4350-96f1-8649c9ac0563",
   "metadata": {},
   "source": [
    "#interpretation\n",
    "Since the joint probability is 0.13(13%) This, means that two events cannot occur simultaneously."
   ]
  },
  {
   "cell_type": "code",
   "execution_count": 60,
   "id": "8f96427c-0c85-45c8-91af-bc04fcd7e748",
   "metadata": {},
   "outputs": [],
   "source": [
    "####Part 2: Data Sampling, Central Limit Theorem, and Normal Distribution####"
   ]
  },
  {
   "cell_type": "code",
   "execution_count": 61,
   "id": "5fee2cbc-14af-4866-ac94-20694c38cca6",
   "metadata": {},
   "outputs": [],
   "source": [
    "#Normal Distribution\n",
    "#Q6) Are player heights normally distributed?"
   ]
  },
  {
   "cell_type": "code",
   "execution_count": 62,
   "id": "a71b0ffb-23a2-4f56-97fc-82824802ffa4",
   "metadata": {},
   "outputs": [
    {
     "data": {
      "image/png": "[encoded data removed]",
      "text/plain": [
       "<Figure size 800x550 with 1 Axes>"
      ]
     },
     "metadata": {},
     "output_type": "display_data"
    }
   ],
   "source": [
    "sns.histplot(cleaned_df['height_in_cm'], kde=True, color='blue')\n",
    "plt.title('Distribution of Player Heights')\n",
    "plt.xlabel('Height in cm')\n",
    "plt.ylabel('Frequency')\n",
    "plt.show()"
   ]
  },
  {
   "cell_type": "markdown",
   "id": "35bc3a26-aad0-496b-af03-7adfb488b2ea",
   "metadata": {},
   "source": [
    "#Interpretation\n",
    "Based on the histogram and KDE, it appears that the majority of players in the dataset have heights between 185 and 190 cm, with a smaller number of players being taller or shorter. The left skew suggests that there are a few players who are significantly shorter than the average."
   ]
  },
  {
   "cell_type": "code",
   "execution_count": 63,
   "id": "193acf85-83ab-44d7-87d1-9b0e08c76570",
   "metadata": {},
   "outputs": [
    {
     "name": "stdout",
     "output_type": "stream",
     "text": [
      " mean of goals: 0.12\n",
      "Mean with sample size 10: 0.12\n",
      "Mean with sample size 30: 0.11\n"
     ]
    }
   ],
   "source": [
    "#Central Limit theorm with data sampling\n",
    "def sample_means(cleaned_df, sample_size, num_samples=100):\n",
    "    means = [np.mean(np.random.choice(cleaned_df['goals'], sample_size)) for i in range(num_samples)]\n",
    "    return means\n",
    "sample_size_10 = sample_means(cleaned_df, 10)\n",
    "sample_size_30 = sample_means(cleaned_df, 30)\n",
    "mean = np.mean(cleaned_df['goals'])\n",
    "\n",
    "print(f\" mean of goals: {mean:.2f}\")\n",
    "print(f\"Mean with sample size 10: {np.mean(sample_size_10):.2f}\")\n",
    "print(f\"Mean with sample size 30: {np.mean(sample_size_30):.2f}\")"
   ]
  },
  {
   "cell_type": "markdown",
   "id": "6faf8fb8-8624-4cb2-a27a-33cd41703dcb",
   "metadata": {},
   "source": [
    "#Interpretation\n",
    "As the sample size increases from 10 to 30, the sample means should become closer to the overall population mean. This is because the distribution of sample means approaches a normal distribution as the sample size grows larger"
   ]
  },
  {
   "cell_type": "code",
   "execution_count": 64,
   "id": "f8f7661a-21ee-4684-881e-d9de1e93ad5e",
   "metadata": {},
   "outputs": [],
   "source": [
    "#Part4 \n",
    "#Performance Analysis:\n",
    "#Q7  Can we predict if a player is a captain based on their performance?"
   ]
  },
  {
   "cell_type": "code",
   "execution_count": 65,
   "id": "a4924b28-e2d1-4d17-a0bb-61e61bff41f2",
   "metadata": {},
   "outputs": [
    {
     "data": {
      "text/plain": [
       "Index(['game_id', 'minute', 'player_in_id', 'season', 'home_club_goals',\n",
       "       'away_club_goals', 'home_club_position', 'away_club_position',\n",
       "       'attendance', 'yellow_cards', 'red_cards', 'goals', 'assists',\n",
       "       'minutes_played', 'number', 'player_id', 'last_season',\n",
       "       'current_club_id', 'height_in_cm', 'market_value_in_eur',\n",
       "       'highest_market_value_in_eur'],\n",
       "      dtype='object')"
      ]
     },
     "execution_count": 65,
     "metadata": {},
     "output_type": "execute_result"
    }
   ],
   "source": [
    "conti = cleaned_df.select_dtypes(include='number')\n",
    "conti.columns"
   ]
  },
  {
   "cell_type": "code",
   "execution_count": 66,
   "id": "095665cc-515d-4339-845d-90bfdefc41d2",
   "metadata": {},
   "outputs": [],
   "source": [
    "scaler = StandardScaler()"
   ]
  },
  {
   "cell_type": "code",
   "execution_count": 67,
   "id": "0139b74d-204f-4622-a048-1b8d8918c538",
   "metadata": {},
   "outputs": [
    {
     "name": "stdout",
     "output_type": "stream",
     "text": [
      "[ True False]\n"
     ]
    }
   ],
   "source": [
    "print(cleaned_df['team_captain'].unique())"
   ]
  },
  {
   "cell_type": "code",
   "execution_count": 68,
   "id": "2854d665-5eca-4281-95da-174056ac221a",
   "metadata": {},
   "outputs": [],
   "source": [
    "for c in conti:\n",
    "    cleaned_df[c] = scaler.fit_transform(cleaned_df[c].to_numpy().reshape(-1,1))"
   ]
  },
  {
   "cell_type": "code",
   "execution_count": 69,
   "id": "2ed76337-ba99-4ba1-85f5-1f61ad8a7767",
   "metadata": {},
   "outputs": [],
   "source": [
    "X_log = cleaned_df[['goals','assists','minutes_played']]"
   ]
  },
  {
   "cell_type": "code",
   "execution_count": 70,
   "id": "b39905b1-795d-4a91-a141-11a20aeda34f",
   "metadata": {},
   "outputs": [],
   "source": [
    "Y_log = cleaned_df[['team_captain']]"
   ]
  },
  {
   "cell_type": "code",
   "execution_count": 71,
   "id": "a240b318-860c-430a-8578-c2c2519e755c",
   "metadata": {},
   "outputs": [],
   "source": [
    "X_log_train, X_log_test, Y_log_train, Y_log_test = train_test_split(X_log, Y_log, test_size=0.2, random_state=42)"
   ]
  },
  {
   "cell_type": "code",
   "execution_count": 72,
   "id": "3b78cb28-3220-45a1-ade0-2fe488b32217",
   "metadata": {},
   "outputs": [
    {
     "name": "stdout",
     "output_type": "stream",
     "text": [
      "(3848, 3)\n",
      "(963, 3)\n",
      "(963, 1)\n",
      "(3848, 1)\n"
     ]
    }
   ],
   "source": [
    "print(X_log_train.shape)\n",
    "print(X_log_test.shape)\n",
    "print(Y_log_test.shape)\n",
    "print(Y_log_train.shape)"
   ]
  },
  {
   "cell_type": "code",
   "execution_count": 73,
   "id": "713e55b9-a7b6-47d6-893c-c6293dff55a2",
   "metadata": {},
   "outputs": [],
   "source": [
    "log_reg = LogisticRegression()"
   ]
  },
  {
   "cell_type": "code",
   "execution_count": 74,
   "id": "a1ffd833-42e6-4f48-9535-b9b095c5010c",
   "metadata": {},
   "outputs": [],
   "source": [
    "log_reg_model = log_reg.fit(X_log_train, Y_log_train)"
   ]
  },
  {
   "cell_type": "code",
   "execution_count": 75,
   "id": "1449f1a1-0024-40b8-b98b-1fe900781f83",
   "metadata": {},
   "outputs": [
    {
     "data": {
      "text/plain": [
       "0.954002079002079"
      ]
     },
     "execution_count": 75,
     "metadata": {},
     "output_type": "execute_result"
    }
   ],
   "source": [
    "log_reg.score(X_log_train, Y_log_train)"
   ]
  },
  {
   "cell_type": "code",
   "execution_count": 76,
   "id": "9162fdf4-1258-4eab-b89f-db6ce330557d",
   "metadata": {},
   "outputs": [],
   "source": [
    "y_log_pred = log_reg.predict(X_log_test)"
   ]
  },
  {
   "cell_type": "code",
   "execution_count": 77,
   "id": "7730468a-a3ae-49fb-9179-eaac9f0ab145",
   "metadata": {},
   "outputs": [
    {
     "name": "stdout",
     "output_type": "stream",
     "text": [
      "[[  0  57]\n",
      " [  0 906]]\n"
     ]
    }
   ],
   "source": [
    "\n",
    "print(confusion_matrix(Y_log_test, y_log_pred))"
   ]
  },
  {
   "cell_type": "code",
   "execution_count": 78,
   "id": "240672d8-01a1-4612-bf08-b0cb5a60b26e",
   "metadata": {},
   "outputs": [
    {
     "name": "stdout",
     "output_type": "stream",
     "text": [
      "0.9121175299900491\n"
     ]
    }
   ],
   "source": [
    "from sklearn.metrics import f1_score\n",
    "print(f1_score(Y_log_test, y_log_pred,average='weighted'))"
   ]
  },
  {
   "cell_type": "code",
   "execution_count": 79,
   "id": "e1cf0410-1eb8-45a6-a0fd-88b6dd7b6e04",
   "metadata": {},
   "outputs": [
    {
     "name": "stdout",
     "output_type": "stream",
     "text": [
      "0.940809968847352\n"
     ]
    }
   ],
   "source": [
    "\n",
    "print(accuracy_score(Y_log_test, y_log_pred))"
   ]
  },
  {
   "cell_type": "code",
   "execution_count": 80,
   "id": "22cca678-22d5-4f8d-abd6-cfc94f6c14ef",
   "metadata": {},
   "outputs": [
    {
     "name": "stdout",
     "output_type": "stream",
     "text": [
      "roc scroe is 0.7113686534216336\n"
     ]
    }
   ],
   "source": [
    "roc = roc_auc_score(Y_log_test, log_reg.predict_proba(X_log_test)[:,1])\n",
    "print(\"roc scroe is\", roc)"
   ]
  },
  {
   "cell_type": "code",
   "execution_count": 81,
   "id": "6459e4d7-3588-4fc0-af0f-1674a572668e",
   "metadata": {},
   "outputs": [],
   "source": [
    "from sklearn.metrics import recall_score\n",
    "from sklearn.metrics import precision_score"
   ]
  },
  {
   "cell_type": "code",
   "execution_count": 82,
   "id": "911e4c25-cb99-4612-831f-431018901f09",
   "metadata": {},
   "outputs": [
    {
     "name": "stdout",
     "output_type": "stream",
     "text": [
      "recall 0.940809968847352\n",
      "precision 0.8851233974825555\n"
     ]
    }
   ],
   "source": [
    "print(\"recall\", recall_score(Y_log_test, y_log_pred,average='weighted'))\n",
    "print(\"precision\", precision_score(Y_log_test, y_log_pred, average='weighted'))"
   ]
  },
  {
   "cell_type": "code",
   "execution_count": 83,
   "id": "26b1338c-6245-430b-a3bc-92c0629ece10",
   "metadata": {},
   "outputs": [
    {
     "data": {
      "image/png": "[encoded data removed]",
      "text/plain": [
       "<Figure size 800x550 with 1 Axes>"
      ]
     },
     "metadata": {},
     "output_type": "display_data"
    }
   ],
   "source": [
    "from sklearn.metrics import roc_curve, auc \n",
    "from sklearn.metrics import RocCurveDisplay\n",
    "import matplotlib.pyplot as plt\n",
    "y_prob = log_reg.predict_proba(X_log_test)[:, 1]\n",
    "fpr, tpr,_= roc_curve(Y_log_test, y_prob)\n",
    "roc_auc = auc(fpr, tpr)\n",
    "roc_display = RocCurveDisplay (fpr=fpr, tpr=tpr,roc_auc=roc_auc)\n",
    "roc_display.plot()\n",
    "plt.xlabel('False Positive Rate')\n",
    "plt.ylabel('True Positive Rate')\n",
    "plt.title(\"Receiver Operating Characteristic (ROC) Curve\")\n",
    "plt.legend(loc=\"lower right\")\n",
    "plt.show()"
   ]
  },
  {
   "cell_type": "markdown",
   "id": "72209ede-f0a7-43f1-ad02-ef8ba465b082",
   "metadata": {},
   "source": [
    "#Interpretation \n",
    "The AUC is calculated as 0.71. This indicates that the model's performance is moderately good. An AUC of 1.0 would represent a perfect model, while an AUC of 0.5 would indicate random guessing"
   ]
  },
  {
   "cell_type": "code",
   "execution_count": 84,
   "id": "225ee0fb-6272-4e2a-8a08-e2ced79520c2",
   "metadata": {},
   "outputs": [],
   "source": [
    "#Q8 Can we predict the player's position in a match based on their performance and match statistics?\n",
    "#Target Variable: position_y"
   ]
  },
  {
   "cell_type": "code",
   "execution_count": 85,
   "id": "86f382db-c668-417c-8ba0-779ad6e1171d",
   "metadata": {},
   "outputs": [],
   "source": [
    "X = cleaned_df[['minutes_played', 'goals', 'assists', 'home_club_goals', 'away_club_goals']]  "
   ]
  },
  {
   "cell_type": "code",
   "execution_count": 86,
   "id": "32562030-9263-467d-9b8b-fd160366dc7b",
   "metadata": {},
   "outputs": [],
   "source": [
    "Y = cleaned_df[['position_y']]"
   ]
  },
  {
   "cell_type": "code",
   "execution_count": 87,
   "id": "a3df6501-61eb-4ee2-a382-9026eb692e6a",
   "metadata": {},
   "outputs": [
    {
     "data": {
      "text/html": [
       "<div>\n",
       "<style scoped>\n",
       "    .dataframe tbody tr th:only-of-type {\n",
       "        vertical-align: middle;\n",
       "    }\n",
       "\n",
       "    .dataframe tbody tr th {\n",
       "        vertical-align: top;\n",
       "    }\n",
       "\n",
       "    .dataframe thead th {\n",
       "        text-align: right;\n",
       "    }\n",
       "</style>\n",
       "<table border=\"1\" class=\"dataframe\">\n",
       "  <thead>\n",
       "    <tr style=\"text-align: right;\">\n",
       "      <th></th>\n",
       "      <th>position_y</th>\n",
       "    </tr>\n",
       "  </thead>\n",
       "  <tbody>\n",
       "    <tr>\n",
       "      <th>0</th>\n",
       "      <td>Data is not available</td>\n",
       "    </tr>\n",
       "    <tr>\n",
       "      <th>1</th>\n",
       "      <td>Data is not available</td>\n",
       "    </tr>\n",
       "    <tr>\n",
       "      <th>2</th>\n",
       "      <td>Data is not available</td>\n",
       "    </tr>\n",
       "    <tr>\n",
       "      <th>3</th>\n",
       "      <td>Data is not available</td>\n",
       "    </tr>\n",
       "    <tr>\n",
       "      <th>4</th>\n",
       "      <td>Data is not available</td>\n",
       "    </tr>\n",
       "    <tr>\n",
       "      <th>...</th>\n",
       "      <td>...</td>\n",
       "    </tr>\n",
       "    <tr>\n",
       "      <th>4806</th>\n",
       "      <td>Midfield</td>\n",
       "    </tr>\n",
       "    <tr>\n",
       "      <th>4807</th>\n",
       "      <td>Midfield</td>\n",
       "    </tr>\n",
       "    <tr>\n",
       "      <th>4808</th>\n",
       "      <td>Midfield</td>\n",
       "    </tr>\n",
       "    <tr>\n",
       "      <th>4809</th>\n",
       "      <td>Attack</td>\n",
       "    </tr>\n",
       "    <tr>\n",
       "      <th>4810</th>\n",
       "      <td>Goalkeeper</td>\n",
       "    </tr>\n",
       "  </tbody>\n",
       "</table>\n",
       "<p>4811 rows × 1 columns</p>\n",
       "</div>"
      ],
      "text/plain": [
       "                 position_y\n",
       "0     Data is not available\n",
       "1     Data is not available\n",
       "2     Data is not available\n",
       "3     Data is not available\n",
       "4     Data is not available\n",
       "...                     ...\n",
       "4806               Midfield\n",
       "4807               Midfield\n",
       "4808               Midfield\n",
       "4809                 Attack\n",
       "4810             Goalkeeper\n",
       "\n",
       "[4811 rows x 1 columns]"
      ]
     },
     "execution_count": 87,
     "metadata": {},
     "output_type": "execute_result"
    }
   ],
   "source": [
    "Y"
   ]
  },
  {
   "cell_type": "code",
   "execution_count": 88,
   "id": "47b4a1cc-8691-4f33-b9af-019f4c0c9dc6",
   "metadata": {},
   "outputs": [],
   "source": [
    "X_train, X_test, Y_train, Y_test = train_test_split(X, Y, test_size=0.2, random_state=42)"
   ]
  },
  {
   "cell_type": "code",
   "execution_count": 89,
   "id": "a9d8dadd-b924-4951-be64-fa79cb19339f",
   "metadata": {},
   "outputs": [],
   "source": [
    "from sklearn import neighbors"
   ]
  },
  {
   "cell_type": "code",
   "execution_count": 90,
   "id": "4e76ac8d-0f79-446c-9afa-6be04f07bf18",
   "metadata": {},
   "outputs": [
    {
     "data": {
      "text/plain": [
       "(4811, 49)"
      ]
     },
     "execution_count": 90,
     "metadata": {},
     "output_type": "execute_result"
    }
   ],
   "source": [
    "cleaned_df.shape"
   ]
  },
  {
   "cell_type": "code",
   "execution_count": 91,
   "id": "3917d967-a501-462c-9775-ce7f9d34643b",
   "metadata": {},
   "outputs": [
    {
     "name": "stdout",
     "output_type": "stream",
     "text": [
      "if k is 45 performace is 90.75804776739356\n",
      "if k is 105 performace is 90.75804776739356\n",
      "if k is 165 performace is 90.75804776739356\n",
      "if k is 225 performace is 90.75804776739356\n",
      "if k is 285 performace is 90.75804776739356\n",
      "if k is 345 performace is 90.75804776739356\n",
      "if k is 405 performace is 90.75804776739356\n",
      "if k is 465 performace is 90.75804776739356\n",
      "if k is 525 performace is 90.75804776739356\n",
      "if k is 585 performace is 90.75804776739356\n",
      "if k is 645 performace is 90.75804776739356\n",
      "if k is 705 performace is 90.75804776739356\n",
      "if k is 765 performace is 90.75804776739356\n",
      "if k is 825 performace is 90.75804776739356\n",
      "if k is 885 performace is 90.75804776739356\n",
      "if k is 945 performace is 90.75804776739356\n",
      "if k is 1005 performace is 90.75804776739356\n",
      "if k is 1065 performace is 90.75804776739356\n",
      "if k is 1125 performace is 90.75804776739356\n",
      "if k is 1185 performace is 90.75804776739356\n",
      "if k is 1245 performace is 90.75804776739356\n",
      "if k is 1305 performace is 90.75804776739356\n",
      "if k is 1365 performace is 90.75804776739356\n",
      "if k is 1425 performace is 90.75804776739356\n",
      "if k is 1485 performace is 90.75804776739356\n",
      "if k is 1545 performace is 90.75804776739356\n",
      "if k is 1605 performace is 90.75804776739356\n",
      "if k is 1665 performace is 90.75804776739356\n",
      "if k is 1725 performace is 90.75804776739356\n",
      "if k is 1785 performace is 90.75804776739356\n",
      "if k is 1845 performace is 90.75804776739356\n",
      "if k is 1905 performace is 90.75804776739356\n",
      "if k is 1965 performace is 90.75804776739356\n",
      "if k is 2025 performace is 90.75804776739356\n",
      "if k is 2085 performace is 90.75804776739356\n",
      "if k is 2145 performace is 90.75804776739356\n",
      "if k is 2205 performace is 90.75804776739356\n",
      "if k is 2265 performace is 90.75804776739356\n",
      "if k is 2325 performace is 90.75804776739356\n",
      "if k is 2385 performace is 90.75804776739356\n",
      "if k is 2445 performace is 90.75804776739356\n",
      "if k is 2505 performace is 90.75804776739356\n",
      "if k is 2565 performace is 90.75804776739356\n",
      "if k is 2625 performace is 90.75804776739356\n",
      "if k is 2685 performace is 90.75804776739356\n",
      "if k is 2745 performace is 90.75804776739356\n",
      "if k is 2805 performace is 90.75804776739356\n",
      "if k is 2865 performace is 90.75804776739356\n",
      "if k is 2925 performace is 90.75804776739356\n",
      "if k is 2985 performace is 90.75804776739356\n",
      "if k is 3045 performace is 90.75804776739356\n",
      "if k is 3105 performace is 90.75804776739356\n",
      "if k is 3165 performace is 90.75804776739356\n",
      "if k is 3225 performace is 90.75804776739356\n",
      "if k is 3285 performace is 90.75804776739356\n",
      "if k is 3345 performace is 90.75804776739356\n",
      "if k is 3405 performace is 90.75804776739356\n",
      "if k is 3465 performace is 90.75804776739356\n",
      "if k is 3525 performace is 90.75804776739356\n",
      "if k is 3585 performace is 90.75804776739356\n",
      "if k is 3645 performace is 90.75804776739356\n"
     ]
    }
   ],
   "source": [
    "performance = []\n",
    "k_options = np.arange(45,3700,60)\n",
    "for which_k in k_options:\n",
    "    temp_model = neighbors.KNeighborsClassifier(which_k)\n",
    "    temp_model.fit(X_train, Y_train)\n",
    "    Y_pred = temp_model.predict(X_test)\n",
    "    print(\"if k is\", which_k, \"performace is\", accuracy_score(Y_test,Y_pred)*100)\n",
    "    performance.append( accuracy_score(Y_test,Y_pred)*100)"
   ]
  },
  {
   "cell_type": "code",
   "execution_count": 92,
   "id": "d8a757f1-5133-4bb4-afcd-8a01609d9887",
   "metadata": {},
   "outputs": [
    {
     "data": {
      "image/png": "[encoded data removed]",
      "text/plain": [
       "<Figure size 800x550 with 1 Axes>"
      ]
     },
     "metadata": {},
     "output_type": "display_data"
    }
   ],
   "source": [
    "plt.plot(k_options, performance);"
   ]
  },
  {
   "cell_type": "code",
   "execution_count": 93,
   "id": "6c8e5fb7-9697-45e4-938b-44447fa902f6",
   "metadata": {},
   "outputs": [
    {
     "name": "stdout",
     "output_type": "stream",
     "text": [
      "if k is 345 then performance is 90.75804776739356\n"
     ]
    }
   ],
   "source": [
    "final_model = neighbors.KNeighborsClassifier(345)\n",
    "final_model.fit(X_train, Y_train)\n",
    "y_pred = final_model.predict(X_test)\n",
    "print(\"if k is 345 then performance is\", accuracy_score(Y_test,y_pred)*100)"
   ]
  },
  {
   "cell_type": "code",
   "execution_count": 94,
   "id": "a7b60551-faa6-42e5-b176-503b91778106",
   "metadata": {},
   "outputs": [
    {
     "data": {
      "text/plain": [
       "array(['Attack', 'Data is not available', 'Defender', 'Goalkeeper',\n",
       "       'Midfield'], dtype=object)"
      ]
     },
     "execution_count": 94,
     "metadata": {},
     "output_type": "execute_result"
    }
   ],
   "source": [
    "final_model.classes_"
   ]
  },
  {
   "cell_type": "code",
   "execution_count": 95,
   "id": "36203655-f7ae-4b15-a5e9-68f6b9af7962",
   "metadata": {},
   "outputs": [
    {
     "data": {
      "text/plain": [
       "345"
      ]
     },
     "execution_count": 95,
     "metadata": {},
     "output_type": "execute_result"
    }
   ],
   "source": [
    "final_model.n_neighbors #Value of K"
   ]
  },
  {
   "cell_type": "markdown",
   "id": "106de510-17e2-4145-b667-9f55b42506bf",
   "metadata": {},
   "source": [
    "#Interpretation\n",
    "The model achieved an accuracy of 90.75%, indicating that it correctly classified 90.75% of the test samples. This is a relatively high accuracy score, suggesting that the model is performing well."
   ]
  },
  {
   "cell_type": "code",
   "execution_count": 96,
   "id": "85b8cfa4-ec07-4b79-883e-74734c195bc9",
   "metadata": {},
   "outputs": [
    {
     "data": {
      "text/plain": [
       "Index(['game_event_id', 'game_id', 'minute', 'type_x', 'player_in_id',\n",
       "       'competition_id_x', 'season', 'round', 'home_club_goals',\n",
       "       'away_club_goals', 'home_club_position', 'away_club_position',\n",
       "       'home_club_manager_name', 'away_club_manager_name', 'stadium',\n",
       "       'attendance', 'referee', 'home_club_name', 'away_club_name',\n",
       "       'aggregate', 'competition_type', 'appearance_id', 'date',\n",
       "       'player_name_x', 'yellow_cards', 'red_cards', 'goals', 'assists',\n",
       "       'minutes_played', 'game_lineups_id', 'type_y', 'number', 'player_id',\n",
       "       'team_captain', 'position_x', 'name', 'last_season', 'current_club_id',\n",
       "       'player_code', 'country_of_birth', 'date_of_birth', 'sub_position',\n",
       "       'position_y', 'foot', 'height_in_cm', 'market_value_in_eur',\n",
       "       'highest_market_value_in_eur', 'contract_expiration_date',\n",
       "       'agent_name'],\n",
       "      dtype='object')"
      ]
     },
     "execution_count": 96,
     "metadata": {},
     "output_type": "execute_result"
    }
   ],
   "source": [
    "cleaned_df.columns"
   ]
  },
  {
   "cell_type": "code",
   "execution_count": 97,
   "id": "103a8e77-8a91-4a0d-ae84-afe6895751fc",
   "metadata": {},
   "outputs": [],
   "source": [
    "#Player Profile and Market Value\n",
    "#Business Objective: Visualize the relationship between player profiles and their market values to identify trends and anomalies.\n",
    "\n",
    "#Descriptive Analysis\n",
    "#Q9 How does market value vary across different player positions?\n",
    "#Q10 What is the distribution of market values among players with different performance metrics (e.g., goals, assists)?\n",
    "#Q11How does a player's nationality impact their market value?"
   ]
  },
  {
   "cell_type": "code",
   "execution_count": 98,
   "id": "c300252e-c996-49ea-92f9-a4c00f49f9ae",
   "metadata": {},
   "outputs": [],
   "source": [
    "#Part 5 Player Profile and Market Value using Simple linear regression\n",
    "#Q12 Can we predict a player's market value based on highest market value in eur ?"
   ]
  },
  {
   "cell_type": "code",
   "execution_count": 99,
   "id": "cfd5fe2a-9bd3-439f-b354-6e91537466dc",
   "metadata": {},
   "outputs": [],
   "source": [
    "enc = LabelEncoder()"
   ]
  },
  {
   "cell_type": "code",
   "execution_count": 100,
   "id": "a13e35ca-0882-47aa-a47b-1b5a4aea17ed",
   "metadata": {},
   "outputs": [],
   "source": [
    "cleaned_df['type_y'] = enc.fit_transform(cleaned_df['type_y'])"
   ]
  },
  {
   "cell_type": "code",
   "execution_count": 101,
   "id": "15bf57e8-cab8-4bfd-b177-4ddc305bf5cb",
   "metadata": {},
   "outputs": [],
   "source": [
    "X_lin = cleaned_df[['type_y']] \n",
    "Y_lin = cleaned_df[['market_value_in_eur']] #Temp Model "
   ]
  },
  {
   "cell_type": "code",
   "execution_count": 102,
   "id": "cd889dea-78cc-45f2-8985-993dd61a1d39",
   "metadata": {},
   "outputs": [],
   "source": [
    "X_lin_train, X_lin_test, Y_lin_train, Y_lin_test = train_test_split(X_lin, Y_lin, test_size=0.2, random_state=42)"
   ]
  },
  {
   "cell_type": "code",
   "execution_count": 103,
   "id": "b7a26aa8-fb85-4c8a-9e98-cf5e71b4d560",
   "metadata": {},
   "outputs": [
    {
     "name": "stdout",
     "output_type": "stream",
     "text": [
      "(3848, 1)\n",
      "(963, 1)\n",
      "(3848, 1)\n",
      "(963, 1)\n"
     ]
    }
   ],
   "source": [
    "print(X_lin_train.shape)\n",
    "print(X_lin_test.shape)\n",
    "print(Y_lin_train.shape)\n",
    "print(Y_lin_test.shape)\n"
   ]
  },
  {
   "cell_type": "code",
   "execution_count": 104,
   "id": "d814377d-2457-46eb-9622-299dbe69d191",
   "metadata": {},
   "outputs": [],
   "source": [
    "lin_reg =LinearRegression() #temp model "
   ]
  },
  {
   "cell_type": "code",
   "execution_count": 105,
   "id": "80e7fd58-830c-449d-9566-f2efdb240ded",
   "metadata": {},
   "outputs": [],
   "source": [
    "lin_reg_model = lin_reg.fit(X_lin_train, Y_lin_train)"
   ]
  },
  {
   "cell_type": "code",
   "execution_count": 106,
   "id": "ffef56e8-dd5f-416b-b9df-8008d0137149",
   "metadata": {},
   "outputs": [
    {
     "data": {
      "text/plain": [
       "0.2684018387682299"
      ]
     },
     "execution_count": 106,
     "metadata": {},
     "output_type": "execute_result"
    }
   ],
   "source": [
    "lin_reg_model.score(X_lin_train, Y_lin_train)"
   ]
  },
  {
   "cell_type": "code",
   "execution_count": 107,
   "id": "9aff1f35-c279-4464-8198-8783973bb523",
   "metadata": {},
   "outputs": [],
   "source": [
    "Y_lin_pred = lin_reg_model.predict(X_lin_test)"
   ]
  },
  {
   "cell_type": "code",
   "execution_count": 108,
   "id": "ce0c26f1-9751-4d90-a9a5-c69bb7a8c438",
   "metadata": {},
   "outputs": [
    {
     "name": "stdout",
     "output_type": "stream",
     "text": [
      "-4.582257110106805\n"
     ]
    }
   ],
   "source": [
    "print(lin_reg_model.score(Y_lin_test.to_numpy().reshape(-1,1),Y_lin_pred))"
   ]
  },
  {
   "cell_type": "code",
   "execution_count": 109,
   "id": "ae4f8d74-aa54-48ac-9555-af370adb266e",
   "metadata": {},
   "outputs": [
    {
     "name": "stdout",
     "output_type": "stream",
     "text": [
      "0.0035238255034518717\n"
     ]
    }
   ],
   "source": [
    "r1_2 = r2_score(Y_lin_test, Y_lin_pred)\n",
    "print(r1_2)"
   ]
  },
  {
   "cell_type": "markdown",
   "id": "bad3a726-eecf-4d2b-8d9b-1779d0dc25b0",
   "metadata": {},
   "source": [
    "#Interpretation\n",
    "The R-squared scores suggest that the linear regression model is performing reasonably well. \n",
    "R2 score = 80.69% and training performance is 85.56%"
   ]
  },
  {
   "cell_type": "code",
   "execution_count": 110,
   "id": "d8192fab-7f0e-46a5-a6b9-cb2743baa9d4",
   "metadata": {},
   "outputs": [],
   "source": [
    "#Q13 Predict a Player's Market Value Based on if the player is team captain or not "
   ]
  },
  {
   "cell_type": "code",
   "execution_count": 111,
   "id": "bd5b7e7e-46c2-4b2c-9fae-6e046d6c182e",
   "metadata": {},
   "outputs": [
    {
     "data": {
      "text/plain": [
       "Index(['game_event_id', 'game_id', 'minute', 'type_x', 'player_in_id',\n",
       "       'competition_id_x', 'season', 'round', 'home_club_goals',\n",
       "       'away_club_goals', 'home_club_position', 'away_club_position',\n",
       "       'home_club_manager_name', 'away_club_manager_name', 'stadium',\n",
       "       'attendance', 'referee', 'home_club_name', 'away_club_name',\n",
       "       'aggregate', 'competition_type', 'appearance_id', 'date',\n",
       "       'player_name_x', 'yellow_cards', 'red_cards', 'goals', 'assists',\n",
       "       'minutes_played', 'game_lineups_id', 'type_y', 'number', 'player_id',\n",
       "       'team_captain', 'position_x', 'name', 'last_season', 'current_club_id',\n",
       "       'player_code', 'country_of_birth', 'date_of_birth', 'sub_position',\n",
       "       'position_y', 'foot', 'height_in_cm', 'market_value_in_eur',\n",
       "       'highest_market_value_in_eur', 'contract_expiration_date',\n",
       "       'agent_name'],\n",
       "      dtype='object')"
      ]
     },
     "execution_count": 111,
     "metadata": {},
     "output_type": "execute_result"
    }
   ],
   "source": [
    "cleaned_df.columns"
   ]
  },
  {
   "cell_type": "code",
   "execution_count": 112,
   "id": "071b9ae2-cc01-4e8a-b180-b10023e8bfee",
   "metadata": {},
   "outputs": [],
   "source": [
    "conti_cor = cleaned_df.select_dtypes(include='number')"
   ]
  },
  {
   "cell_type": "code",
   "execution_count": 113,
   "id": "16391a70-de8f-4436-9136-2b21c8c69e98",
   "metadata": {
    "scrolled": true
   },
   "outputs": [
    {
     "data": {
      "text/plain": [
       "game_id                        0.298854\n",
       "minute                        -0.006478\n",
       "player_in_id                   0.142633\n",
       "season                        -0.018684\n",
       "home_club_goals               -0.054051\n",
       "away_club_goals               -0.030177\n",
       "home_club_position            -0.005888\n",
       "away_club_position             0.008716\n",
       "attendance                    -0.015172\n",
       "yellow_cards                  -0.045046\n",
       "red_cards                     -0.006665\n",
       "goals                         -0.038856\n",
       "assists                       -0.032517\n",
       "minutes_played                 0.073486\n",
       "type_y                         0.479827\n",
       "number                        -0.024626\n",
       "player_id                      0.136632\n",
       "last_season                    0.049932\n",
       "current_club_id               -0.085426\n",
       "height_in_cm                  -0.081937\n",
       "market_value_in_eur            1.000000\n",
       "highest_market_value_in_eur    0.920964\n",
       "Name: market_value_in_eur, dtype: float64"
      ]
     },
     "execution_count": 113,
     "metadata": {},
     "output_type": "execute_result"
    }
   ],
   "source": [
    "conti_cor.corr()['market_value_in_eur']"
   ]
  },
  {
   "cell_type": "code",
   "execution_count": 114,
   "id": "66ba41e7-731e-480f-a0e3-7ca0cd7afbb8",
   "metadata": {},
   "outputs": [
    {
     "data": {
      "text/plain": [
       "Index(['game_event_id', 'type_x', 'competition_id_x', 'round',\n",
       "       'home_club_manager_name', 'away_club_manager_name', 'stadium',\n",
       "       'referee', 'home_club_name', 'away_club_name', 'aggregate',\n",
       "       'competition_type', 'appearance_id', 'date', 'player_name_x',\n",
       "       'game_lineups_id', 'team_captain', 'position_x', 'name', 'player_code',\n",
       "       'country_of_birth', 'date_of_birth', 'sub_position', 'position_y',\n",
       "       'foot', 'contract_expiration_date', 'agent_name'],\n",
       "      dtype='object')"
      ]
     },
     "execution_count": 114,
     "metadata": {},
     "output_type": "execute_result"
    }
   ],
   "source": [
    "categ = cleaned_df.select_dtypes(exclude='number')\n",
    "categ.columns"
   ]
  },
  {
   "cell_type": "code",
   "execution_count": 115,
   "id": "83dbef3c-2890-4aa1-81b8-8c49b2d070e3",
   "metadata": {},
   "outputs": [],
   "source": [
    "enc = LabelEncoder()"
   ]
  },
  {
   "cell_type": "code",
   "execution_count": 116,
   "id": "ace423f9-01e5-4e93-b147-149f7dec9159",
   "metadata": {},
   "outputs": [],
   "source": [
    "XX = cleaned_df[['team_captain']]\n",
    "YY = cleaned_df[['market_value_in_eur']]  "
   ]
  },
  {
   "cell_type": "code",
   "execution_count": 117,
   "id": "64a26293-cdc6-4ee7-a660-70813de3718c",
   "metadata": {},
   "outputs": [],
   "source": [
    "XX_train, XX_test, YY_train, YY_test = train_test_split(XX, YY, test_size=0.2, random_state=42)"
   ]
  },
  {
   "cell_type": "code",
   "execution_count": 118,
   "id": "f8327de7-d3f7-4528-9af0-cf2dedfcda6a",
   "metadata": {},
   "outputs": [],
   "source": [
    "lin_reg_model1 = lin_reg.fit(XX_train, YY_train)"
   ]
  },
  {
   "cell_type": "code",
   "execution_count": 119,
   "id": "1fb1607e-f525-43cb-b8b0-8d4b4eab99ab",
   "metadata": {},
   "outputs": [
    {
     "data": {
      "text/plain": [
       "0.355048597208953"
      ]
     },
     "execution_count": 119,
     "metadata": {},
     "output_type": "execute_result"
    }
   ],
   "source": [
    "lin_reg_model1.score(XX_train, YY_train)"
   ]
  },
  {
   "cell_type": "code",
   "execution_count": 120,
   "id": "f2774b97-70c8-47f9-a815-65daea875465",
   "metadata": {},
   "outputs": [],
   "source": [
    "yy_pred = lin_reg.predict(XX_test)"
   ]
  },
  {
   "cell_type": "code",
   "execution_count": 121,
   "id": "ca583b42-7230-4aa0-9e07-bb8d00e1436d",
   "metadata": {},
   "outputs": [
    {
     "name": "stdout",
     "output_type": "stream",
     "text": [
      "0.11173176773922378\n"
     ]
    }
   ],
   "source": [
    "r2 = r2_score(YY_test, yy_pred)\n",
    "print(r2)"
   ]
  },
  {
   "cell_type": "code",
   "execution_count": 122,
   "id": "18b224db-d2e8-41a2-a41c-e15a6e688501",
   "metadata": {},
   "outputs": [],
   "source": [
    "#Q14 Can we predict a player's market value based on their performance metrics (goals, assists, goals, minutes played) and market history (highest market value)?"
   ]
  },
  {
   "cell_type": "code",
   "execution_count": 123,
   "id": "7908231d-55b2-4ef0-a2a4-642fc50bf8b8",
   "metadata": {},
   "outputs": [],
   "source": [
    "data = cleaned_df[['goals', 'minutes_played','assists','highest_market_value_in_eur','market_value_in_eur','home_club_goals','yellow_cards','red_cards']]"
   ]
  },
  {
   "cell_type": "code",
   "execution_count": 124,
   "id": "b8bf9440-6867-4d7b-aec1-68d01f0e0bb9",
   "metadata": {},
   "outputs": [
    {
     "data": {
      "image/png": "[encoded data removed]",
      "text/plain": [
       "<Figure size 1000x600 with 2 Axes>"
      ]
     },
     "metadata": {},
     "output_type": "display_data"
    }
   ],
   "source": [
    "correlation_matrix = data.corr()\n",
    "plt.figure(figsize=(10, 6))\n",
    "sns.heatmap(correlation_matrix, annot=True, cmap='coolwarm')\n",
    "plt.title(\"Correlation Matrix\")\n",
    "plt.show()"
   ]
  },
  {
   "cell_type": "code",
   "execution_count": 125,
   "id": "0e3db34d-8239-480c-a623-dba1c73ca92d",
   "metadata": {},
   "outputs": [],
   "source": [
    "X_multi = data.drop('market_value_in_eur', axis=1) #dropping the target column for vif"
   ]
  },
  {
   "cell_type": "code",
   "execution_count": 126,
   "id": "8da37679-2286-479d-a9c1-94e37102cbc6",
   "metadata": {},
   "outputs": [],
   "source": [
    "def cal_vif(X_multi):\n",
    "    vif = pd.Series(name=\"VIF\")\n",
    "    for i in range(0, X_multi.shape[1]):\n",
    "        vif[X_multi.columns[i]] = variance_inflation_factor(X_multi.values, i)\n",
    "    return vif\n",
    "vif_values = cal_vif(X_multi)"
   ]
  },
  {
   "cell_type": "code",
   "execution_count": 127,
   "id": "e5def3f3-6403-4e0c-8b64-e24020f87ea3",
   "metadata": {},
   "outputs": [
    {
     "name": "stdout",
     "output_type": "stream",
     "text": [
      "goals                          1.048001\n",
      "minutes_played                 1.013839\n",
      "assists                        1.029080\n",
      "highest_market_value_in_eur    1.009590\n",
      "home_club_goals                1.053673\n",
      "yellow_cards                   1.007125\n",
      "red_cards                      1.002228\n",
      "Name: VIF, dtype: float64\n"
     ]
    }
   ],
   "source": [
    "print(vif_values)"
   ]
  },
  {
   "cell_type": "code",
   "execution_count": 128,
   "id": "7a6d2e15-416b-4012-9c97-60ce1ef7c8c9",
   "metadata": {},
   "outputs": [],
   "source": [
    "#no columns have been dropped after vif as they are under 10 "
   ]
  },
  {
   "cell_type": "code",
   "execution_count": 129,
   "id": "c74a018e-2ff8-4f70-93a2-58859344c0f6",
   "metadata": {},
   "outputs": [],
   "source": [
    "selected_features = ['goals','minutes_played','assists','highest_market_value_in_eur','home_club_goals','yellow_cards','red_cards']"
   ]
  },
  {
   "cell_type": "code",
   "execution_count": 130,
   "id": "93209a19-7a79-48c2-ac8e-b7880226f0a5",
   "metadata": {},
   "outputs": [],
   "source": [
    "X_feature = cleaned_df[selected_features]"
   ]
  },
  {
   "cell_type": "code",
   "execution_count": 131,
   "id": "a6c432e5-97ba-4142-ad33-80ec72208f77",
   "metadata": {},
   "outputs": [],
   "source": [
    "Y_feature = cleaned_df[['market_value_in_eur']]"
   ]
  },
  {
   "cell_type": "code",
   "execution_count": 132,
   "id": "87d93813-993a-47d5-8492-b68d4d53a443",
   "metadata": {},
   "outputs": [],
   "source": [
    "X_feature_train, X_feature_test, Y_feature_train, Y_feature_test = train_test_split(X_feature, Y_feature, train_size=0.70, random_state=42)"
   ]
  },
  {
   "cell_type": "code",
   "execution_count": 133,
   "id": "b629df6d-aa37-42f8-990e-a113d91655d7",
   "metadata": {},
   "outputs": [
    {
     "name": "stdout",
     "output_type": "stream",
     "text": [
      "(3367, 7)\n",
      "(1444, 7)\n",
      "(1444, 1)\n",
      "(3367, 1)\n"
     ]
    }
   ],
   "source": [
    "print(X_feature_train.shape)\n",
    "print(X_feature_test.shape)\n",
    "print(Y_feature_test.shape)\n",
    "print(Y_feature_train.shape)"
   ]
  },
  {
   "cell_type": "code",
   "execution_count": 134,
   "id": "cc3e5154-9e56-4889-8326-02cde0d51ec2",
   "metadata": {},
   "outputs": [],
   "source": [
    "Lin_reg_model_two = lin_reg.fit(X_feature_train.values, Y_feature_train.values)"
   ]
  },
  {
   "cell_type": "code",
   "execution_count": 135,
   "id": "5793284f-b081-401c-b767-36d1b26bb672",
   "metadata": {},
   "outputs": [
    {
     "name": "stdout",
     "output_type": "stream",
     "text": [
      "0.8529820355826553\n"
     ]
    }
   ],
   "source": [
    "print(Lin_reg_model_two.score(X_feature_train.values, Y_feature_train.values))"
   ]
  },
  {
   "cell_type": "code",
   "execution_count": 136,
   "id": "190c5a9c-2524-44e7-b31f-db858a35181e",
   "metadata": {},
   "outputs": [],
   "source": [
    "Y_feature_pred = Lin_reg_model_two.predict(X_feature_test.values)"
   ]
  },
  {
   "cell_type": "code",
   "execution_count": 137,
   "id": "f12c6952-26b7-4cd8-8859-b2dd5c134e39",
   "metadata": {},
   "outputs": [
    {
     "name": "stdout",
     "output_type": "stream",
     "text": [
      "MSE 0.15215393852622935\n",
      "RMSE= 0.3900691458270307\n",
      "MAE = 0.10588814214223556\n",
      "R2 = 0.8348171198328725\n"
     ]
    }
   ],
   "source": [
    "mse = mean_squared_error(Y_feature_test,Y_feature_pred)\n",
    "print(\"MSE\",mse)\n",
    "mse = mean_squared_error(Y_feature_pred, Y_feature_test, squared=False)\n",
    "print(\"RMSE=\",mse)\n",
    "\n",
    "print(\"MAE =\",  mean_absolute_error(Y_feature_test,Y_feature_pred))\n",
    "\n",
    "r_squared = r2_score(Y_feature_test, Y_feature_pred)\n",
    "print(\"R2 =\", r_squared) "
   ]
  },
  {
   "cell_type": "code",
   "execution_count": 138,
   "id": "8a8f24f4-c96a-495d-9808-be7349861528",
   "metadata": {},
   "outputs": [],
   "source": [
    "#Interpretation\n",
    "#Since the training performance is 85.29% and R2 score is 83.48%. This tells us that the model is reliable ."
   ]
  },
  {
   "cell_type": "code",
   "execution_count": 139,
   "id": "11df2a8f-a1eb-4d38-8b74-746cf17d3c66",
   "metadata": {},
   "outputs": [],
   "source": [
    "#Part 6\n",
    "#Team Comparison\n",
    "#Business Objective: Compare and visualize team performance across various metrics to identify strengths, weaknesses, and areas for improvement.\n",
    "\n",
    "\n",
    "#Q15What is the away club team performance for different season?\n",
    "#Q16 What is the comparative analysis of offensive and defensive metrics among top 5home club  teams?\n",
    "#offensive metrics = home club goalss\n",
    "#defensive metrics = yellow cards + red card"
   ]
  },
  {
   "cell_type": "markdown",
   "id": "a5e9ee78-5136-435f-8a3d-cb25735331c1",
   "metadata": {},
   "source": [
    "#Excel Q Is there a significant difference in the  goals scored by teams at home vs. away club?"
   ]
  },
  {
   "cell_type": "code",
   "execution_count": 140,
   "id": "162bfe0f-6470-45e8-ad84-b1dbd934ba73",
   "metadata": {},
   "outputs": [],
   "source": [
    "#Part7\n",
    "#Attendance and Stadium Analysis\n",
    "#Business Objective: Visualize attendance trends and stadium utilization to optimize fan engagement and stadium operations.\n",
    "\n",
    "#Q17 What are the attendance trends for top 10 home club name#\n",
    "#Q18 How does attendance fluctuate from the beginning to the end of the season"
   ]
  },
  {
   "cell_type": "markdown",
   "id": "9114a662-e137-4dc5-a3b4-485f6bd6fbcc",
   "metadata": {},
   "source": [
    "#KNN\n",
    "Q Can we predict the type of competition for home and away club while considering their attendance performance"
   ]
  },
  {
   "cell_type": "code",
   "execution_count": 141,
   "id": "e01f0280-1414-45f3-9f3d-69148f437a02",
   "metadata": {},
   "outputs": [],
   "source": [
    "enc = LabelEncoder()"
   ]
  },
  {
   "cell_type": "code",
   "execution_count": 142,
   "id": "c901640f-637b-44e4-81e8-61db36a3739a",
   "metadata": {},
   "outputs": [],
   "source": [
    "cleaned_df['home_club_name'] = enc.fit_transform(cleaned_df['home_club_name'])\n",
    "cleaned_df['away_club_name'] = enc.fit_transform(cleaned_df['away_club_name'])\n",
    "cleaned_df['season'] = enc.fit_transform(cleaned_df['season'])\n",
    "cleaned_df['stadium'] = enc.fit_transform(cleaned_df['stadium'])\n",
    "cleaned_df['referee'] = enc.fit_transform(cleaned_df['referee'])"
   ]
  },
  {
   "cell_type": "code",
   "execution_count": 143,
   "id": "07c9c13a-76a6-468d-9b4e-4bc6257d74de",
   "metadata": {},
   "outputs": [],
   "source": [
    "X_k = cleaned_df[['home_club_name', 'away_club_name','season','attendance','referee','home_club_goals','away_club_goals','stadium']]\n",
    "Y_k = cleaned_df[['competition_type']]"
   ]
  },
  {
   "cell_type": "code",
   "execution_count": 144,
   "id": "11eec4c5-3896-4a31-9fe9-5151980b2ad3",
   "metadata": {},
   "outputs": [],
   "source": [
    "X_k_train, X_k_test, Y_k_train, Y_k_test = train_test_split(X_k, Y_k, test_size=0.2, random_state=42)"
   ]
  },
  {
   "cell_type": "code",
   "execution_count": 145,
   "id": "3f97e0f1-d279-4f88-bcbf-6cb5de6ca2a6",
   "metadata": {},
   "outputs": [
    {
     "name": "stdout",
     "output_type": "stream",
     "text": [
      "(3848, 8)\n",
      "(963, 8)\n",
      "(3848, 1)\n",
      "(963, 1)\n"
     ]
    }
   ],
   "source": [
    "print(X_k_train.shape)\n",
    "print(X_k_test.shape)\n",
    "print(Y_k_train.shape)\n",
    "print(Y_k_test.shape)"
   ]
  },
  {
   "cell_type": "code",
   "execution_count": 146,
   "id": "8f13c7d4-c42a-4a37-8525-7d27ad7b4eea",
   "metadata": {},
   "outputs": [
    {
     "name": "stdout",
     "output_type": "stream",
     "text": [
      "if k is 45 performace is 88.05815160955348\n",
      "if k is 105 performace is 86.6043613707165\n",
      "if k is 165 performace is 85.35825545171339\n",
      "if k is 225 performace is 84.73520249221184\n",
      "if k is 285 performace is 84.52751817237798\n",
      "if k is 345 performace is 84.11214953271028\n",
      "if k is 405 performace is 83.28141225337488\n",
      "if k is 465 performace is 83.07372793354102\n",
      "if k is 525 performace is 82.2429906542056\n",
      "if k is 585 performace is 82.13914849428868\n",
      "if k is 645 performace is 81.20456905503634\n",
      "if k is 705 performace is 80.26998961578401\n",
      "if k is 765 performace is 78.92004153686398\n",
      "if k is 825 performace is 78.29698857736241\n",
      "if k is 885 performace is 77.77777777777779\n",
      "if k is 945 performace is 76.94704049844236\n",
      "if k is 1005 performace is 76.73935617860852\n",
      "if k is 1065 performace is 76.42782969885774\n",
      "if k is 1125 performace is 75.80477673935619\n",
      "if k is 1185 performace is 75.28556593977154\n",
      "if k is 1245 performace is 74.66251298027\n",
      "if k is 1305 performace is 74.35098650051921\n",
      "if k is 1365 performace is 74.14330218068535\n",
      "if k is 1425 performace is 73.83177570093457\n",
      "if k is 1485 performace is 73.1048805815161\n",
      "if k is 1545 performace is 72.37798546209761\n",
      "if k is 1605 performace is 70.82035306334372\n",
      "if k is 1665 performace is 70.40498442367601\n",
      "if k is 1725 performace is 63.862928348909655\n",
      "if k is 1785 performace is 65.00519210799584\n",
      "if k is 1845 performace is 65.00519210799584\n",
      "if k is 1905 performace is 65.00519210799584\n",
      "if k is 1965 performace is 65.00519210799584\n",
      "if k is 2025 performace is 65.00519210799584\n",
      "if k is 2085 performace is 65.00519210799584\n",
      "if k is 2145 performace is 65.00519210799584\n",
      "if k is 2205 performace is 65.00519210799584\n",
      "if k is 2265 performace is 65.00519210799584\n",
      "if k is 2325 performace is 65.00519210799584\n",
      "if k is 2385 performace is 65.00519210799584\n",
      "if k is 2445 performace is 65.00519210799584\n",
      "if k is 2505 performace is 65.00519210799584\n",
      "if k is 2565 performace is 65.00519210799584\n",
      "if k is 2625 performace is 65.00519210799584\n",
      "if k is 2685 performace is 65.00519210799584\n",
      "if k is 2745 performace is 65.00519210799584\n",
      "if k is 2805 performace is 65.00519210799584\n",
      "if k is 2865 performace is 65.00519210799584\n",
      "if k is 2925 performace is 65.00519210799584\n",
      "if k is 2985 performace is 65.00519210799584\n",
      "if k is 3045 performace is 65.00519210799584\n",
      "if k is 3105 performace is 65.00519210799584\n",
      "if k is 3165 performace is 65.00519210799584\n",
      "if k is 3225 performace is 65.00519210799584\n",
      "if k is 3285 performace is 65.00519210799584\n",
      "if k is 3345 performace is 65.00519210799584\n",
      "if k is 3405 performace is 65.00519210799584\n",
      "if k is 3465 performace is 65.00519210799584\n",
      "if k is 3525 performace is 65.00519210799584\n",
      "if k is 3585 performace is 65.00519210799584\n",
      "if k is 3645 performace is 65.00519210799584\n"
     ]
    }
   ],
   "source": [
    "performance1 = []\n",
    "k_options1 = np.arange(45,3700,60)\n",
    "for which_k1 in k_options1:\n",
    "    temp_model1 = neighbors.KNeighborsClassifier(which_k1)\n",
    "    temp_model1.fit(X_k_train, Y_k_train)\n",
    "    Y_k_pred = temp_model1.predict(X_k_test)\n",
    "    print(\"if k is\", which_k1, \"performace is\", accuracy_score(Y_k_test,Y_k_pred)*100)\n",
    "    performance1.append( accuracy_score(Y_k_test,Y_k_pred)*100)"
   ]
  },
  {
   "cell_type": "code",
   "execution_count": 147,
   "id": "1cc26557-3bba-42e7-8661-be588fea0d8b",
   "metadata": {},
   "outputs": [
    {
     "data": {
      "image/png": "[encoded data removed]",
      "text/plain": [
       "<Figure size 800x550 with 1 Axes>"
      ]
     },
     "metadata": {},
     "output_type": "display_data"
    }
   ],
   "source": [
    "plt.plot(k_options1, performance1);"
   ]
  },
  {
   "cell_type": "code",
   "execution_count": 148,
   "id": "0ca3082b-337d-459c-bcdc-e374dfaf7ead",
   "metadata": {},
   "outputs": [
    {
     "name": "stdout",
     "output_type": "stream",
     "text": [
      "if k is 45 then performance is 88.05815160955348\n"
     ]
    }
   ],
   "source": [
    "final_model1 = neighbors.KNeighborsClassifier(45)\n",
    "final_model1.fit(X_k_train, Y_k_train)\n",
    "y_kk_pred = final_model1.predict(X_k_test)\n",
    "print(\"if k is 45 then performance is\", accuracy_score(Y_k_test,y_kk_pred)*100)"
   ]
  },
  {
   "cell_type": "code",
   "execution_count": 149,
   "id": "af53fd5c-f687-4879-9d92-879db03ca958",
   "metadata": {},
   "outputs": [
    {
     "data": {
      "text/plain": [
       "45"
      ]
     },
     "execution_count": 149,
     "metadata": {},
     "output_type": "execute_result"
    }
   ],
   "source": [
    "final_model1.n_neighbors #Value of K"
   ]
  },
  {
   "cell_type": "markdown",
   "id": "d7481dda-56b5-4625-aa95-cd48eedbf853",
   "metadata": {},
   "source": [
    "#Interpretation\n",
    "The model achieved an accuracy of 88.05%, indicating that it correctly classified 88.05% of the test samples. This is a relatively high accuracy score, suggesting that the model is performing well."
   ]
  },
  {
   "cell_type": "code",
   "execution_count": 150,
   "id": "0fe10379-ab0c-4c48-8643-6ab743bd6264",
   "metadata": {},
   "outputs": [],
   "source": [
    "#Part 8\n",
    "#Referee Analysis(A)\n",
    "#Business Objective: Analyze and visualize referee decisions and their impact on match outcomes to ensure fairness and consistency.\r\n",
    "#Q19 What is the distribution of yellow and red cards given by different referees over the season?#Q\n",
    "#Q20 Average fouls received by home and away clubs\n",
    "\n",
    "#Substitution Patterns(B)\n",
    "\n",
    "#Business Objective: Visualize substitution patterns and their impact on match outcomes to optimize in-game strategies.)\n",
    "#Q21 What are the minutes played by the subsituted players?\n",
    "#Q22 What are the top 10 teams in away club who make the most substitutions?\n",
    "\n",
    "#Event Analysis(C)\n",
    "\n",
    "#Business Objective: Analyze and visualize key match events (e.g., goals, fouls, corners) to identify patterns and strategic insights \n",
    "#Q23 4What is the distribution of match events (e.g., goals, cards) across different away club teams\n",
    "#Q24 What is the proportion of goals scored by different players within FC Koin from away club?"
   ]
  },
  {
   "cell_type": "code",
   "execution_count": 151,
   "id": "4d81b3f6-5fb6-4ba7-b99d-6bba719c5b28",
   "metadata": {},
   "outputs": [],
   "source": [
    "#Part 9\n",
    "#Competition Analysis\n",
    "#Business Objective: Visualize competition-level metrics to assess team and player performance in different competitions.\n",
    "\n",
    "#Q25 What is the distribution of goals and assists in different competitions?\n",
    "#Q26 How do team performances vary across different competitions?"
   ]
  },
  {
   "cell_type": "code",
   "execution_count": 152,
   "id": "fa35d023-6148-4582-a48c-2a00b9d6bda9",
   "metadata": {},
   "outputs": [],
   "source": [
    "#Part 10\n",
    "#Player Attributes and Demographics\n",
    "#Business Objective: Visualize player attributes and demographics to identify trends and insights for talent management.\n",
    "\n",
    "#Q27 How do physical attributes such as height vary across different player positions?\n",
    "#Q28 Which nationalities are most represented among players?\n",
    "#Contract Managemet:\n",
    "#Business Objective: Analyze and visualize player contracts to optimize contract negotiations and financial planning.\n",
    "#Q29 To analyze the contract expiration date accross different positions.\n",
    "#Q30 To analyze the player’s average market value w.r.t to their contract expiry date."
   ]
  },
  {
   "cell_type": "code",
   "execution_count": 153,
   "id": "fa2dcee2-f6bc-4c9a-ad35-98c0499e9c4e",
   "metadata": {},
   "outputs": [],
   "source": [
    "#Player Attributes and Demographics"
   ]
  },
  {
   "cell_type": "code",
   "execution_count": 154,
   "id": "23b4271e-534d-4060-bf24-95be6e7672ca",
   "metadata": {},
   "outputs": [],
   "source": [
    "#QSegmenting Players Based on Market Value and Height"
   ]
  },
  {
   "cell_type": "code",
   "execution_count": 155,
   "id": "658380c7-5aea-4574-95dc-489b711635bc",
   "metadata": {},
   "outputs": [
    {
     "data": {
      "text/plain": [
       "(4811, 49)"
      ]
     },
     "execution_count": 155,
     "metadata": {},
     "output_type": "execute_result"
    }
   ],
   "source": [
    "cleaned_df.shape"
   ]
  },
  {
   "cell_type": "code",
   "execution_count": 156,
   "id": "50bfb495-3d7f-4a7a-94e7-91841857dce3",
   "metadata": {},
   "outputs": [],
   "source": [
    "means_df = cleaned_df.copy()"
   ]
  },
  {
   "cell_type": "code",
   "execution_count": 157,
   "id": "7f91cbc4-3881-4137-9386-2a9c02a1b0c7",
   "metadata": {},
   "outputs": [],
   "source": [
    "means_df = cleaned_df.drop(['game_event_id', 'game_id', 'minute', 'type_x', 'player_in_id',\n",
    "       'competition_id_x', 'season', 'round', 'home_club_goals',\n",
    "       'away_club_goals', 'home_club_position', 'away_club_position',\n",
    "       'home_club_manager_name', 'away_club_manager_name', 'stadium',\n",
    "       'attendance', 'referee', 'home_club_name', 'away_club_name',\n",
    "       'aggregate', 'competition_type', 'appearance_id', 'date',\n",
    "       'player_name_x', 'yellow_cards', 'red_cards', 'goals', 'assists',\n",
    "       'minutes_played', 'game_lineups_id', 'type_y', 'number', 'player_id',\n",
    "       'team_captain', 'position_x', 'name', 'last_season', 'current_club_id',\n",
    "       'player_code', 'country_of_birth', 'date_of_birth', 'sub_position',\n",
    "       'position_y', 'foot', \n",
    "       'highest_market_value_in_eur', 'contract_expiration_date',\n",
    "       'agent_name'],axis=1)"
   ]
  },
  {
   "cell_type": "code",
   "execution_count": 158,
   "id": "7285bc8b-9726-40eb-8d18-02d83095b34a",
   "metadata": {},
   "outputs": [
    {
     "name": "stdout",
     "output_type": "stream",
     "text": [
      "For n_clusters = 2\n",
      "The average silhouette_score is : 0.9391587292684048\n",
      "For n_clusters = 3\n",
      "The average silhouette_score is : 0.9387509756739723\n",
      "For n_clusters = 4\n",
      "The average silhouette_score is : 0.9572655847841218\n",
      "For n_clusters = 5\n",
      "The average silhouette_score is : 0.9587921875812483\n",
      "For n_clusters = 6\n",
      "The average silhouette_score is : 0.9599571633976804\n",
      "For n_clusters = 7\n",
      "The average silhouette_score is : 0.9636401928875066\n",
      "For n_clusters = 8\n",
      "The average silhouette_score is : 0.96298253680674\n",
      "For n_clusters = 9\n",
      "The average silhouette_score is : 0.9656566867194585\n",
      "For n_clusters = 10\n",
      "The average silhouette_score is : 0.9681803520331517\n",
      "For n_clusters = 11\n",
      "The average silhouette_score is : 0.969167983419714\n",
      "For n_clusters = 12\n",
      "The average silhouette_score is : 0.9691501090393507\n",
      "For n_clusters = 13\n",
      "The average silhouette_score is : 0.9690542564670268\n",
      "For n_clusters = 14\n",
      "The average silhouette_score is : 0.9722498302771104\n",
      "For n_clusters = 15\n",
      "The average silhouette_score is : 0.9721369199836163\n",
      "For n_clusters = 16\n",
      "The average silhouette_score is : 0.9742727667683517\n",
      "For n_clusters = 17\n",
      "The average silhouette_score is : 0.9748096832461361\n",
      "For n_clusters = 18\n",
      "The average silhouette_score is : 0.976302833778058\n",
      "For n_clusters = 19\n",
      "The average silhouette_score is : 0.9762892419126566\n"
     ]
    }
   ],
   "source": [
    "err=[]\n",
    "mycluster2 = np.arange(2,20)\n",
    "for f in mycluster2:\n",
    "    model = KMeans(n_clusters=f, random_state = 42)\n",
    "    model.fit(means_df)\n",
    "    sil_avg = silhouette_score(means_df, model.labels_)\n",
    "    print(\"For n_clusters =\", f)\n",
    "    print(\"The average silhouette_score is :\",sil_avg)"
   ]
  },
  {
   "cell_type": "code",
   "execution_count": 159,
   "id": "6c453efe-23b1-456d-a1ff-5d774d64bcf7",
   "metadata": {},
   "outputs": [],
   "source": [
    "for myclust in mycluster2:\n",
    "    model=KMeans(n_clusters= myclust, random_state=42)\n",
    "    model.fit(means_df)\n",
    "    sil_avg=silhouette_score(means_df, model.labels_)\n",
    "    "
   ]
  },
  {
   "cell_type": "code",
   "execution_count": 160,
   "id": "09ca7c7f-682d-4ed9-972b-60131c514f88",
   "metadata": {},
   "outputs": [],
   "source": [
    "#final value of k is 18"
   ]
  },
  {
   "cell_type": "code",
   "execution_count": 161,
   "id": "697db99a-2584-4350-a916-365cb3d997fe",
   "metadata": {},
   "outputs": [
    {
     "name": "stdout",
     "output_type": "stream",
     "text": [
      "final centroids are [[  0.02015816  -0.13327674]\n",
      " [  0.02015816   4.66952766]\n",
      " [ -4.29010338  -0.79966585]\n",
      " [  5.40798507  -0.87370909]\n",
      " [ -3.21253799   9.07209836]\n",
      " [ -6.44523414   3.06859286]\n",
      " [  1.09772354   7.07092986]\n",
      " [  3.791637     2.26812546]\n",
      " [  1.63650623   0.06684011]\n",
      " [ -1.59618992  -0.78794472]\n",
      " [  1.09772354   9.07209836]\n",
      " [ -3.21253799  -0.2266646 ]\n",
      " [ -6.98401683  -0.7669801 ]\n",
      " [ 11.33459468  -0.13327674]\n",
      " [  2.71407161   3.06859286]\n",
      " [  3.791637    -0.13327674]\n",
      " [  6.48555045  -0.33339359]\n",
      " [ -5.36766876  -0.56352797]\n",
      " [  2.71407161  -0.66558756]\n",
      " [ -2.6737553   -0.63231814]\n",
      " [  1.63650623  -0.65358055]\n",
      " [ -4.29010338   7.07092986]\n",
      " [  4.33041969   1.86789176]\n",
      " [-11.29427837  -0.83368572]\n",
      " [ -4.29010338   0.86730751]\n",
      " [  1.09772354   2.66835916]\n",
      " [  5.94676776  -0.13327674]\n",
      " [ -5.90645145   1.06742436]\n",
      " [  9.17946391  -0.13327674]\n",
      " [ -1.59618992  -0.16662955]\n",
      " [ -3.75132069  -0.65929817]\n",
      " [  1.09772354  -0.18330595]\n",
      " [  0.55894085   3.86906026]\n",
      " [ -2.6737553    7.07092986]\n",
      " [ -2.6737553   11.07326686]\n",
      " [  5.40798507   2.66835916]\n",
      " [ -2.6737553    1.06742436]\n",
      " [  4.33041969  -0.67359224]\n",
      " [ -3.21253799   0.26695696]\n",
      " [  0.02015816  -0.85703268]\n",
      " [  5.40798507  -0.13327674]\n",
      " [  0.02015816   4.26929396]\n",
      " [  2.17528892   1.06742436]\n",
      " [  1.09772354  -0.59854842]\n",
      " [  7.56311584  -0.13327674]\n",
      " [ -6.98401683   1.06742436]\n",
      " [  4.33041969  -0.13327674]\n",
      " [ -0.51862454  -0.4534637 ]\n",
      " [ -4.29010338  -0.03321832]\n",
      " [  5.40798507   0.66719066]\n",
      " [  1.09772354   0.66719066]\n",
      " [  3.791637    -0.86370324]\n",
      " [ -2.13497261  -0.03321832]\n",
      " [  4.33041969   3.06859286]\n",
      " [ -1.59618992   0.66719066]\n",
      " [  2.17528892  -0.13327674]\n",
      " [ -5.36766876  -0.13327674]\n",
      " [  0.55894085  -0.77365066]\n",
      " [  3.2528543   -0.84369156]\n",
      " [ -2.6737553   -0.13327674]\n",
      " [  2.17528892  -0.88371493]\n",
      " [ -3.75132069  -0.03321832]\n",
      " [  0.55894085   2.26812546]\n",
      " [  4.33041969   0.46707381]\n",
      " [  1.09772354   3.86906026]\n",
      " [ -4.82888607  -0.5935455 ]\n",
      " [  5.94676776  -0.8536974 ]\n",
      " [ -5.90645145  -0.89372077]\n",
      " [ -3.21253799  -0.60355134]\n",
      " [ -1.05740723  -0.13327674]\n",
      " [  4.86920238  -0.57353381]\n",
      " [ -5.90645145  -0.13327674]\n",
      " [ -4.82888607   1.06742436]\n",
      " [  0.55894085  -0.13327674]\n",
      " [  2.71407161  -0.13327674]\n",
      " [ -6.98401683  -0.33339359]\n",
      " [  1.63650623  -0.53351044]\n",
      " [ -3.75132069  -0.81145051]\n",
      " [ -0.51862454  -0.80366819]\n",
      " [  0.02015816  -0.53351044]\n",
      " [  0.02015816   5.06976136]\n",
      " [ -0.51862454  -0.13327674]]\n",
      "final labels are [ 0  0  0 ... 78  2  0]\n",
      "errors are 0.5061290685991531\n",
      "for n_cluster= 19 calinski_harabasz_score is: 1109853.1570063708\n",
      "for n_cluster= 19 davies_bouldin_scoreis: 0.11824299268856615\n"
     ]
    }
   ],
   "source": [
    "final_km=KMeans(n_clusters=82, random_state=42)\n",
    "final_km.fit(means_df)\n",
    "final_centroid=final_km.cluster_centers_\n",
    "print(\"final centroids are\",final_centroid)\n",
    "final_labels=final_km.labels_\n",
    "print(\"final labels are\",final_labels)\n",
    "print(\"errors are\",final_km.inertia_) \n",
    "print(\"for n_cluster=\",myclust, \"calinski_harabasz_score is:\",calinski_harabasz_score(means_df, final_km.labels_)) \n",
    "print(\"for n_cluster=\",myclust, \"davies_bouldin_scoreis:\",davies_bouldin_score(means_df, final_km.labels_)) \n"
   ]
  },
  {
   "cell_type": "code",
   "execution_count": 162,
   "id": "b41bc65e-e23b-4584-98b6-40762dc2ad17",
   "metadata": {},
   "outputs": [
    {
     "data": {
      "image/png": "[encoded data removed]",
      "text/plain": [
       "<Figure size 800x550 with 1 Axes>"
      ]
     },
     "metadata": {},
     "output_type": "display_data"
    }
   ],
   "source": [
    "vis=SilhouetteVisualizer(final_km)\n",
    "vis.fit(means_df);"
   ]
  },
  {
   "cell_type": "code",
   "execution_count": 163,
   "id": "1ae0e6b3-722d-4368-8b88-9603e82ea08b",
   "metadata": {},
   "outputs": [
    {
     "data": {
      "text/html": [
       "<div>\n",
       "<style scoped>\n",
       "    .dataframe tbody tr th:only-of-type {\n",
       "        vertical-align: middle;\n",
       "    }\n",
       "\n",
       "    .dataframe tbody tr th {\n",
       "        vertical-align: top;\n",
       "    }\n",
       "\n",
       "    .dataframe thead th {\n",
       "        text-align: right;\n",
       "    }\n",
       "</style>\n",
       "<table border=\"1\" class=\"dataframe\">\n",
       "  <thead>\n",
       "    <tr style=\"text-align: right;\">\n",
       "      <th></th>\n",
       "      <th>height_in_cm</th>\n",
       "      <th>market_value_in_eur</th>\n",
       "    </tr>\n",
       "  </thead>\n",
       "  <tbody>\n",
       "    <tr>\n",
       "      <th>0</th>\n",
       "      <td>0.020158</td>\n",
       "      <td>-0.133277</td>\n",
       "    </tr>\n",
       "    <tr>\n",
       "      <th>1</th>\n",
       "      <td>0.020158</td>\n",
       "      <td>-0.133277</td>\n",
       "    </tr>\n",
       "    <tr>\n",
       "      <th>2</th>\n",
       "      <td>0.020158</td>\n",
       "      <td>-0.133277</td>\n",
       "    </tr>\n",
       "    <tr>\n",
       "      <th>3</th>\n",
       "      <td>0.020158</td>\n",
       "      <td>-0.133277</td>\n",
       "    </tr>\n",
       "    <tr>\n",
       "      <th>4</th>\n",
       "      <td>0.020158</td>\n",
       "      <td>-0.133277</td>\n",
       "    </tr>\n",
       "    <tr>\n",
       "      <th>...</th>\n",
       "      <td>...</td>\n",
       "      <td>...</td>\n",
       "    </tr>\n",
       "    <tr>\n",
       "      <th>4806</th>\n",
       "      <td>5.407985</td>\n",
       "      <td>0.667191</td>\n",
       "    </tr>\n",
       "    <tr>\n",
       "      <th>4807</th>\n",
       "      <td>2.714072</td>\n",
       "      <td>-0.133277</td>\n",
       "    </tr>\n",
       "    <tr>\n",
       "      <th>4808</th>\n",
       "      <td>-0.518625</td>\n",
       "      <td>-0.813674</td>\n",
       "    </tr>\n",
       "    <tr>\n",
       "      <th>4809</th>\n",
       "      <td>-4.290103</td>\n",
       "      <td>-0.773651</td>\n",
       "    </tr>\n",
       "    <tr>\n",
       "      <th>4810</th>\n",
       "      <td>0.020158</td>\n",
       "      <td>-0.133277</td>\n",
       "    </tr>\n",
       "  </tbody>\n",
       "</table>\n",
       "<p>4811 rows × 2 columns</p>\n",
       "</div>"
      ],
      "text/plain": [
       "      height_in_cm  market_value_in_eur\n",
       "0         0.020158            -0.133277\n",
       "1         0.020158            -0.133277\n",
       "2         0.020158            -0.133277\n",
       "3         0.020158            -0.133277\n",
       "4         0.020158            -0.133277\n",
       "...            ...                  ...\n",
       "4806      5.407985             0.667191\n",
       "4807      2.714072            -0.133277\n",
       "4808     -0.518625            -0.813674\n",
       "4809     -4.290103            -0.773651\n",
       "4810      0.020158            -0.133277\n",
       "\n",
       "[4811 rows x 2 columns]"
      ]
     },
     "execution_count": 163,
     "metadata": {},
     "output_type": "execute_result"
    }
   ],
   "source": [
    "means_df1=pd.DataFrame(means_df)\n",
    "means_df1"
   ]
  },
  {
   "cell_type": "code",
   "execution_count": 164,
   "id": "cbf98b83-59cd-4eca-89b4-f79d81b2c7ac",
   "metadata": {},
   "outputs": [],
   "source": [
    "means_df1[\"group\"]=final_km.labels_"
   ]
  },
  {
   "cell_type": "code",
   "execution_count": 165,
   "id": "f5d63262-4988-4ed8-a212-0d7fc8c0e11c",
   "metadata": {},
   "outputs": [
    {
     "data": {
      "text/html": [
       "<div>\n",
       "<style scoped>\n",
       "    .dataframe tbody tr th:only-of-type {\n",
       "        vertical-align: middle;\n",
       "    }\n",
       "\n",
       "    .dataframe tbody tr th {\n",
       "        vertical-align: top;\n",
       "    }\n",
       "\n",
       "    .dataframe thead th {\n",
       "        text-align: right;\n",
       "    }\n",
       "</style>\n",
       "<table border=\"1\" class=\"dataframe\">\n",
       "  <thead>\n",
       "    <tr style=\"text-align: right;\">\n",
       "      <th></th>\n",
       "      <th>height_in_cm</th>\n",
       "      <th>market_value_in_eur</th>\n",
       "      <th>group</th>\n",
       "    </tr>\n",
       "  </thead>\n",
       "  <tbody>\n",
       "    <tr>\n",
       "      <th>0</th>\n",
       "      <td>0.020158</td>\n",
       "      <td>-0.133277</td>\n",
       "      <td>0</td>\n",
       "    </tr>\n",
       "    <tr>\n",
       "      <th>1</th>\n",
       "      <td>0.020158</td>\n",
       "      <td>-0.133277</td>\n",
       "      <td>0</td>\n",
       "    </tr>\n",
       "    <tr>\n",
       "      <th>2</th>\n",
       "      <td>0.020158</td>\n",
       "      <td>-0.133277</td>\n",
       "      <td>0</td>\n",
       "    </tr>\n",
       "    <tr>\n",
       "      <th>3</th>\n",
       "      <td>0.020158</td>\n",
       "      <td>-0.133277</td>\n",
       "      <td>0</td>\n",
       "    </tr>\n",
       "    <tr>\n",
       "      <th>4</th>\n",
       "      <td>0.020158</td>\n",
       "      <td>-0.133277</td>\n",
       "      <td>0</td>\n",
       "    </tr>\n",
       "    <tr>\n",
       "      <th>...</th>\n",
       "      <td>...</td>\n",
       "      <td>...</td>\n",
       "      <td>...</td>\n",
       "    </tr>\n",
       "    <tr>\n",
       "      <th>4806</th>\n",
       "      <td>5.407985</td>\n",
       "      <td>0.667191</td>\n",
       "      <td>49</td>\n",
       "    </tr>\n",
       "    <tr>\n",
       "      <th>4807</th>\n",
       "      <td>2.714072</td>\n",
       "      <td>-0.133277</td>\n",
       "      <td>74</td>\n",
       "    </tr>\n",
       "    <tr>\n",
       "      <th>4808</th>\n",
       "      <td>-0.518625</td>\n",
       "      <td>-0.813674</td>\n",
       "      <td>78</td>\n",
       "    </tr>\n",
       "    <tr>\n",
       "      <th>4809</th>\n",
       "      <td>-4.290103</td>\n",
       "      <td>-0.773651</td>\n",
       "      <td>2</td>\n",
       "    </tr>\n",
       "    <tr>\n",
       "      <th>4810</th>\n",
       "      <td>0.020158</td>\n",
       "      <td>-0.133277</td>\n",
       "      <td>0</td>\n",
       "    </tr>\n",
       "  </tbody>\n",
       "</table>\n",
       "<p>4811 rows × 3 columns</p>\n",
       "</div>"
      ],
      "text/plain": [
       "      height_in_cm  market_value_in_eur  group\n",
       "0         0.020158            -0.133277      0\n",
       "1         0.020158            -0.133277      0\n",
       "2         0.020158            -0.133277      0\n",
       "3         0.020158            -0.133277      0\n",
       "4         0.020158            -0.133277      0\n",
       "...            ...                  ...    ...\n",
       "4806      5.407985             0.667191     49\n",
       "4807      2.714072            -0.133277     74\n",
       "4808     -0.518625            -0.813674     78\n",
       "4809     -4.290103            -0.773651      2\n",
       "4810      0.020158            -0.133277      0\n",
       "\n",
       "[4811 rows x 3 columns]"
      ]
     },
     "execution_count": 165,
     "metadata": {},
     "output_type": "execute_result"
    }
   ],
   "source": [
    "means_df1"
   ]
  },
  {
   "cell_type": "code",
   "execution_count": 166,
   "id": "e1440dcb-6fca-4ea8-a555-69aab02c1cd8",
   "metadata": {},
   "outputs": [
    {
     "data": {
      "text/plain": [
       "array([[  0.02015816,  -0.13327674],\n",
       "       [  0.02015816,   4.66952766],\n",
       "       [ -4.29010338,  -0.79966585],\n",
       "       [  5.40798507,  -0.87370909],\n",
       "       [ -3.21253799,   9.07209836],\n",
       "       [ -6.44523414,   3.06859286],\n",
       "       [  1.09772354,   7.07092986],\n",
       "       [  3.791637  ,   2.26812546],\n",
       "       [  1.63650623,   0.06684011],\n",
       "       [ -1.59618992,  -0.78794472],\n",
       "       [  1.09772354,   9.07209836],\n",
       "       [ -3.21253799,  -0.2266646 ],\n",
       "       [ -6.98401683,  -0.7669801 ],\n",
       "       [ 11.33459468,  -0.13327674],\n",
       "       [  2.71407161,   3.06859286],\n",
       "       [  3.791637  ,  -0.13327674],\n",
       "       [  6.48555045,  -0.33339359],\n",
       "       [ -5.36766876,  -0.56352797],\n",
       "       [  2.71407161,  -0.66558756],\n",
       "       [ -2.6737553 ,  -0.63231814],\n",
       "       [  1.63650623,  -0.65358055],\n",
       "       [ -4.29010338,   7.07092986],\n",
       "       [  4.33041969,   1.86789176],\n",
       "       [-11.29427837,  -0.83368572],\n",
       "       [ -4.29010338,   0.86730751],\n",
       "       [  1.09772354,   2.66835916],\n",
       "       [  5.94676776,  -0.13327674],\n",
       "       [ -5.90645145,   1.06742436],\n",
       "       [  9.17946391,  -0.13327674],\n",
       "       [ -1.59618992,  -0.16662955],\n",
       "       [ -3.75132069,  -0.65929817],\n",
       "       [  1.09772354,  -0.18330595],\n",
       "       [  0.55894085,   3.86906026],\n",
       "       [ -2.6737553 ,   7.07092986],\n",
       "       [ -2.6737553 ,  11.07326686],\n",
       "       [  5.40798507,   2.66835916],\n",
       "       [ -2.6737553 ,   1.06742436],\n",
       "       [  4.33041969,  -0.67359224],\n",
       "       [ -3.21253799,   0.26695696],\n",
       "       [  0.02015816,  -0.85703268],\n",
       "       [  5.40798507,  -0.13327674],\n",
       "       [  0.02015816,   4.26929396],\n",
       "       [  2.17528892,   1.06742436],\n",
       "       [  1.09772354,  -0.59854842],\n",
       "       [  7.56311584,  -0.13327674],\n",
       "       [ -6.98401683,   1.06742436],\n",
       "       [  4.33041969,  -0.13327674],\n",
       "       [ -0.51862454,  -0.4534637 ],\n",
       "       [ -4.29010338,  -0.03321832],\n",
       "       [  5.40798507,   0.66719066],\n",
       "       [  1.09772354,   0.66719066],\n",
       "       [  3.791637  ,  -0.86370324],\n",
       "       [ -2.13497261,  -0.03321832],\n",
       "       [  4.33041969,   3.06859286],\n",
       "       [ -1.59618992,   0.66719066],\n",
       "       [  2.17528892,  -0.13327674],\n",
       "       [ -5.36766876,  -0.13327674],\n",
       "       [  0.55894085,  -0.77365066],\n",
       "       [  3.2528543 ,  -0.84369156],\n",
       "       [ -2.6737553 ,  -0.13327674],\n",
       "       [  2.17528892,  -0.88371493],\n",
       "       [ -3.75132069,  -0.03321832],\n",
       "       [  0.55894085,   2.26812546],\n",
       "       [  4.33041969,   0.46707381],\n",
       "       [  1.09772354,   3.86906026],\n",
       "       [ -4.82888607,  -0.5935455 ],\n",
       "       [  5.94676776,  -0.8536974 ],\n",
       "       [ -5.90645145,  -0.89372077],\n",
       "       [ -3.21253799,  -0.60355134],\n",
       "       [ -1.05740723,  -0.13327674],\n",
       "       [  4.86920238,  -0.57353381],\n",
       "       [ -5.90645145,  -0.13327674],\n",
       "       [ -4.82888607,   1.06742436],\n",
       "       [  0.55894085,  -0.13327674],\n",
       "       [  2.71407161,  -0.13327674],\n",
       "       [ -6.98401683,  -0.33339359],\n",
       "       [  1.63650623,  -0.53351044],\n",
       "       [ -3.75132069,  -0.81145051],\n",
       "       [ -0.51862454,  -0.80366819],\n",
       "       [  0.02015816,  -0.53351044],\n",
       "       [  0.02015816,   5.06976136],\n",
       "       [ -0.51862454,  -0.13327674]])"
      ]
     },
     "execution_count": 166,
     "metadata": {},
     "output_type": "execute_result"
    }
   ],
   "source": [
    "final_km.cluster_centers_"
   ]
  },
  {
   "cell_type": "code",
   "execution_count": 167,
   "id": "44aa7a5b-33ed-4cc3-9d10-5791b6492941",
   "metadata": {},
   "outputs": [
    {
     "data": {
      "text/plain": [
       "<matplotlib.collections.PathCollection at 0x2dfbdd9f350>"
      ]
     },
     "execution_count": 167,
     "metadata": {},
     "output_type": "execute_result"
    },
    {
     "data": {
      "image/png": "[encoded data removed]",
      "text/plain": [
       "<Figure size 800x550 with 1 Axes>"
      ]
     },
     "metadata": {},
     "output_type": "display_data"
    }
   ],
   "source": [
    "plt.scatter( means_df1['height_in_cm'], means_df1['market_value_in_eur'],c = final_km.labels_)"
   ]
  }
 ],
 "metadata": {
  "kernelspec": {
   "display_name": "Python 3 (ipykernel)",
   "language": "python",
   "name": "python3"
  },
  "language_info": {
   "codemirror_mode": {
    "name": "ipython",
    "version": 3
   },
   "file_extension": ".py",
   "mimetype": "text/x-python",
   "name": "python",
   "nbconvert_exporter": "python",
   "pygments_lexer": "ipython3",
   "version": "3.11.7"
  }
 },
 "nbformat": 4,
 "nbformat_minor": 5
}
